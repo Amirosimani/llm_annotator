{
 "cells": [
  {
   "cell_type": "markdown",
   "metadata": {},
   "source": [
    "# TODO:\n",
    "- ~~enforce output format for gemini~~\n",
    "- llama, gpt, claude\n",
    "- add evaluation if there is a golden set for individual model + compare result with other LLMs\n",
    "- aggregation strategy\n",
    "- add for multi-class/ner\n",
    "- add images\n",
    "- add result/eval visualization\n",
    "\n",
    "\n",
    "nice things to do:\n",
    "- add tqdm to asyncio calls\n",
    "- proper logging"
   ]
  },
  {
   "cell_type": "code",
   "execution_count": 1,
   "metadata": {},
   "outputs": [
    {
     "name": "stderr",
     "output_type": "stream",
     "text": [
      "/usr/local/google/home/amirimani/Desktop/projects/LLMTest_NeedleInAHaystack/.venv/lib/python3.11/site-packages/tqdm/auto.py:21: TqdmWarning: IProgress not found. Please update jupyter and ipywidgets. See https://ipywidgets.readthedocs.io/en/stable/user_install.html\n",
      "  from .autonotebook import tqdm as notebook_tqdm\n"
     ]
    }
   ],
   "source": [
    "from utils import Annotate, Evaluate\n",
    "from datasets import load_dataset\n",
    "\n",
    "seed =42"
   ]
  },
  {
   "cell_type": "code",
   "execution_count": 2,
   "metadata": {},
   "outputs": [],
   "source": [
    "gemini_prompt_template = \"\"\"\n",
    "<data_description>\n",
    "{description}\n",
    "</data_description>\n",
    "-----------\n",
    "\n",
    "<context>\n",
    "{datapoint}\n",
    "</context>\n",
    "------------\n",
    "\n",
    "<labels>\n",
    "{labels}\n",
    "</labels>\n",
    "------------\n",
    "\n",
    "INSTRUCTION:\n",
    "- familirize yourself with the data using data_description\n",
    "- read the context carefully. this is the data point you need to label.\n",
    "- take your time and label the dadatapoint with the most appropriate option using the provided labels.\n",
    "- return the result as a single label from the <labels>. Don't provide explanations\n",
    "\"\"\""
   ]
  },
  {
   "cell_type": "code",
   "execution_count": 3,
   "metadata": {},
   "outputs": [],
   "source": [
    "dataset = load_dataset(\"yelp_polarity\", split=\"train\") # https://huggingface.co/datasets/yelp_polarity\n",
    "\n",
    "# take a small sample for dev purposes\n",
    "dataset_sample = dataset.shuffle(seed=seed).select(range(1000))\n",
    "\n",
    "# user provided data description\n",
    "DESCRIPTION = \"\"\"\n",
    "This is a dataset for binary sentiment classification.\n",
    "It contains highly polar yelp reviews.\n",
    "Negative polarity is class 0, and positive class 1.\n",
    "\"\"\"\n",
    "\n",
    "LABEL_SET = [0, 1] "
   ]
  },
  {
   "cell_type": "code",
   "execution_count": 4,
   "metadata": {},
   "outputs": [
    {
     "data": {
      "text/plain": [
       "5"
      ]
     },
     "execution_count": 4,
     "metadata": {},
     "output_type": "execute_result"
    }
   ],
   "source": [
    "prompt = [gemini_prompt_template.format(description= DESCRIPTION,\n",
    "                                        datapoint=x,\n",
    "                                        labels=LABEL_SET) for x in dataset_sample[\"text\"][:5]]\n",
    "len(prompt)"
   ]
  },
  {
   "cell_type": "code",
   "execution_count": 5,
   "metadata": {},
   "outputs": [],
   "source": [
    "ann = Annotate()\n",
    "eval = Evaluate()"
   ]
  },
  {
   "cell_type": "code",
   "execution_count": 6,
   "metadata": {},
   "outputs": [
    {
     "name": "stdout",
     "output_type": "stream",
     "text": [
      "[1, 0, 0, 1, 1]\n"
     ]
    }
   ],
   "source": [
    "# gemini\n",
    "result = await ann.TextClassification(prompt, model=\"gemini\")"
   ]
  },
  {
   "cell_type": "code",
   "execution_count": 8,
   "metadata": {},
   "outputs": [
    {
     "name": "stdout",
     "output_type": "stream",
     "text": [
      "[1, 0, 0, 1, 1]\n"
     ]
    }
   ],
   "source": [
    "# claude haiku\n",
    "result = await ann.TextClassification(prompt, model=\"claude\")"
   ]
  },
  {
   "cell_type": "code",
   "execution_count": 9,
   "metadata": {},
   "outputs": [
    {
     "data": {
      "text/plain": [
       "{'accuracy': 1.0,\n",
       " 'f1_weighted': 1.0,\n",
       " 'confusion_matrix': array([[2, 0],\n",
       "        [0, 3]])}"
      ]
     },
     "execution_count": 9,
     "metadata": {},
     "output_type": "execute_result"
    }
   ],
   "source": [
    "eval.TextClfWithGT(y_true= dataset_sample[\"label\"][:5],\n",
    "                   y_pred=result)"
   ]
  },
  {
   "cell_type": "markdown",
   "metadata": {},
   "source": [
    "## anthropic"
   ]
  },
  {
   "cell_type": "code",
   "execution_count": null,
   "metadata": {},
   "outputs": [],
   "source": [
    "from anthropic import AnthropicVertex\n"
   ]
  },
  {
   "cell_type": "code",
   "execution_count": null,
   "metadata": {},
   "outputs": [],
   "source": [
    "claude_config = {\"project_config\": {\"qpm\":60,  # https://cloud.google.com/vertex-ai/generative-ai/docs/partner-models/use-claude\n",
    "                                    \"project\": \"cloud-llm-preview1\",\n",
    "                                    \"location\": \"us-central1\"},\n",
    "                \"generation_config\": \"\"\n",
    "\n",
    "}\n"
   ]
  },
  {
   "cell_type": "code",
   "execution_count": null,
   "metadata": {},
   "outputs": [],
   "source": [
    "LOCATION=\"us-central1\" # or \"europe-west4\"\n",
    "\n",
    "client = AnthropicVertex(region=LOCATION, project_id=\"cloud-llm-preview1\")\n",
    "\n",
    "message = client.messages.create(\n",
    "  max_tokens=1024,\n",
    "  messages=[\n",
    "    {\n",
    "      \"role\": \"user\",\n",
    "      \"content\": prompt[0],\n",
    "    }\n",
    "  ],\n",
    "  model=\"claude-3-haiku@20240307\",\n",
    ")\n",
    "print(message.content[0].text)"
   ]
  },
  {
   "cell_type": "code",
   "execution_count": null,
   "metadata": {},
   "outputs": [],
   "source": [
    "print(message.model_dump_json(indent=2))"
   ]
  },
  {
   "cell_type": "code",
   "execution_count": null,
   "metadata": {},
   "outputs": [],
   "source": []
  }
 ],
 "metadata": {
  "kernelspec": {
   "display_name": ".venv",
   "language": "python",
   "name": "python3"
  },
  "language_info": {
   "codemirror_mode": {
    "name": "ipython",
    "version": 3
   },
   "file_extension": ".py",
   "mimetype": "text/x-python",
   "name": "python",
   "nbconvert_exporter": "python",
   "pygments_lexer": "ipython3",
   "version": "3.11.8"
  }
 },
 "nbformat": 4,
 "nbformat_minor": 2
}
