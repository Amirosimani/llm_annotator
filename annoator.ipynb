{
 "cells": [
  {
   "cell_type": "code",
   "execution_count": 14,
   "metadata": {},
   "outputs": [],
   "source": [
    "from datasets import load_dataset\n",
    "\n",
    "import vertexai\n",
    "from vertexai.generative_models import GenerativeModel\n",
    "import vertexai.preview.generative_models as generative_models\n",
    "\n",
    "seed =42"
   ]
  },
  {
   "cell_type": "code",
   "execution_count": 12,
   "metadata": {},
   "outputs": [],
   "source": [
    "QPM = 3\n",
    "PROJECT = \"amir-genai-bb\"\n",
    "LOCATION = \"us-central1\""
   ]
  },
  {
   "cell_type": "code",
   "execution_count": 39,
   "metadata": {},
   "outputs": [],
   "source": [
    "\n",
    "def gemini_label(prompt):\n",
    "    vertexai.init(project=\"amir-genai-bb\", location=\"us-central1\")\n",
    "    model = GenerativeModel(\"gemini-1.0-pro-002\",\n",
    "                           system_instruction=[\n",
    "                             \"You are a helpful data labeler.\",\n",
    "                             \"Your mission is to label the input data based on the instruction you will receive.\",\n",
    "                             ],\n",
    "                        )\n",
    "    responses = model.generate_content(\n",
    "      [prompt],\n",
    "      generation_config=generation_config,\n",
    "      safety_settings=safety_settings,\n",
    "      stream=False,\n",
    "  )\n",
    "    return(responses.text)\n",
    "\n",
    "\n",
    "generation_config = {\n",
    "    \"max_output_tokens\": 2048,\n",
    "    \"temperature\": 1,\n",
    "    \"top_p\": 1,\n",
    "}\n",
    "\n",
    "safety_settings = {\n",
    "    generative_models.HarmCategory.HARM_CATEGORY_HATE_SPEECH: generative_models.HarmBlockThreshold.BLOCK_MEDIUM_AND_ABOVE,\n",
    "    generative_models.HarmCategory.HARM_CATEGORY_DANGEROUS_CONTENT: generative_models.HarmBlockThreshold.BLOCK_MEDIUM_AND_ABOVE,\n",
    "    generative_models.HarmCategory.HARM_CATEGORY_SEXUALLY_EXPLICIT: generative_models.HarmBlockThreshold.BLOCK_MEDIUM_AND_ABOVE,\n",
    "    generative_models.HarmCategory.HARM_CATEGORY_HARASSMENT: generative_models.HarmBlockThreshold.BLOCK_MEDIUM_AND_ABOVE,\n",
    "}\n"
   ]
  },
  {
   "cell_type": "code",
   "execution_count": 64,
   "metadata": {},
   "outputs": [],
   "source": [
    "gemini_prompt_template = \"\"\"\n",
    "<data_description>\n",
    "{description}\n",
    "</data_description>\n",
    "-----------\n",
    "\n",
    "<context>\n",
    "{datapoint}\n",
    "</context>\n",
    "------------\n",
    "\n",
    "<labels>\n",
    "{labels}\n",
    "</labels>\n",
    "------------\n",
    "\n",
    "INSTRUCTION:\n",
    "- familirize yourself with the data using data_description\n",
    "- read the context carefully. this is the data point you need to label.\n",
    "- take your time and label the dadatapoint with the most appropriate option using the provided labels.\n",
    "- return the result as a single label from the <labels>. Don't provide explanations\n",
    "\"\"\""
   ]
  },
  {
   "cell_type": "code",
   "execution_count": 68,
   "metadata": {},
   "outputs": [],
   "source": [
    "dataset = load_dataset(\"yelp_polarity\", split=\"train\") # https://huggingface.co/datasets/yelp_polarity\n",
    "\n",
    "# take a small sample for dev purposes\n",
    "dataset_sample = dataset.shuffle(seed=seed).select(range(1000))\n",
    "\n",
    "# user provided data description\n",
    "DESCRIPTION = \"\"\"\n",
    "This is a dataset for binary sentiment classification.\n",
    "It contains highly polar yelp reviews.\n",
    "Negative polarity is class 0, and positive class 1.\n",
    "\"\"\"\n",
    "i = 100\n",
    "datapoint = dataset_sample[\"text\"][i]\n",
    "\n",
    "LABEL_SET = [0, 1] "
   ]
  },
  {
   "cell_type": "code",
   "execution_count": 69,
   "metadata": {},
   "outputs": [
    {
     "data": {
      "text/plain": [
       "('0', 0)"
      ]
     },
     "execution_count": 69,
     "metadata": {},
     "output_type": "execute_result"
    }
   ],
   "source": [
    "prompt = gemini_prompt_template.format(description= DESCRIPTION,\n",
    "                              datapoint=datapoint,\n",
    "                              labels=LABEL_SET)\n",
    "\n",
    "\n",
    "gemini_label(prompt), dataset_sample[\"label\"][i]"
   ]
  }
 ],
 "metadata": {
  "kernelspec": {
   "display_name": ".venv",
   "language": "python",
   "name": "python3"
  },
  "language_info": {
   "codemirror_mode": {
    "name": "ipython",
    "version": 3
   },
   "file_extension": ".py",
   "mimetype": "text/x-python",
   "name": "python",
   "nbconvert_exporter": "python",
   "pygments_lexer": "ipython3",
   "version": "3.11.8"
  }
 },
 "nbformat": 4,
 "nbformat_minor": 2
}
