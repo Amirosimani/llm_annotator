{
 "cells": [
  {
   "cell_type": "markdown",
   "metadata": {},
   "source": [
    "# TODO:\n",
    "### NOW:\n",
    "- ~~enforce output format for gemini~~\n",
    "- llama, gpt, ~~claude~~\n",
    "- ~~add evaluation if there is a golden set for individual model~~\n",
    "- ~~compare result with other LLMs (pairwise vs majority)~~\n",
    "   - grey out the majority vote\n",
    "   - bug with PairwiseComparison -include_majority [ ignore this for now]\n",
    "- aggregation strategy and tie breaking\n",
    "   - multiclass classification: majority vote, baysian approach with GT\n",
    "      - provide X labeles per class\n",
    "- add for multi-label/ner\n",
    "- add images\n",
    "- add result/eval visualization\n",
    "\n",
    "\n",
    "### LATER:\n",
    "- secret management\n",
    "- send concurrent calls to all models at once\n",
    "- update readme\n",
    "\n",
    "\n",
    "### nice things to do:\n",
    "- add tqdm to asyncio calls\n",
    "- proper logging"
   ]
  },
  {
   "cell_type": "code",
   "execution_count": null,
   "metadata": {},
   "outputs": [],
   "source": [
    "from utils import Annotate, Evaluate\n",
    "from datasets import load_dataset\n",
    "\n",
    "seed =42"
   ]
  },
  {
   "cell_type": "code",
   "execution_count": null,
   "metadata": {},
   "outputs": [],
   "source": [
    "gemini_prompt_template = \"\"\"\n",
    "<data_description>\n",
    "{description}\n",
    "</data_description>\n",
    "-----------\n",
    "\n",
    "<context>\n",
    "{datapoint}\n",
    "</context>\n",
    "------------\n",
    "\n",
    "<labels>\n",
    "{labels}\n",
    "</labels>\n",
    "------------\n",
    "\n",
    "INSTRUCTION:\n",
    "- familirize yourself with the data using data_description\n",
    "- read the context carefully. this is the data point you need to label.\n",
    "- take your time and label the dadatapoint with the most appropriate option using the provided labels.\n",
    "- return the result as a single label from the <labels>. Don't provide explanations\n",
    "\"\"\""
   ]
  },
  {
   "cell_type": "code",
   "execution_count": null,
   "metadata": {},
   "outputs": [],
   "source": [
    "dataset = load_dataset(\"yelp_polarity\", split=\"train\") # https://huggingface.co/datasets/yelp_polarity\n",
    "\n",
    "# take a small sample for dev purposes\n",
    "dataset_sample = dataset.shuffle(seed=seed).select(range(1000))\n",
    "\n",
    "# user provided data description\n",
    "DESCRIPTION = \"\"\"\n",
    "This is a dataset for binary sentiment classification.\n",
    "It contains highly polar yelp reviews.\n",
    "Negative polarity is class 0, and positive class 1.\n",
    "\"\"\"\n",
    "\n",
    "LABEL_SET = [0, 1] "
   ]
  },
  {
   "cell_type": "code",
   "execution_count": null,
   "metadata": {},
   "outputs": [],
   "source": [
    "prompt = [gemini_prompt_template.format(description= DESCRIPTION,\n",
    "                                        datapoint=x,\n",
    "                                        labels=LABEL_SET) for x in dataset_sample[\"text\"][:5]]\n",
    "len(prompt)"
   ]
  },
  {
   "cell_type": "code",
   "execution_count": null,
   "metadata": {},
   "outputs": [],
   "source": [
    "ann = Annotate()\n",
    "\n",
    "VALID_MODELS = [\"gemini\", \"claude\"]"
   ]
  },
  {
   "cell_type": "code",
   "execution_count": null,
   "metadata": {},
   "outputs": [],
   "source": [
    "# gemini\n",
    "result_gemini = await ann.TextClassification(prompt, model=\"gemini\")"
   ]
  },
  {
   "cell_type": "code",
   "execution_count": null,
   "metadata": {},
   "outputs": [],
   "source": [
    "# claude haiku\n",
    "result_claude = await ann.TextClassification(prompt, model=\"claude\")"
   ]
  },
  {
   "cell_type": "code",
   "execution_count": null,
   "metadata": {},
   "outputs": [],
   "source": [
    "all_results = [result_gemini, result_claude]\n"
   ]
  },
  {
   "cell_type": "markdown",
   "metadata": {},
   "source": [
    "## evaluate"
   ]
  },
  {
   "cell_type": "code",
   "execution_count": 1,
   "metadata": {},
   "outputs": [],
   "source": [
    "from utils import Evaluate\n",
    "\n",
    "eval = Evaluate()"
   ]
  },
  {
   "cell_type": "code",
   "execution_count": 9,
   "metadata": {},
   "outputs": [],
   "source": [
    "labels = [\"a\", \"b\", \"c\"]\n",
    "all_results = [[1, 1, 0, 0, 1], [0, 0, 0, 1, 1], [0, 1, 0, 0, 1]]"
   ]
  },
  {
   "cell_type": "code",
   "execution_count": 10,
   "metadata": {},
   "outputs": [
    {
     "data": {
      "text/plain": [
       "[0, 1, 0, 0, 1]"
      ]
     },
     "execution_count": 10,
     "metadata": {},
     "output_type": "execute_result"
    }
   ],
   "source": [
    "eval._GetMajorityVote(all_results)"
   ]
  },
  {
   "cell_type": "code",
   "execution_count": 7,
   "metadata": {},
   "outputs": [
    {
     "data": {
      "image/png": "[encoded data removed]",
      "text/plain": [
       "<Figure size 800x600 with 1 Axes>"
      ]
     },
     "metadata": {},
     "output_type": "display_data"
    },
    {
     "data": {
      "text/plain": [
       "[[False, False, True, False, True],\n",
       " [False, True, True, True, True],\n",
       " [False, True, True, True, True],\n",
       " [True, False, True, False, True],\n",
       " [True, False, True, False, True],\n",
       " [True, True, True, True, True]]"
      ]
     },
     "execution_count": 7,
     "metadata": {},
     "output_type": "execute_result"
    }
   ],
   "source": [
    "e = eval.PairwiseComparison(all_results, include_majority=True, visualize=True, y_labels=[\"gemini\", \"claude\", \"llama\"])\n",
    "e"
   ]
  },
  {
   "cell_type": "code",
   "execution_count": null,
   "metadata": {},
   "outputs": [],
   "source": [
    "eval.visualize_boolean_array(e, y_labels=[\"gemini\", \"claude\", \"majority\"])"
   ]
  },
  {
   "cell_type": "code",
   "execution_count": null,
   "metadata": {},
   "outputs": [],
   "source": []
  },
  {
   "cell_type": "code",
   "execution_count": null,
   "metadata": {},
   "outputs": [],
   "source": []
  }
 ],
 "metadata": {
  "kernelspec": {
   "display_name": ".venv",
   "language": "python",
   "name": "python3"
  },
  "language_info": {
   "codemirror_mode": {
    "name": "ipython",
    "version": 3
   },
   "file_extension": ".py",
   "mimetype": "text/x-python",
   "name": "python",
   "nbconvert_exporter": "python",
   "pygments_lexer": "ipython3",
   "version": "3.11.8"
  }
 },
 "nbformat": 4,
 "nbformat_minor": 2
}
