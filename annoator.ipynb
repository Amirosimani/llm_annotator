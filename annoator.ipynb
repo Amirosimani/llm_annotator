{
 "cells": [
  {
   "cell_type": "markdown",
   "metadata": {},
   "source": [
    "# TODO:\n",
    "### NOW:\n",
    "- ~~enforce output format for gemini~~\n",
    "- llama, gpt, ~~claude~~\n",
    "   - ~~send concurrent calls to all models at once~~\n",
    "- ~~add evaluation if there is a golden set for individual model~~\n",
    "- aggregation strategy\n",
    "   - multiclass classification: \n",
    "      - ~~majority vote~~, add tie breaking strategy\n",
    "      - ~~baysian approach with GT~~\n",
    "      - provide X labels per class\n",
    "      - what if labels are not int?\n",
    "- evaluate\n",
    "   - bug in glad evaluation. make sure the labels are int\n",
    "- repeat the same thing for multi-label/ner\n",
    "\n",
    "### LATER:\n",
    "- secret management\n",
    "- ~~update readme~~\n",
    "- add images\n",
    "\n",
    "\n",
    "\n",
    "### nice things to do:\n",
    "- ~~add tqdm to asyncio calls~~\n",
    "- ~~proper logging~~"
   ]
  },
  {
   "cell_type": "markdown",
   "metadata": {},
   "source": [
    "# Load the data"
   ]
  },
  {
   "cell_type": "code",
   "execution_count": 1,
   "metadata": {},
   "outputs": [],
   "source": [
    "from datasets import load_dataset\n",
    "seed =42"
   ]
  },
  {
   "cell_type": "code",
   "execution_count": 2,
   "metadata": {},
   "outputs": [],
   "source": [
    "gemini_prompt_template = \"\"\"\n",
    "<data_description>\n",
    "{description}\n",
    "</data_description>\n",
    "-----------\n",
    "\n",
    "<context>\n",
    "{datapoint}\n",
    "</context>\n",
    "------------\n",
    "\n",
    "<labels>\n",
    "{labels}\n",
    "</labels>\n",
    "------------\n",
    "\n",
    "INSTRUCTION:\n",
    "- familirize yourself with the data using data_description\n",
    "- read the context carefully. this is the data point you need to label.\n",
    "- take your time and label the dadatapoint with the most appropriate option using the provided labels.\n",
    "- return the result as a single label from the <labels>. Don't provide explanations\n",
    "\"\"\""
   ]
  },
  {
   "cell_type": "code",
   "execution_count": 3,
   "metadata": {},
   "outputs": [
    {
     "name": "stderr",
     "output_type": "stream",
     "text": [
      "/usr/local/google/home/amirimani/Desktop/projects/.venv/lib/python3.11/site-packages/datasets/load.py:1486: FutureWarning: The repository for yelp_polarity contains custom code which must be executed to correctly load the dataset. You can inspect the repository content at https://hf.co/datasets/yelp_polarity\n",
      "You can avoid this message in future by passing the argument `trust_remote_code=True`.\n",
      "Passing `trust_remote_code=True` will be mandatory to load this dataset from the next major release of `datasets`.\n",
      "  warnings.warn(\n"
     ]
    }
   ],
   "source": [
    "dataset = load_dataset(\"yelp_polarity\", split=\"train\") # https://huggingface.co/datasets/yelp_polarity\n",
    "\n",
    "# take a small sample for dev purposes\n",
    "dataset_sample = dataset.shuffle(seed=seed).select(range(20))\n",
    "\n",
    "# user provided data description\n",
    "DESCRIPTION = \"\"\"\n",
    "This is a dataset for binary sentiment classification.\n",
    "It contains highly polar yelp rgenerate_funceviews.\n",
    "Negative polarity is class 0, and positive class 1.\n",
    "\"\"\"\n",
    "\n",
    "LABEL_SET = [0, 1] "
   ]
  },
  {
   "cell_type": "code",
   "execution_count": 4,
   "metadata": {},
   "outputs": [
    {
     "name": "stdout",
     "output_type": "stream",
     "text": [
      "20\n"
     ]
    }
   ],
   "source": [
    "prompt = [gemini_prompt_template.format(description= DESCRIPTION,\n",
    "                                        datapoint=x,\n",
    "                                        labels=LABEL_SET) for x in dataset_sample[\"text\"][:]]\n",
    "print(len(prompt))"
   ]
  },
  {
   "cell_type": "markdown",
   "metadata": {},
   "source": [
    "# Annotate"
   ]
  },
  {
   "cell_type": "code",
   "execution_count": 5,
   "metadata": {},
   "outputs": [],
   "source": [
    "from utils import Annotate\n",
    "\n",
    "from datetime import datetime\n",
    "\n",
    "# Get the current datetime\n",
    "now = datetime.now().strftime(\"%Y%m%d\")\n",
    "\n",
    "seed =42"
   ]
  },
  {
   "cell_type": "code",
   "execution_count": 6,
   "metadata": {},
   "outputs": [],
   "source": [
    "ann = Annotate()\n",
    "\n",
    "models = [\n",
    "    \"palm\"\n",
    "    # \"gemini\",\n",
    "    # \"claude\"\n",
    "    ]"
   ]
  },
  {
   "cell_type": "code",
   "execution_count": 8,
   "metadata": {},
   "outputs": [
    {
     "ename": "AttributeError",
     "evalue": "'Annotate' object has no attribute '__palm'",
     "output_type": "error",
     "traceback": [
      "\u001b[0;31m---------------------------------------------------------------------------\u001b[0m",
      "\u001b[0;31mAttributeError\u001b[0m                            Traceback (most recent call last)",
      "Cell \u001b[0;32mIn[8], line 1\u001b[0m\n\u001b[0;32m----> 1\u001b[0m \u001b[38;5;28;01mawait\u001b[39;00m \u001b[43mann\u001b[49m\u001b[38;5;241;43m.\u001b[39;49m\u001b[43m__palm\u001b[49m(prompt\u001b[38;5;241m=\u001b[39mprompt[\u001b[38;5;241m0\u001b[39m])\n",
      "\u001b[0;31mAttributeError\u001b[0m: 'Annotate' object has no attribute '__palm'"
     ]
    }
   ],
   "source": [
    "await ann.__palm(prompt=prompt[0])"
   ]
  },
  {
   "cell_type": "code",
   "execution_count": 9,
   "metadata": {},
   "outputs": [
    {
     "name": "stderr",
     "output_type": "stream",
     "text": [
      "Creating tasks: 40it [00:00, 63119.70it/s]            \n",
      "Gathering palm results:   0%|          | 0/20 [00:00<?, ?it/s]2024-05-21 19:20:48,923/Annotate[ERROR]: Error in __palm: 'TextGenerationModel' object has no attribute 'predcit'\n",
      "2024-05-21 19:20:49,101/Annotate[ERROR]: Error in __palm: 'TextGenerationModel' object has no attribute 'predcit'\n",
      "2024-05-21 19:20:49,272/Annotate[ERROR]: Error in __palm: 'TextGenerationModel' object has no attribute 'predcit'\n",
      "2024-05-21 19:20:49,433/Annotate[ERROR]: Error in __palm: 'TextGenerationModel' object has no attribute 'predcit'\n",
      "2024-05-21 19:20:49,611/Annotate[ERROR]: Error in __palm: 'TextGenerationModel' object has no attribute 'predcit'\n",
      "2024-05-21 19:20:49,834/Annotate[ERROR]: Error in __palm: 'TextGenerationModel' object has no attribute 'predcit'\n",
      "2024-05-21 19:20:50,015/Annotate[ERROR]: Error in __palm: 'TextGenerationModel' object has no attribute 'predcit'\n",
      "2024-05-21 19:20:50,174/Annotate[ERROR]: Error in __palm: 'TextGenerationModel' object has no attribute 'predcit'\n",
      "2024-05-21 19:20:50,331/Annotate[ERROR]: Error in __palm: 'TextGenerationModel' object has no attribute 'predcit'\n",
      "2024-05-21 19:20:50,451/Annotate[ERROR]: Error in __palm: 'TextGenerationModel' object has no attribute 'predcit'\n",
      "2024-05-21 19:20:50,604/Annotate[ERROR]: Error in __palm: 'TextGenerationModel' object has no attribute 'predcit'\n",
      "2024-05-21 19:20:50,748/Annotate[ERROR]: Error in __palm: 'TextGenerationModel' object has no attribute 'predcit'\n",
      "2024-05-21 19:20:50,832/Annotate[ERROR]: Error in __palm: 'TextGenerationModel' object has no attribute 'predcit'\n",
      "2024-05-21 19:20:50,919/Annotate[ERROR]: Error in __palm: 'TextGenerationModel' object has no attribute 'predcit'\n",
      "2024-05-21 19:20:50,988/Annotate[ERROR]: Error in __palm: 'TextGenerationModel' object has no attribute 'predcit'\n",
      "2024-05-21 19:20:51,159/Annotate[ERROR]: Error in __palm: 'TextGenerationModel' object has no attribute 'predcit'\n",
      "2024-05-21 19:20:51,305/Annotate[ERROR]: Error in __palm: 'TextGenerationModel' object has no attribute 'predcit'\n",
      "2024-05-21 19:20:51,459/Annotate[ERROR]: Error in __palm: 'TextGenerationModel' object has no attribute 'predcit'\n",
      "2024-05-21 19:20:51,597/Annotate[ERROR]: Error in __palm: 'TextGenerationModel' object has no attribute 'predcit'\n",
      "2024-05-21 19:20:51,755/Annotate[ERROR]: Error in __palm: 'TextGenerationModel' object has no attribute 'predcit'\n",
      "2024-05-21 19:20:51,756/Annotate[ERROR]: palm Task 0 failed: 'TextGenerationModel' object has no attribute 'predcit'\n",
      "Gathering palm results:   5%|▌         | 1/20 [00:03<01:15,  3.95s/it]2024-05-21 19:20:51,758/Annotate[ERROR]: palm Task 1 failed: 'TextGenerationModel' object has no attribute 'predcit'\n",
      "2024-05-21 19:20:51,759/Annotate[ERROR]: palm Task 2 failed: 'TextGenerationModel' object has no attribute 'predcit'\n",
      "2024-05-21 19:20:51,760/Annotate[ERROR]: palm Task 3 failed: 'TextGenerationModel' object has no attribute 'predcit'\n",
      "2024-05-21 19:20:51,761/Annotate[ERROR]: palm Task 4 failed: 'TextGenerationModel' object has no attribute 'predcit'\n",
      "2024-05-21 19:20:51,762/Annotate[ERROR]: palm Task 5 failed: 'TextGenerationModel' object has no attribute 'predcit'\n",
      "2024-05-21 19:20:51,763/Annotate[ERROR]: palm Task 6 failed: 'TextGenerationModel' object has no attribute 'predcit'\n",
      "2024-05-21 19:20:51,764/Annotate[ERROR]: palm Task 7 failed: 'TextGenerationModel' object has no attribute 'predcit'\n",
      "2024-05-21 19:20:51,765/Annotate[ERROR]: palm Task 8 failed: 'TextGenerationModel' object has no attribute 'predcit'\n",
      "2024-05-21 19:20:51,765/Annotate[ERROR]: palm Task 9 failed: 'TextGenerationModel' object has no attribute 'predcit'\n",
      "2024-05-21 19:20:51,766/Annotate[ERROR]: palm Task 10 failed: 'TextGenerationModel' object has no attribute 'predcit'\n",
      "2024-05-21 19:20:51,768/Annotate[ERROR]: palm Task 11 failed: 'TextGenerationModel' object has no attribute 'predcit'\n",
      "2024-05-21 19:20:51,769/Annotate[ERROR]: palm Task 12 failed: 'TextGenerationModel' object has no attribute 'predcit'\n",
      "2024-05-21 19:20:51,770/Annotate[ERROR]: palm Task 13 failed: 'TextGenerationModel' object has no attribute 'predcit'\n",
      "2024-05-21 19:20:51,771/Annotate[ERROR]: palm Task 14 failed: 'TextGenerationModel' object has no attribute 'predcit'\n",
      "2024-05-21 19:20:51,772/Annotate[ERROR]: palm Task 15 failed: 'TextGenerationModel' object has no attribute 'predcit'\n",
      "2024-05-21 19:20:51,773/Annotate[ERROR]: palm Task 16 failed: 'TextGenerationModel' object has no attribute 'predcit'\n",
      "2024-05-21 19:20:51,774/Annotate[ERROR]: palm Task 17 failed: 'TextGenerationModel' object has no attribute 'predcit'\n",
      "2024-05-21 19:20:51,774/Annotate[ERROR]: palm Task 18 failed: 'TextGenerationModel' object has no attribute 'predcit'\n",
      "2024-05-21 19:20:51,776/Annotate[ERROR]: palm Task 19 failed: 'TextGenerationModel' object has no attribute 'predcit'\n",
      "Gathering palm results: 100%|██████████| 20/20 [00:03<00:00,  5.04it/s]\n"
     ]
    }
   ],
   "source": [
    "r = await ann.classification(prompt, models=models)"
   ]
  },
  {
   "cell_type": "code",
   "execution_count": null,
   "metadata": {},
   "outputs": [],
   "source": [
    "r['gemini'], r['claude']"
   ]
  },
  {
   "cell_type": "code",
   "execution_count": null,
   "metadata": {},
   "outputs": [],
   "source": [
    "import json\n",
    "with open(f\"./data/output/annotation_output__{now}.json\", \"w\") as json_file:\n",
    "    json.dump(r, json_file, indent=4)"
   ]
  },
  {
   "cell_type": "markdown",
   "metadata": {},
   "source": [
    "## Aggregate"
   ]
  },
  {
   "cell_type": "code",
   "execution_count": null,
   "metadata": {},
   "outputs": [],
   "source": [
    "import json\n",
    "import random\n",
    "\n",
    "with open('./data/output/annotation_output__20240515.json', 'r') as file:\n",
    "        all_results = json.load(file)\n",
    "\n",
    "all_results['fake'] = [random.randint(0, 1) for _ in range(len(all_results['gemini']))]\n",
    "y_labels = [\"gemini\", \"claude\", \"fake\"]\n",
    "\n",
    "\n",
    "all_results = [value for value in all_results.values()]"
   ]
  },
  {
   "cell_type": "code",
   "execution_count": null,
   "metadata": {},
   "outputs": [],
   "source": [
    "from utils import Aggregate\n",
    "\n",
    "agg = Aggregate()"
   ]
  },
  {
   "cell_type": "code",
   "execution_count": null,
   "metadata": {},
   "outputs": [],
   "source": [
    "majority_vote = agg._get_majority_vote(all_results)"
   ]
  },
  {
   "cell_type": "code",
   "execution_count": null,
   "metadata": {},
   "outputs": [],
   "source": [
    "glad_result = agg._glad(all_results)"
   ]
  },
  {
   "cell_type": "code",
   "execution_count": null,
   "metadata": {},
   "outputs": [],
   "source": [
    "glad_result.keys()"
   ]
  },
  {
   "cell_type": "code",
   "execution_count": null,
   "metadata": {},
   "outputs": [],
   "source": [
    "[x for x in glad_result['labels'] if x[1] == 1]"
   ]
  },
  {
   "cell_type": "markdown",
   "metadata": {},
   "source": [
    "## evaluate"
   ]
  },
  {
   "cell_type": "code",
   "execution_count": null,
   "metadata": {},
   "outputs": [],
   "source": [
    "from utils import Evaluate\n",
    "\n",
    "eval = Evaluate()"
   ]
  },
  {
   "cell_type": "code",
   "execution_count": null,
   "metadata": {},
   "outputs": [],
   "source": [
    "eval.classification(all_results, strategy=\"majority\", visualize=False, y_labels=y_labels)"
   ]
  },
  {
   "cell_type": "markdown",
   "metadata": {},
   "source": [
    "# Dev"
   ]
  },
  {
   "cell_type": "code",
   "execution_count": null,
   "metadata": {},
   "outputs": [],
   "source": [
    "# import numpy as np\n",
    "# from sklearn.datasets import fetch_20newsgroups\n",
    "\n",
    "# from sklearn.model_selection import train_test_split\n",
    "\n",
    "\n",
    "# dataset = fetch_20newsgroups(subset='train',\n",
    "#                               remove=('headers', 'footers', 'quotes'),\n",
    "#                               )\n",
    "# # take a small sample for dev purposes - Stratified sampling to maintain class distribution\n",
    "# # Convert the target names to a numpy array\n",
    "# target_names = np.array(dataset.target_names)\n",
    "\n",
    "# _, _, y_train, y_test = train_test_split(\n",
    "#     dataset.filenames, \n",
    "#     dataset.target, \n",
    "#     train_size=1000,  # Get 1000 samples\n",
    "#     stratify=dataset.target,  # Ensure class distribution is preserved\n",
    "#     random_state=seed # For reproducibility\n",
    "# )\n",
    "\n",
    "# # Now load the actual data for the selected samples\n",
    "# dataset_sample= fetch_20newsgroups(\n",
    "#     subset='train',[\"\"\"hello\"\"\"]\n",
    "#     remove=('headers', 'footers', 'quotes'),\n",
    "#     categories=target_names[y_train]  # Only load categories in the sample\n",
    "# )\n",
    "\n",
    "\n",
    "# # user provided data description\n",
    "# DESCRIPTION = \"\"\"\n",
    "# The 20 newsgroups dataset comprises around 18000 newsgroups posts on 20 topics. Here are the topics:\n",
    "# ['alt.atheism',\n",
    "#  'comp.graphics',\n",
    "#  'comp.os.ms-windows.misc',\n",
    "#  'comp.sys.ibm.pc.hardware',\n",
    "#  'comp.sys.mac.hardware',\n",
    "#  'comp.windows.x',\n",
    "#  'misc.forsale',\n",
    "#  'rec.autos',\n",
    "#  'rec.motorcycles',\n",
    "#  'rec.sport.baseball',\n",
    "#  'rec.sport.hockey',\n",
    "#  'sci.crypt',\n",
    "#  'sci.electronics',\n",
    "#  'sci.med',\n",
    "#  'sci.space',\n",
    "#  'soc.religion.christian',\n",
    "#  'talk.politics.guns',\n",
    "#  'talk.politics.mideast',\n",
    "#  'talk.politics.misc',\n",
    "#  'talk.religion.misc']\n",
    "# \"\"\"\n",
    "\n",
    "# LABEL_SET = ['alt.atheism',\n",
    "#  'comp.graphics',\n",
    "#  'comp.os.ms-windows.misc',\n",
    "#  'comp.sys.ibm.pc.hardware',\n",
    "#  'comp.sys.mac.hardware',\n",
    "#  'comp.windows.x',\n",
    "#  'misc.forsale',\n",
    "#  'rec.autos',\n",
    "#  'rec.motorcycles',\n",
    "#  'rec.sport.baseball',\n",
    "#  'rec.sport.hockey',\n",
    "#  'sci.crypt',\n",
    "#  'sci.electronics',\n",
    "#  'sci.med',\n",
    "#  'sci.space',\n",
    "#  'soc.religion.christian',\n",
    "#  'talk.politics.guns',\n",
    "#  'talk.politics.mideast',\n",
    "#  'talk.politics.misc',\n",
    "#  'talk.religion.misc']"
   ]
  },
  {
   "cell_type": "code",
   "execution_count": null,
   "metadata": {},
   "outputs": [],
   "source": [
    "from huggingface_hub import login, logout\n",
    "login()"
   ]
  },
  {
   "cell_type": "code",
   "execution_count": null,
   "metadata": {},
   "outputs": [],
   "source": [
    "from transformers import AutoTokenizer, AutoModelForCausalLM\n",
    "import torch\n",
    "\n",
    "tokenizer = AutoTokenizer.from_pretrained(\"google/gemma-2b-it\")\n",
    "model = AutoModelForCausalLM.from_pretrained(\n",
    "    \"google/gemma-2b-it\",\n",
    "    torch_dtype=torch.bfloat16\n",
    ")\n"
   ]
  },
  {
   "cell_type": "code",
   "execution_count": null,
   "metadata": {},
   "outputs": [],
   "source": [
    "\n",
    "# input_text = \"Write me a poem about Machine Learning.\"\n",
    "# input_ids = tokenizer(input_text, return_tensors=\"pt\")\n",
    "\n",
    "# outputs = model.generate(**input_ids)\n",
    "# print(tokenizer.decode(outputs[0]))\n"
   ]
  },
  {
   "cell_type": "code",
   "execution_count": null,
   "metadata": {},
   "outputs": [],
   "source": [
    "input_text = prompt\n",
    "input_ids = tokenizer(input_text, padding=True, return_tensors=\"pt\")\n"
   ]
  },
  {
   "cell_type": "code",
   "execution_count": null,
   "metadata": {},
   "outputs": [],
   "source": [
    "outputs = model.generate(**input_ids)\n",
    "print(tokenizer.batch_decode(outputs))"
   ]
  },
  {
   "cell_type": "code",
   "execution_count": null,
   "metadata": {},
   "outputs": [],
   "source": [
    "from transformers import AutoModelForCausalLM\n",
    "\n",
    "model = AutoModelForCausalLM.from_pretrained(\n",
    "    \"mistralai/Mistral-7B-v0.1\", device_map=\"auto\", max_new_tokens=2048\n",
    ")"
   ]
  },
  {
   "cell_type": "code",
   "execution_count": null,
   "metadata": {},
   "outputs": [],
   "source": [
    "from transformers import AutoTokenizer\n",
    "\n",
    "tokenizer = AutoTokenizer.from_pretrained(\"mistralai/Mistral-7B-v0.1\", padding_side=\"left\")\n",
    "model_inputs = tokenizer([\"A list of colors: red, blue\"], return_tensors=\"pt\")"
   ]
  },
  {
   "cell_type": "code",
   "execution_count": null,
   "metadata": {},
   "outputs": [],
   "source": [
    "tokenizer.pad_token = tokenizer.eos_token  # Most LLMs don't have a pad token by default\n",
    "model_inputs = tokenizer(\n",
    "    prompt, return_tensors=\"pt\", padding=True\n",
    ")\n",
    "generated_ids = model.generate(**model_inputs)\n",
    "tokenizer.batch_decode(generated_ids, skip_special_tokens=True)"
   ]
  },
  {
   "cell_type": "code",
   "execution_count": null,
   "metadata": {},
   "outputs": [],
   "source": [
    "import vertexai\n",
    "from vertexai.language_models import TextGenerationModel\n",
    "from config import PALM_CONFIG\n",
    "\n",
    "vertexai.init(project=\"amir-genai-bb\", location=\"us-central1\")\n",
    "\n",
    "\n",
    "model = TextGenerationModel.from_pretrained(\"text-bison-32k@002\")\n",
    "response = model.predict(\n",
    "    prompt[0],\n",
    "    **PALM_CONFIG[\"generation_config\"]\n",
    ")\n",
    "print(f\"Response from Model: {response.text}\")"
   ]
  },
  {
   "cell_type": "code",
   "execution_count": null,
   "metadata": {},
   "outputs": [],
   "source": [
    "for p in prompt:\n",
    "    response = model.predict(\n",
    "    p,\n",
    "    **PALM_CONFIG[\"generation_config\"]\n",
    ")\n",
    "    print(f\"Response from Model: {response.text}\")"
   ]
  },
  {
   "cell_type": "code",
   "execution_count": null,
   "metadata": {},
   "outputs": [],
   "source": []
  }
 ],
 "metadata": {
  "kernelspec": {
   "display_name": ".venv",
   "language": "python",
   "name": "python3"
  },
  "language_info": {
   "codemirror_mode": {
    "name": "ipython",
    "version": 3
   },
   "file_extension": ".py",
   "mimetype": "text/x-python",
   "name": "python",
   "nbconvert_exporter": "python",
   "pygments_lexer": "ipython3",
   "version": "3.11.8"
  }
 },
 "nbformat": 4,
 "nbformat_minor": 2
}
