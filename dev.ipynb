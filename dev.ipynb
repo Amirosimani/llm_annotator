{
 "cells": [
  {
   "cell_type": "markdown",
   "metadata": {},
   "source": [
    "# Test Gemini vs Ensemble for MMLU\n",
    "\n",
    "\n",
    "to do:\n",
    "\n",
    "-ignore claude, add gemma, palm"
   ]
  },
  {
   "cell_type": "code",
   "execution_count": 1,
   "metadata": {},
   "outputs": [],
   "source": [
    "import os\n",
    "import copy\n",
    "import json\n",
    "import random\n",
    "import pandas as pd\n",
    "from pprint import pprint\n",
    "from datetime import datetime\n",
    "from datasets import load_dataset\n",
    "\n",
    "from utils import Annotate\n",
    "from config import PALM_CONFIG, GEMINI_CONFIG, CLAUDE_CONFIG"
   ]
  },
  {
   "cell_type": "code",
   "execution_count": 2,
   "metadata": {},
   "outputs": [],
   "source": [
    "seed = 420\n",
    "now = datetime.now().strftime(\"%Y%m%d\")"
   ]
  },
  {
   "cell_type": "code",
   "execution_count": 3,
   "metadata": {},
   "outputs": [],
   "source": [
    "dataset = load_dataset(\"cais/mmlu\", \"all\")\n",
    "n_sample = 2000\n",
    "# # take a small sample for dev purposes\n",
    "dataset = dataset['test'].shuffle(seed=seed).select(range(n_sample))\n"
   ]
  },
  {
   "cell_type": "code",
   "execution_count": 4,
   "metadata": {},
   "outputs": [
    {
     "data": {
      "text/plain": [
       "'Statement 1 | If G, H and K are groups of order 4, at least two of them are isomorphic. Statement 2 | If Z_r + Z_s is isomorphic to a subgroup Z_m + Z_n, then r divides m and s divides n.'"
      ]
     },
     "execution_count": 4,
     "metadata": {},
     "output_type": "execute_result"
    }
   ],
   "source": [
    "dataset[\"question\"][dataset['subject'].index(\"abstract_algebra\")]"
   ]
  },
  {
   "cell_type": "code",
   "execution_count": 5,
   "metadata": {},
   "outputs": [],
   "source": [
    "gemini_prompt_template = \"\"\"\n",
    "<QUESTION>\n",
    "{datapoint}\n",
    "</QUESTION>\n",
    "------------\n",
    "\n",
    "<CHOICES>\n",
    "{labels}\n",
    "</choices>\n",
    "------------\n",
    "\n",
    "INSTRUCTION:\n",
    "- read the above question carefully.\n",
    "- you are given 4 choices seperated by comma in <CHOICES>.\n",
    "- take your time and pick the precise correct answer from <CHOICES> for the given <QUESTION>.\n",
    "- remember that there is always only one correct answer.\n",
    "- return the exact correct answer from <CHOICES>. Don't provide explanations.\n",
    "\"\"\""
   ]
  },
  {
   "cell_type": "code",
   "execution_count": 6,
   "metadata": {},
   "outputs": [
    {
     "name": "stdout",
     "output_type": "stream",
     "text": [
      "100\n"
     ]
    }
   ],
   "source": [
    "prompt = [gemini_prompt_template.format(datapoint=x['question'],\n",
    "                                        labels=x['choices']) for x in dataset]\n",
    "print(len(prompt))"
   ]
  },
  {
   "cell_type": "code",
   "execution_count": 7,
   "metadata": {},
   "outputs": [],
   "source": [
    "models = [\n",
    "    \"gemini\",\n",
    "    \"palm\",\n",
    "    # \"claude\"\n",
    "    ]\n",
    "\n",
    "PALM_CONFIG[\"project_config\"][\"qpm\"] = 150\n",
    "\n",
    "palm_1 =  copy.deepcopy(PALM_CONFIG)\n",
    "palm_1['config_name'] = \"temp_0.4\"\n",
    "\n",
    "palm_2 =  copy.deepcopy(PALM_CONFIG)\n",
    "palm_2['config_name'] = \"temp_0.9\"\n",
    "palm_2[\"generation_config\"]['temperature'] = 0.9\n",
    "\n",
    "GEMINI_CONFIG[\"project_config\"][\"qpm\"] = 100\n",
    "\n",
    "gemini_1 =  copy.deepcopy(GEMINI_CONFIG)\n",
    "gemini_1['config_name'] = \"-1.0-pro-001\"\n",
    "\n",
    "gemini_2 =  copy.deepcopy(GEMINI_CONFIG)\n",
    "gemini_2['config_name'] = \"-1.5-flash-001\"\n",
    "gemini_2['\"model\"'] = \"gemini-1.5-flash-001\"\n",
    "\n",
    "gemini_3 =  copy.deepcopy(GEMINI_CONFIG)\n",
    "gemini_3['config_name'] = \"-1.0-ultra-001\"\n",
    "gemini_3['\"model\"'] = \"gemini-1.0-ultra-001\"\n",
    "\n",
    "\n",
    "\n",
    "model_config = {\n",
    "    \"gemini\": [\n",
    "        gemini_1,\n",
    "        gemini_2,\n",
    "        gemini_3\n",
    "         ],\n",
    "    \"palm\": [\n",
    "        palm_1, \n",
    "    #     # palm_2\n",
    "        ],\n",
    "    # \"claude\": [\n",
    "    #     CLAUDE_CONFIG\n",
    "    # ]\n",
    "}\n",
    "\n",
    "ann = Annotate()\n"
   ]
  },
  {
   "cell_type": "code",
   "execution_count": 8,
   "metadata": {},
   "outputs": [
    {
     "name": "stderr",
     "output_type": "stream",
     "text": [
      "Creating tasks: 100%|██████████| 400/400 [00:00<00:00, 198241.95it/s]\n",
      "Gathering gemini_-1.0-pro-001 results:   0%|          | 0/100 [00:00<?, ?it/s]2024-08-13 19:45:01,316/Annotate[ERROR]: gemini_-1.0-pro-001 Task 0 failed: cannot import name 'GenerativeModel' from 'vertexai.generative_models' (unknown location)\n",
      "Gathering gemini_-1.0-pro-001 results:   1%|          | 1/100 [00:57<1:34:04, 57.02s/it]2024-08-13 19:45:01,317/Annotate[ERROR]: gemini_-1.0-pro-001 Task 1 failed: cannot import name 'GenerativeModel' from 'vertexai.generative_models' (unknown location)\n",
      "2024-08-13 19:45:01,318/Annotate[ERROR]: gemini_-1.0-pro-001 Task 2 failed: cannot import name 'GenerativeModel' from 'vertexai.generative_models' (unknown location)\n",
      "2024-08-13 19:45:01,318/Annotate[ERROR]: gemini_-1.0-pro-001 Task 3 failed: cannot import name 'GenerativeModel' from 'vertexai.generative_models' (unknown location)\n",
      "2024-08-13 19:45:01,318/Annotate[ERROR]: gemini_-1.0-pro-001 Task 4 failed: cannot import name 'GenerativeModel' from 'vertexai.generative_models' (unknown location)\n",
      "2024-08-13 19:45:01,319/Annotate[ERROR]: gemini_-1.0-pro-001 Task 5 failed: cannot import name 'GenerativeModel' from 'vertexai.generative_models' (unknown location)\n",
      "2024-08-13 19:45:01,320/Annotate[ERROR]: gemini_-1.0-pro-001 Task 6 failed: cannot import name 'GenerativeModel' from 'vertexai.generative_models' (unknown location)\n",
      "2024-08-13 19:45:01,320/Annotate[ERROR]: gemini_-1.0-pro-001 Task 7 failed: cannot import name 'GenerativeModel' from 'vertexai.generative_models' (unknown location)\n",
      "2024-08-13 19:45:01,321/Annotate[ERROR]: gemini_-1.0-pro-001 Task 8 failed: cannot import name 'GenerativeModel' from 'vertexai.generative_models' (unknown location)\n",
      "2024-08-13 19:45:01,321/Annotate[ERROR]: gemini_-1.0-pro-001 Task 9 failed: cannot import name 'GenerativeModel' from 'vertexai.generative_models' (unknown location)\n",
      "2024-08-13 19:45:01,322/Annotate[ERROR]: gemini_-1.0-pro-001 Task 10 failed: cannot import name 'GenerativeModel' from 'vertexai.generative_models' (unknown location)\n",
      "2024-08-13 19:45:01,322/Annotate[ERROR]: gemini_-1.0-pro-001 Task 11 failed: cannot import name 'GenerativeModel' from 'vertexai.generative_models' (unknown location)\n",
      "2024-08-13 19:45:01,322/Annotate[ERROR]: gemini_-1.0-pro-001 Task 12 failed: cannot import name 'GenerativeModel' from 'vertexai.generative_models' (unknown location)\n",
      "2024-08-13 19:45:01,323/Annotate[ERROR]: gemini_-1.0-pro-001 Task 13 failed: cannot import name 'GenerativeModel' from 'vertexai.generative_models' (unknown location)\n",
      "2024-08-13 19:45:01,323/Annotate[ERROR]: gemini_-1.0-pro-001 Task 14 failed: cannot import name 'GenerativeModel' from 'vertexai.generative_models' (unknown location)\n",
      "2024-08-13 19:45:01,324/Annotate[ERROR]: gemini_-1.0-pro-001 Task 15 failed: cannot import name 'GenerativeModel' from 'vertexai.generative_models' (unknown location)\n",
      "2024-08-13 19:45:01,324/Annotate[ERROR]: gemini_-1.0-pro-001 Task 16 failed: cannot import name 'GenerativeModel' from 'vertexai.generative_models' (unknown location)\n",
      "2024-08-13 19:45:01,324/Annotate[ERROR]: gemini_-1.0-pro-001 Task 17 failed: cannot import name 'GenerativeModel' from 'vertexai.generative_models' (unknown location)\n",
      "2024-08-13 19:45:01,325/Annotate[ERROR]: gemini_-1.0-pro-001 Task 18 failed: cannot import name 'GenerativeModel' from 'vertexai.generative_models' (unknown location)\n",
      "2024-08-13 19:45:01,325/Annotate[ERROR]: gemini_-1.0-pro-001 Task 19 failed: cannot import name 'GenerativeModel' from 'vertexai.generative_models' (unknown location)\n",
      "2024-08-13 19:45:01,326/Annotate[ERROR]: gemini_-1.0-pro-001 Task 20 failed: cannot import name 'GenerativeModel' from 'vertexai.generative_models' (unknown location)\n",
      "2024-08-13 19:45:01,326/Annotate[ERROR]: gemini_-1.0-pro-001 Task 21 failed: cannot import name 'GenerativeModel' from 'vertexai.generative_models' (unknown location)\n",
      "2024-08-13 19:45:01,326/Annotate[ERROR]: gemini_-1.0-pro-001 Task 22 failed: cannot import name 'GenerativeModel' from 'vertexai.generative_models' (unknown location)\n",
      "2024-08-13 19:45:01,327/Annotate[ERROR]: gemini_-1.0-pro-001 Task 23 failed: cannot import name 'GenerativeModel' from 'vertexai.generative_models' (unknown location)\n",
      "2024-08-13 19:45:01,327/Annotate[ERROR]: gemini_-1.0-pro-001 Task 24 failed: cannot import name 'GenerativeModel' from 'vertexai.generative_models' (unknown location)\n",
      "2024-08-13 19:45:01,328/Annotate[ERROR]: gemini_-1.0-pro-001 Task 25 failed: cannot import name 'GenerativeModel' from 'vertexai.generative_models' (unknown location)\n",
      "2024-08-13 19:45:01,328/Annotate[ERROR]: gemini_-1.0-pro-001 Task 26 failed: cannot import name 'GenerativeModel' from 'vertexai.generative_models' (unknown location)\n",
      "2024-08-13 19:45:01,328/Annotate[ERROR]: gemini_-1.0-pro-001 Task 27 failed: cannot import name 'GenerativeModel' from 'vertexai.generative_models' (unknown location)\n",
      "2024-08-13 19:45:01,329/Annotate[ERROR]: gemini_-1.0-pro-001 Task 28 failed: cannot import name 'GenerativeModel' from 'vertexai.generative_models' (unknown location)\n",
      "2024-08-13 19:45:01,329/Annotate[ERROR]: gemini_-1.0-pro-001 Task 29 failed: cannot import name 'GenerativeModel' from 'vertexai.generative_models' (unknown location)\n",
      "2024-08-13 19:45:01,329/Annotate[ERROR]: gemini_-1.0-pro-001 Task 30 failed: cannot import name 'GenerativeModel' from 'vertexai.generative_models' (unknown location)\n",
      "2024-08-13 19:45:01,330/Annotate[ERROR]: gemini_-1.0-pro-001 Task 31 failed: cannot import name 'GenerativeModel' from 'vertexai.generative_models' (unknown location)\n",
      "2024-08-13 19:45:01,330/Annotate[ERROR]: gemini_-1.0-pro-001 Task 32 failed: cannot import name 'GenerativeModel' from 'vertexai.generative_models' (unknown location)\n",
      "2024-08-13 19:45:01,330/Annotate[ERROR]: gemini_-1.0-pro-001 Task 33 failed: cannot import name 'GenerativeModel' from 'vertexai.generative_models' (unknown location)\n",
      "2024-08-13 19:45:01,331/Annotate[ERROR]: gemini_-1.0-pro-001 Task 34 failed: cannot import name 'GenerativeModel' from 'vertexai.generative_models' (unknown location)\n",
      "2024-08-13 19:45:01,331/Annotate[ERROR]: gemini_-1.0-pro-001 Task 35 failed: cannot import name 'GenerativeModel' from 'vertexai.generative_models' (unknown location)\n",
      "2024-08-13 19:45:01,331/Annotate[ERROR]: gemini_-1.0-pro-001 Task 36 failed: cannot import name 'GenerativeModel' from 'vertexai.generative_models' (unknown location)\n",
      "2024-08-13 19:45:01,332/Annotate[ERROR]: gemini_-1.0-pro-001 Task 37 failed: cannot import name 'GenerativeModel' from 'vertexai.generative_models' (unknown location)\n",
      "2024-08-13 19:45:01,332/Annotate[ERROR]: gemini_-1.0-pro-001 Task 38 failed: cannot import name 'GenerativeModel' from 'vertexai.generative_models' (unknown location)\n",
      "2024-08-13 19:45:01,332/Annotate[ERROR]: gemini_-1.0-pro-001 Task 39 failed: cannot import name 'GenerativeModel' from 'vertexai.generative_models' (unknown location)\n",
      "2024-08-13 19:45:01,333/Annotate[ERROR]: gemini_-1.0-pro-001 Task 40 failed: cannot import name 'GenerativeModel' from 'vertexai.generative_models' (unknown location)\n",
      "2024-08-13 19:45:01,333/Annotate[ERROR]: gemini_-1.0-pro-001 Task 41 failed: cannot import name 'GenerativeModel' from 'vertexai.generative_models' (unknown location)\n",
      "2024-08-13 19:45:01,333/Annotate[ERROR]: gemini_-1.0-pro-001 Task 42 failed: cannot import name 'GenerativeModel' from 'vertexai.generative_models' (unknown location)\n",
      "2024-08-13 19:45:01,334/Annotate[ERROR]: gemini_-1.0-pro-001 Task 43 failed: cannot import name 'GenerativeModel' from 'vertexai.generative_models' (unknown location)\n",
      "2024-08-13 19:45:01,334/Annotate[ERROR]: gemini_-1.0-pro-001 Task 44 failed: cannot import name 'GenerativeModel' from 'vertexai.generative_models' (unknown location)\n",
      "2024-08-13 19:45:01,337/Annotate[ERROR]: gemini_-1.0-pro-001 Task 45 failed: cannot import name 'GenerativeModel' from 'vertexai.generative_models' (unknown location)\n",
      "2024-08-13 19:45:01,338/Annotate[ERROR]: gemini_-1.0-pro-001 Task 46 failed: cannot import name 'GenerativeModel' from 'vertexai.generative_models' (unknown location)\n",
      "2024-08-13 19:45:01,339/Annotate[ERROR]: gemini_-1.0-pro-001 Task 47 failed: cannot import name 'GenerativeModel' from 'vertexai.generative_models' (unknown location)\n",
      "2024-08-13 19:45:01,339/Annotate[ERROR]: gemini_-1.0-pro-001 Task 48 failed: cannot import name 'GenerativeModel' from 'vertexai.generative_models' (unknown location)\n",
      "2024-08-13 19:45:01,340/Annotate[ERROR]: gemini_-1.0-pro-001 Task 49 failed: cannot import name 'GenerativeModel' from 'vertexai.generative_models' (unknown location)\n",
      "2024-08-13 19:45:01,340/Annotate[ERROR]: gemini_-1.0-pro-001 Task 50 failed: cannot import name 'GenerativeModel' from 'vertexai.generative_models' (unknown location)\n",
      "2024-08-13 19:45:01,340/Annotate[ERROR]: gemini_-1.0-pro-001 Task 51 failed: cannot import name 'GenerativeModel' from 'vertexai.generative_models' (unknown location)\n",
      "2024-08-13 19:45:01,341/Annotate[ERROR]: gemini_-1.0-pro-001 Task 52 failed: cannot import name 'GenerativeModel' from 'vertexai.generative_models' (unknown location)\n",
      "2024-08-13 19:45:01,342/Annotate[ERROR]: gemini_-1.0-pro-001 Task 53 failed: cannot import name 'GenerativeModel' from 'vertexai.generative_models' (unknown location)\n",
      "2024-08-13 19:45:01,343/Annotate[ERROR]: gemini_-1.0-pro-001 Task 54 failed: cannot import name 'GenerativeModel' from 'vertexai.generative_models' (unknown location)\n",
      "2024-08-13 19:45:01,343/Annotate[ERROR]: gemini_-1.0-pro-001 Task 55 failed: cannot import name 'GenerativeModel' from 'vertexai.generative_models' (unknown location)\n",
      "2024-08-13 19:45:01,343/Annotate[ERROR]: gemini_-1.0-pro-001 Task 56 failed: cannot import name 'GenerativeModel' from 'vertexai.generative_models' (unknown location)\n",
      "2024-08-13 19:45:01,344/Annotate[ERROR]: gemini_-1.0-pro-001 Task 57 failed: cannot import name 'GenerativeModel' from 'vertexai.generative_models' (unknown location)\n",
      "2024-08-13 19:45:01,344/Annotate[ERROR]: gemini_-1.0-pro-001 Task 58 failed: cannot import name 'GenerativeModel' from 'vertexai.generative_models' (unknown location)\n",
      "2024-08-13 19:45:01,344/Annotate[ERROR]: gemini_-1.0-pro-001 Task 59 failed: cannot import name 'GenerativeModel' from 'vertexai.generative_models' (unknown location)\n",
      "2024-08-13 19:45:01,345/Annotate[ERROR]: gemini_-1.0-pro-001 Task 60 failed: cannot import name 'GenerativeModel' from 'vertexai.generative_models' (unknown location)\n",
      "2024-08-13 19:45:01,345/Annotate[ERROR]: gemini_-1.0-pro-001 Task 61 failed: cannot import name 'GenerativeModel' from 'vertexai.generative_models' (unknown location)\n",
      "2024-08-13 19:45:01,345/Annotate[ERROR]: gemini_-1.0-pro-001 Task 62 failed: cannot import name 'GenerativeModel' from 'vertexai.generative_models' (unknown location)\n",
      "2024-08-13 19:45:01,346/Annotate[ERROR]: gemini_-1.0-pro-001 Task 63 failed: cannot import name 'GenerativeModel' from 'vertexai.generative_models' (unknown location)\n",
      "2024-08-13 19:45:01,346/Annotate[ERROR]: gemini_-1.0-pro-001 Task 64 failed: cannot import name 'GenerativeModel' from 'vertexai.generative_models' (unknown location)\n",
      "2024-08-13 19:45:01,346/Annotate[ERROR]: gemini_-1.0-pro-001 Task 65 failed: cannot import name 'GenerativeModel' from 'vertexai.generative_models' (unknown location)\n",
      "2024-08-13 19:45:01,347/Annotate[ERROR]: gemini_-1.0-pro-001 Task 66 failed: cannot import name 'GenerativeModel' from 'vertexai.generative_models' (unknown location)\n",
      "2024-08-13 19:45:01,347/Annotate[ERROR]: gemini_-1.0-pro-001 Task 67 failed: cannot import name 'GenerativeModel' from 'vertexai.generative_models' (unknown location)\n",
      "2024-08-13 19:45:01,347/Annotate[ERROR]: gemini_-1.0-pro-001 Task 68 failed: cannot import name 'GenerativeModel' from 'vertexai.generative_models' (unknown location)\n",
      "2024-08-13 19:45:01,348/Annotate[ERROR]: gemini_-1.0-pro-001 Task 69 failed: cannot import name 'GenerativeModel' from 'vertexai.generative_models' (unknown location)\n",
      "2024-08-13 19:45:01,349/Annotate[ERROR]: gemini_-1.0-pro-001 Task 70 failed: cannot import name 'GenerativeModel' from 'vertexai.generative_models' (unknown location)\n",
      "2024-08-13 19:45:01,349/Annotate[ERROR]: gemini_-1.0-pro-001 Task 71 failed: cannot import name 'GenerativeModel' from 'vertexai.generative_models' (unknown location)\n",
      "2024-08-13 19:45:01,349/Annotate[ERROR]: gemini_-1.0-pro-001 Task 72 failed: cannot import name 'GenerativeModel' from 'vertexai.generative_models' (unknown location)\n",
      "2024-08-13 19:45:01,350/Annotate[ERROR]: gemini_-1.0-pro-001 Task 73 failed: cannot import name 'GenerativeModel' from 'vertexai.generative_models' (unknown location)\n",
      "2024-08-13 19:45:01,350/Annotate[ERROR]: gemini_-1.0-pro-001 Task 74 failed: cannot import name 'GenerativeModel' from 'vertexai.generative_models' (unknown location)\n",
      "2024-08-13 19:45:01,350/Annotate[ERROR]: gemini_-1.0-pro-001 Task 75 failed: cannot import name 'GenerativeModel' from 'vertexai.generative_models' (unknown location)\n",
      "2024-08-13 19:45:01,351/Annotate[ERROR]: gemini_-1.0-pro-001 Task 76 failed: cannot import name 'GenerativeModel' from 'vertexai.generative_models' (unknown location)\n",
      "2024-08-13 19:45:01,351/Annotate[ERROR]: gemini_-1.0-pro-001 Task 77 failed: cannot import name 'GenerativeModel' from 'vertexai.generative_models' (unknown location)\n",
      "2024-08-13 19:45:01,352/Annotate[ERROR]: gemini_-1.0-pro-001 Task 78 failed: cannot import name 'GenerativeModel' from 'vertexai.generative_models' (unknown location)\n",
      "2024-08-13 19:45:01,352/Annotate[ERROR]: gemini_-1.0-pro-001 Task 79 failed: cannot import name 'GenerativeModel' from 'vertexai.generative_models' (unknown location)\n",
      "2024-08-13 19:45:01,352/Annotate[ERROR]: gemini_-1.0-pro-001 Task 80 failed: cannot import name 'GenerativeModel' from 'vertexai.generative_models' (unknown location)\n",
      "2024-08-13 19:45:01,353/Annotate[ERROR]: gemini_-1.0-pro-001 Task 81 failed: cannot import name 'GenerativeModel' from 'vertexai.generative_models' (unknown location)\n",
      "2024-08-13 19:45:01,353/Annotate[ERROR]: gemini_-1.0-pro-001 Task 82 failed: cannot import name 'GenerativeModel' from 'vertexai.generative_models' (unknown location)\n",
      "2024-08-13 19:45:01,354/Annotate[ERROR]: gemini_-1.0-pro-001 Task 83 failed: cannot import name 'GenerativeModel' from 'vertexai.generative_models' (unknown location)\n",
      "2024-08-13 19:45:01,354/Annotate[ERROR]: gemini_-1.0-pro-001 Task 84 failed: cannot import name 'GenerativeModel' from 'vertexai.generative_models' (unknown location)\n",
      "2024-08-13 19:45:01,354/Annotate[ERROR]: gemini_-1.0-pro-001 Task 85 failed: cannot import name 'GenerativeModel' from 'vertexai.generative_models' (unknown location)\n",
      "2024-08-13 19:45:01,355/Annotate[ERROR]: gemini_-1.0-pro-001 Task 86 failed: cannot import name 'GenerativeModel' from 'vertexai.generative_models' (unknown location)\n",
      "2024-08-13 19:45:01,355/Annotate[ERROR]: gemini_-1.0-pro-001 Task 87 failed: cannot import name 'GenerativeModel' from 'vertexai.generative_models' (unknown location)\n",
      "2024-08-13 19:45:01,355/Annotate[ERROR]: gemini_-1.0-pro-001 Task 88 failed: cannot import name 'GenerativeModel' from 'vertexai.generative_models' (unknown location)\n",
      "2024-08-13 19:45:01,358/Annotate[ERROR]: gemini_-1.0-pro-001 Task 89 failed: cannot import name 'GenerativeModel' from 'vertexai.generative_models' (unknown location)\n",
      "2024-08-13 19:45:01,359/Annotate[ERROR]: gemini_-1.0-pro-001 Task 90 failed: cannot import name 'GenerativeModel' from 'vertexai.generative_models' (unknown location)\n",
      "2024-08-13 19:45:01,359/Annotate[ERROR]: gemini_-1.0-pro-001 Task 91 failed: cannot import name 'GenerativeModel' from 'vertexai.generative_models' (unknown location)\n",
      "2024-08-13 19:45:01,359/Annotate[ERROR]: gemini_-1.0-pro-001 Task 92 failed: cannot import name 'GenerativeModel' from 'vertexai.generative_models' (unknown location)\n",
      "2024-08-13 19:45:01,360/Annotate[ERROR]: gemini_-1.0-pro-001 Task 93 failed: cannot import name 'GenerativeModel' from 'vertexai.generative_models' (unknown location)\n",
      "2024-08-13 19:45:01,360/Annotate[ERROR]: gemini_-1.0-pro-001 Task 94 failed: cannot import name 'GenerativeModel' from 'vertexai.generative_models' (unknown location)\n",
      "2024-08-13 19:45:01,361/Annotate[ERROR]: gemini_-1.0-pro-001 Task 95 failed: cannot import name 'GenerativeModel' from 'vertexai.generative_models' (unknown location)\n",
      "2024-08-13 19:45:01,361/Annotate[ERROR]: gemini_-1.0-pro-001 Task 96 failed: cannot import name 'GenerativeModel' from 'vertexai.generative_models' (unknown location)\n",
      "2024-08-13 19:45:01,362/Annotate[ERROR]: gemini_-1.0-pro-001 Task 97 failed: cannot import name 'GenerativeModel' from 'vertexai.generative_models' (unknown location)\n",
      "2024-08-13 19:45:01,362/Annotate[ERROR]: gemini_-1.0-pro-001 Task 98 failed: cannot import name 'GenerativeModel' from 'vertexai.generative_models' (unknown location)\n",
      "2024-08-13 19:45:01,363/Annotate[ERROR]: gemini_-1.0-pro-001 Task 99 failed: cannot import name 'GenerativeModel' from 'vertexai.generative_models' (unknown location)\n",
      "Gathering gemini_-1.0-pro-001 results: 100%|██████████| 100/100 [00:57<00:00,  1.75it/s]\n",
      "Gathering gemini_-1.5-flash-001 results:   0%|          | 0/100 [00:00<?, ?it/s]2024-08-13 19:45:01,366/Annotate[ERROR]: gemini_-1.5-flash-001 Task 0 failed: cannot import name 'GenerativeModel' from 'vertexai.generative_models' (unknown location)\n",
      "2024-08-13 19:45:01,366/Annotate[ERROR]: gemini_-1.5-flash-001 Task 1 failed: cannot import name 'GenerativeModel' from 'vertexai.generative_models' (unknown location)\n",
      "2024-08-13 19:45:01,367/Annotate[ERROR]: gemini_-1.5-flash-001 Task 2 failed: cannot import name 'GenerativeModel' from 'vertexai.generative_models' (unknown location)\n",
      "2024-08-13 19:45:01,367/Annotate[ERROR]: gemini_-1.5-flash-001 Task 3 failed: cannot import name 'GenerativeModel' from 'vertexai.generative_models' (unknown location)\n",
      "2024-08-13 19:45:01,367/Annotate[ERROR]: gemini_-1.5-flash-001 Task 4 failed: cannot import name 'GenerativeModel' from 'vertexai.generative_models' (unknown location)\n",
      "2024-08-13 19:45:01,368/Annotate[ERROR]: gemini_-1.5-flash-001 Task 5 failed: cannot import name 'GenerativeModel' from 'vertexai.generative_models' (unknown location)\n",
      "2024-08-13 19:45:01,368/Annotate[ERROR]: gemini_-1.5-flash-001 Task 6 failed: cannot import name 'GenerativeModel' from 'vertexai.generative_models' (unknown location)\n",
      "2024-08-13 19:45:01,369/Annotate[ERROR]: gemini_-1.5-flash-001 Task 7 failed: cannot import name 'GenerativeModel' from 'vertexai.generative_models' (unknown location)\n",
      "2024-08-13 19:45:01,369/Annotate[ERROR]: gemini_-1.5-flash-001 Task 8 failed: cannot import name 'GenerativeModel' from 'vertexai.generative_models' (unknown location)\n",
      "2024-08-13 19:45:01,369/Annotate[ERROR]: gemini_-1.5-flash-001 Task 9 failed: cannot import name 'GenerativeModel' from 'vertexai.generative_models' (unknown location)\n",
      "2024-08-13 19:45:01,370/Annotate[ERROR]: gemini_-1.5-flash-001 Task 10 failed: cannot import name 'GenerativeModel' from 'vertexai.generative_models' (unknown location)\n",
      "2024-08-13 19:45:01,370/Annotate[ERROR]: gemini_-1.5-flash-001 Task 11 failed: cannot import name 'GenerativeModel' from 'vertexai.generative_models' (unknown location)\n",
      "2024-08-13 19:45:01,370/Annotate[ERROR]: gemini_-1.5-flash-001 Task 12 failed: cannot import name 'GenerativeModel' from 'vertexai.generative_models' (unknown location)\n",
      "2024-08-13 19:45:01,371/Annotate[ERROR]: gemini_-1.5-flash-001 Task 13 failed: cannot import name 'GenerativeModel' from 'vertexai.generative_models' (unknown location)\n",
      "2024-08-13 19:45:01,372/Annotate[ERROR]: gemini_-1.5-flash-001 Task 14 failed: cannot import name 'GenerativeModel' from 'vertexai.generative_models' (unknown location)\n",
      "2024-08-13 19:45:01,373/Annotate[ERROR]: gemini_-1.5-flash-001 Task 15 failed: cannot import name 'GenerativeModel' from 'vertexai.generative_models' (unknown location)\n",
      "2024-08-13 19:45:01,373/Annotate[ERROR]: gemini_-1.5-flash-001 Task 16 failed: cannot import name 'GenerativeModel' from 'vertexai.generative_models' (unknown location)\n",
      "2024-08-13 19:45:01,374/Annotate[ERROR]: gemini_-1.5-flash-001 Task 17 failed: cannot import name 'GenerativeModel' from 'vertexai.generative_models' (unknown location)\n",
      "2024-08-13 19:45:01,375/Annotate[ERROR]: gemini_-1.5-flash-001 Task 18 failed: cannot import name 'GenerativeModel' from 'vertexai.generative_models' (unknown location)\n",
      "2024-08-13 19:45:01,375/Annotate[ERROR]: gemini_-1.5-flash-001 Task 19 failed: cannot import name 'GenerativeModel' from 'vertexai.generative_models' (unknown location)\n",
      "2024-08-13 19:45:01,376/Annotate[ERROR]: gemini_-1.5-flash-001 Task 20 failed: cannot import name 'GenerativeModel' from 'vertexai.generative_models' (unknown location)\n",
      "2024-08-13 19:45:01,376/Annotate[ERROR]: gemini_-1.5-flash-001 Task 21 failed: cannot import name 'GenerativeModel' from 'vertexai.generative_models' (unknown location)\n",
      "2024-08-13 19:45:01,377/Annotate[ERROR]: gemini_-1.5-flash-001 Task 22 failed: cannot import name 'GenerativeModel' from 'vertexai.generative_models' (unknown location)\n",
      "2024-08-13 19:45:01,377/Annotate[ERROR]: gemini_-1.5-flash-001 Task 23 failed: cannot import name 'GenerativeModel' from 'vertexai.generative_models' (unknown location)\n",
      "2024-08-13 19:45:01,378/Annotate[ERROR]: gemini_-1.5-flash-001 Task 24 failed: cannot import name 'GenerativeModel' from 'vertexai.generative_models' (unknown location)\n",
      "2024-08-13 19:45:01,378/Annotate[ERROR]: gemini_-1.5-flash-001 Task 25 failed: cannot import name 'GenerativeModel' from 'vertexai.generative_models' (unknown location)\n",
      "2024-08-13 19:45:01,378/Annotate[ERROR]: gemini_-1.5-flash-001 Task 26 failed: cannot import name 'GenerativeModel' from 'vertexai.generative_models' (unknown location)\n",
      "2024-08-13 19:45:01,379/Annotate[ERROR]: gemini_-1.5-flash-001 Task 27 failed: cannot import name 'GenerativeModel' from 'vertexai.generative_models' (unknown location)\n",
      "2024-08-13 19:45:01,379/Annotate[ERROR]: gemini_-1.5-flash-001 Task 28 failed: cannot import name 'GenerativeModel' from 'vertexai.generative_models' (unknown location)\n",
      "2024-08-13 19:45:01,379/Annotate[ERROR]: gemini_-1.5-flash-001 Task 29 failed: cannot import name 'GenerativeModel' from 'vertexai.generative_models' (unknown location)\n",
      "2024-08-13 19:45:01,379/Annotate[ERROR]: gemini_-1.5-flash-001 Task 30 failed: cannot import name 'GenerativeModel' from 'vertexai.generative_models' (unknown location)\n",
      "2024-08-13 19:45:01,380/Annotate[ERROR]: gemini_-1.5-flash-001 Task 31 failed: cannot import name 'GenerativeModel' from 'vertexai.generative_models' (unknown location)\n",
      "2024-08-13 19:45:01,380/Annotate[ERROR]: gemini_-1.5-flash-001 Task 32 failed: cannot import name 'GenerativeModel' from 'vertexai.generative_models' (unknown location)\n",
      "2024-08-13 19:45:01,380/Annotate[ERROR]: gemini_-1.5-flash-001 Task 33 failed: cannot import name 'GenerativeModel' from 'vertexai.generative_models' (unknown location)\n",
      "2024-08-13 19:45:01,381/Annotate[ERROR]: gemini_-1.5-flash-001 Task 34 failed: cannot import name 'GenerativeModel' from 'vertexai.generative_models' (unknown location)\n",
      "2024-08-13 19:45:01,381/Annotate[ERROR]: gemini_-1.5-flash-001 Task 35 failed: cannot import name 'GenerativeModel' from 'vertexai.generative_models' (unknown location)\n",
      "2024-08-13 19:45:01,382/Annotate[ERROR]: gemini_-1.5-flash-001 Task 36 failed: cannot import name 'GenerativeModel' from 'vertexai.generative_models' (unknown location)\n",
      "2024-08-13 19:45:01,382/Annotate[ERROR]: gemini_-1.5-flash-001 Task 37 failed: cannot import name 'GenerativeModel' from 'vertexai.generative_models' (unknown location)\n",
      "2024-08-13 19:45:01,382/Annotate[ERROR]: gemini_-1.5-flash-001 Task 38 failed: cannot import name 'GenerativeModel' from 'vertexai.generative_models' (unknown location)\n",
      "2024-08-13 19:45:01,383/Annotate[ERROR]: gemini_-1.5-flash-001 Task 39 failed: cannot import name 'GenerativeModel' from 'vertexai.generative_models' (unknown location)\n",
      "2024-08-13 19:45:01,383/Annotate[ERROR]: gemini_-1.5-flash-001 Task 40 failed: cannot import name 'GenerativeModel' from 'vertexai.generative_models' (unknown location)\n",
      "2024-08-13 19:45:01,383/Annotate[ERROR]: gemini_-1.5-flash-001 Task 41 failed: cannot import name 'GenerativeModel' from 'vertexai.generative_models' (unknown location)\n",
      "2024-08-13 19:45:01,384/Annotate[ERROR]: gemini_-1.5-flash-001 Task 42 failed: cannot import name 'GenerativeModel' from 'vertexai.generative_models' (unknown location)\n",
      "2024-08-13 19:45:01,385/Annotate[ERROR]: gemini_-1.5-flash-001 Task 43 failed: cannot import name 'GenerativeModel' from 'vertexai.generative_models' (unknown location)\n",
      "2024-08-13 19:45:01,386/Annotate[ERROR]: gemini_-1.5-flash-001 Task 44 failed: cannot import name 'GenerativeModel' from 'vertexai.generative_models' (unknown location)\n",
      "2024-08-13 19:45:01,386/Annotate[ERROR]: gemini_-1.5-flash-001 Task 45 failed: cannot import name 'GenerativeModel' from 'vertexai.generative_models' (unknown location)\n",
      "2024-08-13 19:45:01,387/Annotate[ERROR]: gemini_-1.5-flash-001 Task 46 failed: cannot import name 'GenerativeModel' from 'vertexai.generative_models' (unknown location)\n",
      "2024-08-13 19:45:01,387/Annotate[ERROR]: gemini_-1.5-flash-001 Task 47 failed: cannot import name 'GenerativeModel' from 'vertexai.generative_models' (unknown location)\n",
      "2024-08-13 19:45:01,387/Annotate[ERROR]: gemini_-1.5-flash-001 Task 48 failed: cannot import name 'GenerativeModel' from 'vertexai.generative_models' (unknown location)\n",
      "2024-08-13 19:45:01,388/Annotate[ERROR]: gemini_-1.5-flash-001 Task 49 failed: cannot import name 'GenerativeModel' from 'vertexai.generative_models' (unknown location)\n",
      "2024-08-13 19:45:01,389/Annotate[ERROR]: gemini_-1.5-flash-001 Task 50 failed: cannot import name 'GenerativeModel' from 'vertexai.generative_models' (unknown location)\n",
      "2024-08-13 19:45:01,389/Annotate[ERROR]: gemini_-1.5-flash-001 Task 51 failed: cannot import name 'GenerativeModel' from 'vertexai.generative_models' (unknown location)\n",
      "2024-08-13 19:45:01,390/Annotate[ERROR]: gemini_-1.5-flash-001 Task 52 failed: cannot import name 'GenerativeModel' from 'vertexai.generative_models' (unknown location)\n",
      "2024-08-13 19:45:01,390/Annotate[ERROR]: gemini_-1.5-flash-001 Task 53 failed: cannot import name 'GenerativeModel' from 'vertexai.generative_models' (unknown location)\n",
      "2024-08-13 19:45:01,391/Annotate[ERROR]: gemini_-1.5-flash-001 Task 54 failed: cannot import name 'GenerativeModel' from 'vertexai.generative_models' (unknown location)\n",
      "2024-08-13 19:45:01,391/Annotate[ERROR]: gemini_-1.5-flash-001 Task 55 failed: cannot import name 'GenerativeModel' from 'vertexai.generative_models' (unknown location)\n",
      "2024-08-13 19:45:01,392/Annotate[ERROR]: gemini_-1.5-flash-001 Task 56 failed: cannot import name 'GenerativeModel' from 'vertexai.generative_models' (unknown location)\n",
      "2024-08-13 19:45:01,392/Annotate[ERROR]: gemini_-1.5-flash-001 Task 57 failed: cannot import name 'GenerativeModel' from 'vertexai.generative_models' (unknown location)\n",
      "2024-08-13 19:45:01,393/Annotate[ERROR]: gemini_-1.5-flash-001 Task 58 failed: cannot import name 'GenerativeModel' from 'vertexai.generative_models' (unknown location)\n",
      "2024-08-13 19:45:01,393/Annotate[ERROR]: gemini_-1.5-flash-001 Task 59 failed: cannot import name 'GenerativeModel' from 'vertexai.generative_models' (unknown location)\n",
      "2024-08-13 19:45:01,393/Annotate[ERROR]: gemini_-1.5-flash-001 Task 60 failed: cannot import name 'GenerativeModel' from 'vertexai.generative_models' (unknown location)\n",
      "2024-08-13 19:45:01,394/Annotate[ERROR]: gemini_-1.5-flash-001 Task 61 failed: cannot import name 'GenerativeModel' from 'vertexai.generative_models' (unknown location)\n",
      "2024-08-13 19:45:01,394/Annotate[ERROR]: gemini_-1.5-flash-001 Task 62 failed: cannot import name 'GenerativeModel' from 'vertexai.generative_models' (unknown location)\n",
      "2024-08-13 19:45:01,395/Annotate[ERROR]: gemini_-1.5-flash-001 Task 63 failed: cannot import name 'GenerativeModel' from 'vertexai.generative_models' (unknown location)\n",
      "2024-08-13 19:45:01,395/Annotate[ERROR]: gemini_-1.5-flash-001 Task 64 failed: cannot import name 'GenerativeModel' from 'vertexai.generative_models' (unknown location)\n",
      "2024-08-13 19:45:01,395/Annotate[ERROR]: gemini_-1.5-flash-001 Task 65 failed: cannot import name 'GenerativeModel' from 'vertexai.generative_models' (unknown location)\n",
      "2024-08-13 19:45:01,396/Annotate[ERROR]: gemini_-1.5-flash-001 Task 66 failed: cannot import name 'GenerativeModel' from 'vertexai.generative_models' (unknown location)\n",
      "2024-08-13 19:45:01,396/Annotate[ERROR]: gemini_-1.5-flash-001 Task 67 failed: cannot import name 'GenerativeModel' from 'vertexai.generative_models' (unknown location)\n",
      "2024-08-13 19:45:01,396/Annotate[ERROR]: gemini_-1.5-flash-001 Task 68 failed: cannot import name 'GenerativeModel' from 'vertexai.generative_models' (unknown location)\n",
      "2024-08-13 19:45:01,397/Annotate[ERROR]: gemini_-1.5-flash-001 Task 69 failed: cannot import name 'GenerativeModel' from 'vertexai.generative_models' (unknown location)\n",
      "2024-08-13 19:45:01,397/Annotate[ERROR]: gemini_-1.5-flash-001 Task 70 failed: cannot import name 'GenerativeModel' from 'vertexai.generative_models' (unknown location)\n",
      "2024-08-13 19:45:01,397/Annotate[ERROR]: gemini_-1.5-flash-001 Task 71 failed: cannot import name 'GenerativeModel' from 'vertexai.generative_models' (unknown location)\n",
      "2024-08-13 19:45:01,398/Annotate[ERROR]: gemini_-1.5-flash-001 Task 72 failed: cannot import name 'GenerativeModel' from 'vertexai.generative_models' (unknown location)\n",
      "2024-08-13 19:45:01,398/Annotate[ERROR]: gemini_-1.5-flash-001 Task 73 failed: cannot import name 'GenerativeModel' from 'vertexai.generative_models' (unknown location)\n",
      "2024-08-13 19:45:01,398/Annotate[ERROR]: gemini_-1.5-flash-001 Task 74 failed: cannot import name 'GenerativeModel' from 'vertexai.generative_models' (unknown location)\n",
      "2024-08-13 19:45:01,399/Annotate[ERROR]: gemini_-1.5-flash-001 Task 75 failed: cannot import name 'GenerativeModel' from 'vertexai.generative_models' (unknown location)\n",
      "2024-08-13 19:45:01,399/Annotate[ERROR]: gemini_-1.5-flash-001 Task 76 failed: cannot import name 'GenerativeModel' from 'vertexai.generative_models' (unknown location)\n",
      "2024-08-13 19:45:01,399/Annotate[ERROR]: gemini_-1.5-flash-001 Task 77 failed: cannot import name 'GenerativeModel' from 'vertexai.generative_models' (unknown location)\n",
      "2024-08-13 19:45:01,400/Annotate[ERROR]: gemini_-1.5-flash-001 Task 78 failed: cannot import name 'GenerativeModel' from 'vertexai.generative_models' (unknown location)\n",
      "2024-08-13 19:45:01,400/Annotate[ERROR]: gemini_-1.5-flash-001 Task 79 failed: cannot import name 'GenerativeModel' from 'vertexai.generative_models' (unknown location)\n",
      "2024-08-13 19:45:01,400/Annotate[ERROR]: gemini_-1.5-flash-001 Task 80 failed: cannot import name 'GenerativeModel' from 'vertexai.generative_models' (unknown location)\n",
      "2024-08-13 19:45:01,401/Annotate[ERROR]: gemini_-1.5-flash-001 Task 81 failed: cannot import name 'GenerativeModel' from 'vertexai.generative_models' (unknown location)\n",
      "2024-08-13 19:45:01,401/Annotate[ERROR]: gemini_-1.5-flash-001 Task 82 failed: cannot import name 'GenerativeModel' from 'vertexai.generative_models' (unknown location)\n",
      "2024-08-13 19:45:01,402/Annotate[ERROR]: gemini_-1.5-flash-001 Task 83 failed: cannot import name 'GenerativeModel' from 'vertexai.generative_models' (unknown location)\n",
      "2024-08-13 19:45:01,402/Annotate[ERROR]: gemini_-1.5-flash-001 Task 84 failed: cannot import name 'GenerativeModel' from 'vertexai.generative_models' (unknown location)\n",
      "2024-08-13 19:45:01,403/Annotate[ERROR]: gemini_-1.5-flash-001 Task 85 failed: cannot import name 'GenerativeModel' from 'vertexai.generative_models' (unknown location)\n",
      "2024-08-13 19:45:01,403/Annotate[ERROR]: gemini_-1.5-flash-001 Task 86 failed: cannot import name 'GenerativeModel' from 'vertexai.generative_models' (unknown location)\n",
      "2024-08-13 19:45:01,403/Annotate[ERROR]: gemini_-1.5-flash-001 Task 87 failed: cannot import name 'GenerativeModel' from 'vertexai.generative_models' (unknown location)\n",
      "2024-08-13 19:45:01,404/Annotate[ERROR]: gemini_-1.5-flash-001 Task 88 failed: cannot import name 'GenerativeModel' from 'vertexai.generative_models' (unknown location)\n",
      "2024-08-13 19:45:01,404/Annotate[ERROR]: gemini_-1.5-flash-001 Task 89 failed: cannot import name 'GenerativeModel' from 'vertexai.generative_models' (unknown location)\n",
      "2024-08-13 19:45:01,405/Annotate[ERROR]: gemini_-1.5-flash-001 Task 90 failed: cannot import name 'GenerativeModel' from 'vertexai.generative_models' (unknown location)\n",
      "2024-08-13 19:45:01,405/Annotate[ERROR]: gemini_-1.5-flash-001 Task 91 failed: cannot import name 'GenerativeModel' from 'vertexai.generative_models' (unknown location)\n",
      "2024-08-13 19:45:01,405/Annotate[ERROR]: gemini_-1.5-flash-001 Task 92 failed: cannot import name 'GenerativeModel' from 'vertexai.generative_models' (unknown location)\n",
      "2024-08-13 19:45:01,406/Annotate[ERROR]: gemini_-1.5-flash-001 Task 93 failed: cannot import name 'GenerativeModel' from 'vertexai.generative_models' (unknown location)\n",
      "2024-08-13 19:45:01,407/Annotate[ERROR]: gemini_-1.5-flash-001 Task 94 failed: cannot import name 'GenerativeModel' from 'vertexai.generative_models' (unknown location)\n",
      "2024-08-13 19:45:01,407/Annotate[ERROR]: gemini_-1.5-flash-001 Task 95 failed: cannot import name 'GenerativeModel' from 'vertexai.generative_models' (unknown location)\n",
      "2024-08-13 19:45:01,408/Annotate[ERROR]: gemini_-1.5-flash-001 Task 96 failed: cannot import name 'GenerativeModel' from 'vertexai.generative_models' (unknown location)\n",
      "2024-08-13 19:45:01,409/Annotate[ERROR]: gemini_-1.5-flash-001 Task 97 failed: cannot import name 'GenerativeModel' from 'vertexai.generative_models' (unknown location)\n",
      "2024-08-13 19:45:01,409/Annotate[ERROR]: gemini_-1.5-flash-001 Task 98 failed: cannot import name 'GenerativeModel' from 'vertexai.generative_models' (unknown location)\n",
      "2024-08-13 19:45:01,410/Annotate[ERROR]: gemini_-1.5-flash-001 Task 99 failed: cannot import name 'GenerativeModel' from 'vertexai.generative_models' (unknown location)\n",
      "Gathering gemini_-1.5-flash-001 results: 100%|██████████| 100/100 [00:00<00:00, 2190.37it/s]\n",
      "Gathering gemini_-1.0-ultra-001 results:   0%|          | 0/100 [00:00<?, ?it/s]2024-08-13 19:45:01,413/Annotate[ERROR]: gemini_-1.0-ultra-001 Task 0 failed: cannot import name 'GenerativeModel' from 'vertexai.generative_models' (unknown location)\n",
      "2024-08-13 19:45:01,414/Annotate[ERROR]: gemini_-1.0-ultra-001 Task 1 failed: cannot import name 'GenerativeModel' from 'vertexai.generative_models' (unknown location)\n",
      "2024-08-13 19:45:01,414/Annotate[ERROR]: gemini_-1.0-ultra-001 Task 2 failed: cannot import name 'GenerativeModel' from 'vertexai.generative_models' (unknown location)\n",
      "2024-08-13 19:45:01,415/Annotate[ERROR]: gemini_-1.0-ultra-001 Task 3 failed: cannot import name 'GenerativeModel' from 'vertexai.generative_models' (unknown location)\n",
      "2024-08-13 19:45:01,415/Annotate[ERROR]: gemini_-1.0-ultra-001 Task 4 failed: cannot import name 'GenerativeModel' from 'vertexai.generative_models' (unknown location)\n",
      "2024-08-13 19:45:01,415/Annotate[ERROR]: gemini_-1.0-ultra-001 Task 5 failed: cannot import name 'GenerativeModel' from 'vertexai.generative_models' (unknown location)\n",
      "2024-08-13 19:45:01,416/Annotate[ERROR]: gemini_-1.0-ultra-001 Task 6 failed: cannot import name 'GenerativeModel' from 'vertexai.generative_models' (unknown location)\n",
      "2024-08-13 19:45:01,416/Annotate[ERROR]: gemini_-1.0-ultra-001 Task 7 failed: cannot import name 'GenerativeModel' from 'vertexai.generative_models' (unknown location)\n",
      "2024-08-13 19:45:01,417/Annotate[ERROR]: gemini_-1.0-ultra-001 Task 8 failed: cannot import name 'GenerativeModel' from 'vertexai.generative_models' (unknown location)\n",
      "2024-08-13 19:45:01,417/Annotate[ERROR]: gemini_-1.0-ultra-001 Task 9 failed: cannot import name 'GenerativeModel' from 'vertexai.generative_models' (unknown location)\n",
      "2024-08-13 19:45:01,418/Annotate[ERROR]: gemini_-1.0-ultra-001 Task 10 failed: cannot import name 'GenerativeModel' from 'vertexai.generative_models' (unknown location)\n",
      "2024-08-13 19:45:01,418/Annotate[ERROR]: gemini_-1.0-ultra-001 Task 11 failed: cannot import name 'GenerativeModel' from 'vertexai.generative_models' (unknown location)\n",
      "2024-08-13 19:45:01,418/Annotate[ERROR]: gemini_-1.0-ultra-001 Task 12 failed: cannot import name 'GenerativeModel' from 'vertexai.generative_models' (unknown location)\n",
      "2024-08-13 19:45:01,419/Annotate[ERROR]: gemini_-1.0-ultra-001 Task 13 failed: cannot import name 'GenerativeModel' from 'vertexai.generative_models' (unknown location)\n",
      "2024-08-13 19:45:01,419/Annotate[ERROR]: gemini_-1.0-ultra-001 Task 14 failed: cannot import name 'GenerativeModel' from 'vertexai.generative_models' (unknown location)\n",
      "2024-08-13 19:45:01,420/Annotate[ERROR]: gemini_-1.0-ultra-001 Task 15 failed: cannot import name 'GenerativeModel' from 'vertexai.generative_models' (unknown location)\n",
      "2024-08-13 19:45:01,420/Annotate[ERROR]: gemini_-1.0-ultra-001 Task 16 failed: cannot import name 'GenerativeModel' from 'vertexai.generative_models' (unknown location)\n",
      "2024-08-13 19:45:01,420/Annotate[ERROR]: gemini_-1.0-ultra-001 Task 17 failed: cannot import name 'GenerativeModel' from 'vertexai.generative_models' (unknown location)\n",
      "2024-08-13 19:45:01,421/Annotate[ERROR]: gemini_-1.0-ultra-001 Task 18 failed: cannot import name 'GenerativeModel' from 'vertexai.generative_models' (unknown location)\n",
      "2024-08-13 19:45:01,421/Annotate[ERROR]: gemini_-1.0-ultra-001 Task 19 failed: cannot import name 'GenerativeModel' from 'vertexai.generative_models' (unknown location)\n",
      "2024-08-13 19:45:01,422/Annotate[ERROR]: gemini_-1.0-ultra-001 Task 20 failed: cannot import name 'GenerativeModel' from 'vertexai.generative_models' (unknown location)\n",
      "2024-08-13 19:45:01,425/Annotate[ERROR]: gemini_-1.0-ultra-001 Task 21 failed: cannot import name 'GenerativeModel' from 'vertexai.generative_models' (unknown location)\n",
      "2024-08-13 19:45:01,426/Annotate[ERROR]: gemini_-1.0-ultra-001 Task 22 failed: cannot import name 'GenerativeModel' from 'vertexai.generative_models' (unknown location)\n",
      "2024-08-13 19:45:01,426/Annotate[ERROR]: gemini_-1.0-ultra-001 Task 23 failed: cannot import name 'GenerativeModel' from 'vertexai.generative_models' (unknown location)\n",
      "2024-08-13 19:45:01,427/Annotate[ERROR]: gemini_-1.0-ultra-001 Task 24 failed: cannot import name 'GenerativeModel' from 'vertexai.generative_models' (unknown location)\n",
      "2024-08-13 19:45:01,427/Annotate[ERROR]: gemini_-1.0-ultra-001 Task 25 failed: cannot import name 'GenerativeModel' from 'vertexai.generative_models' (unknown location)\n",
      "2024-08-13 19:45:01,428/Annotate[ERROR]: gemini_-1.0-ultra-001 Task 26 failed: cannot import name 'GenerativeModel' from 'vertexai.generative_models' (unknown location)\n",
      "2024-08-13 19:45:01,428/Annotate[ERROR]: gemini_-1.0-ultra-001 Task 27 failed: cannot import name 'GenerativeModel' from 'vertexai.generative_models' (unknown location)\n",
      "2024-08-13 19:45:01,428/Annotate[ERROR]: gemini_-1.0-ultra-001 Task 28 failed: cannot import name 'GenerativeModel' from 'vertexai.generative_models' (unknown location)\n",
      "2024-08-13 19:45:01,429/Annotate[ERROR]: gemini_-1.0-ultra-001 Task 29 failed: cannot import name 'GenerativeModel' from 'vertexai.generative_models' (unknown location)\n",
      "2024-08-13 19:45:01,429/Annotate[ERROR]: gemini_-1.0-ultra-001 Task 30 failed: cannot import name 'GenerativeModel' from 'vertexai.generative_models' (unknown location)\n",
      "2024-08-13 19:45:01,430/Annotate[ERROR]: gemini_-1.0-ultra-001 Task 31 failed: cannot import name 'GenerativeModel' from 'vertexai.generative_models' (unknown location)\n",
      "2024-08-13 19:45:01,431/Annotate[ERROR]: gemini_-1.0-ultra-001 Task 32 failed: cannot import name 'GenerativeModel' from 'vertexai.generative_models' (unknown location)\n",
      "2024-08-13 19:45:01,431/Annotate[ERROR]: gemini_-1.0-ultra-001 Task 33 failed: cannot import name 'GenerativeModel' from 'vertexai.generative_models' (unknown location)\n",
      "2024-08-13 19:45:01,432/Annotate[ERROR]: gemini_-1.0-ultra-001 Task 34 failed: cannot import name 'GenerativeModel' from 'vertexai.generative_models' (unknown location)\n",
      "2024-08-13 19:45:01,432/Annotate[ERROR]: gemini_-1.0-ultra-001 Task 35 failed: cannot import name 'GenerativeModel' from 'vertexai.generative_models' (unknown location)\n",
      "2024-08-13 19:45:01,432/Annotate[ERROR]: gemini_-1.0-ultra-001 Task 36 failed: cannot import name 'GenerativeModel' from 'vertexai.generative_models' (unknown location)\n",
      "2024-08-13 19:45:01,433/Annotate[ERROR]: gemini_-1.0-ultra-001 Task 37 failed: cannot import name 'GenerativeModel' from 'vertexai.generative_models' (unknown location)\n",
      "2024-08-13 19:45:01,433/Annotate[ERROR]: gemini_-1.0-ultra-001 Task 38 failed: cannot import name 'GenerativeModel' from 'vertexai.generative_models' (unknown location)\n",
      "2024-08-13 19:45:01,434/Annotate[ERROR]: gemini_-1.0-ultra-001 Task 39 failed: cannot import name 'GenerativeModel' from 'vertexai.generative_models' (unknown location)\n",
      "2024-08-13 19:45:01,434/Annotate[ERROR]: gemini_-1.0-ultra-001 Task 40 failed: cannot import name 'GenerativeModel' from 'vertexai.generative_models' (unknown location)\n",
      "2024-08-13 19:45:01,435/Annotate[ERROR]: gemini_-1.0-ultra-001 Task 41 failed: cannot import name 'GenerativeModel' from 'vertexai.generative_models' (unknown location)\n",
      "2024-08-13 19:45:01,435/Annotate[ERROR]: gemini_-1.0-ultra-001 Task 42 failed: cannot import name 'GenerativeModel' from 'vertexai.generative_models' (unknown location)\n",
      "2024-08-13 19:45:01,436/Annotate[ERROR]: gemini_-1.0-ultra-001 Task 43 failed: cannot import name 'GenerativeModel' from 'vertexai.generative_models' (unknown location)\n",
      "2024-08-13 19:45:01,436/Annotate[ERROR]: gemini_-1.0-ultra-001 Task 44 failed: cannot import name 'GenerativeModel' from 'vertexai.generative_models' (unknown location)\n",
      "2024-08-13 19:45:01,436/Annotate[ERROR]: gemini_-1.0-ultra-001 Task 45 failed: cannot import name 'GenerativeModel' from 'vertexai.generative_models' (unknown location)\n",
      "2024-08-13 19:45:01,437/Annotate[ERROR]: gemini_-1.0-ultra-001 Task 46 failed: cannot import name 'GenerativeModel' from 'vertexai.generative_models' (unknown location)\n",
      "2024-08-13 19:45:01,437/Annotate[ERROR]: gemini_-1.0-ultra-001 Task 47 failed: cannot import name 'GenerativeModel' from 'vertexai.generative_models' (unknown location)\n",
      "2024-08-13 19:45:01,438/Annotate[ERROR]: gemini_-1.0-ultra-001 Task 48 failed: cannot import name 'GenerativeModel' from 'vertexai.generative_models' (unknown location)\n",
      "2024-08-13 19:45:01,438/Annotate[ERROR]: gemini_-1.0-ultra-001 Task 49 failed: cannot import name 'GenerativeModel' from 'vertexai.generative_models' (unknown location)\n",
      "2024-08-13 19:45:01,438/Annotate[ERROR]: gemini_-1.0-ultra-001 Task 50 failed: cannot import name 'GenerativeModel' from 'vertexai.generative_models' (unknown location)\n",
      "2024-08-13 19:45:01,439/Annotate[ERROR]: gemini_-1.0-ultra-001 Task 51 failed: cannot import name 'GenerativeModel' from 'vertexai.generative_models' (unknown location)\n",
      "2024-08-13 19:45:01,440/Annotate[ERROR]: gemini_-1.0-ultra-001 Task 52 failed: cannot import name 'GenerativeModel' from 'vertexai.generative_models' (unknown location)\n",
      "2024-08-13 19:45:01,440/Annotate[ERROR]: gemini_-1.0-ultra-001 Task 53 failed: cannot import name 'GenerativeModel' from 'vertexai.generative_models' (unknown location)\n",
      "2024-08-13 19:45:01,441/Annotate[ERROR]: gemini_-1.0-ultra-001 Task 54 failed: cannot import name 'GenerativeModel' from 'vertexai.generative_models' (unknown location)\n",
      "2024-08-13 19:45:01,441/Annotate[ERROR]: gemini_-1.0-ultra-001 Task 55 failed: cannot import name 'GenerativeModel' from 'vertexai.generative_models' (unknown location)\n",
      "2024-08-13 19:45:01,441/Annotate[ERROR]: gemini_-1.0-ultra-001 Task 56 failed: cannot import name 'GenerativeModel' from 'vertexai.generative_models' (unknown location)\n",
      "2024-08-13 19:45:01,442/Annotate[ERROR]: gemini_-1.0-ultra-001 Task 57 failed: cannot import name 'GenerativeModel' from 'vertexai.generative_models' (unknown location)\n",
      "2024-08-13 19:45:01,442/Annotate[ERROR]: gemini_-1.0-ultra-001 Task 58 failed: cannot import name 'GenerativeModel' from 'vertexai.generative_models' (unknown location)\n",
      "2024-08-13 19:45:01,443/Annotate[ERROR]: gemini_-1.0-ultra-001 Task 59 failed: cannot import name 'GenerativeModel' from 'vertexai.generative_models' (unknown location)\n",
      "2024-08-13 19:45:01,443/Annotate[ERROR]: gemini_-1.0-ultra-001 Task 60 failed: cannot import name 'GenerativeModel' from 'vertexai.generative_models' (unknown location)\n",
      "2024-08-13 19:45:01,443/Annotate[ERROR]: gemini_-1.0-ultra-001 Task 61 failed: cannot import name 'GenerativeModel' from 'vertexai.generative_models' (unknown location)\n",
      "2024-08-13 19:45:01,444/Annotate[ERROR]: gemini_-1.0-ultra-001 Task 62 failed: cannot import name 'GenerativeModel' from 'vertexai.generative_models' (unknown location)\n",
      "2024-08-13 19:45:01,444/Annotate[ERROR]: gemini_-1.0-ultra-001 Task 63 failed: cannot import name 'GenerativeModel' from 'vertexai.generative_models' (unknown location)\n",
      "2024-08-13 19:45:01,445/Annotate[ERROR]: gemini_-1.0-ultra-001 Task 64 failed: cannot import name 'GenerativeModel' from 'vertexai.generative_models' (unknown location)\n",
      "2024-08-13 19:45:01,445/Annotate[ERROR]: gemini_-1.0-ultra-001 Task 65 failed: cannot import name 'GenerativeModel' from 'vertexai.generative_models' (unknown location)\n",
      "2024-08-13 19:45:01,446/Annotate[ERROR]: gemini_-1.0-ultra-001 Task 66 failed: cannot import name 'GenerativeModel' from 'vertexai.generative_models' (unknown location)\n",
      "2024-08-13 19:45:01,447/Annotate[ERROR]: gemini_-1.0-ultra-001 Task 67 failed: cannot import name 'GenerativeModel' from 'vertexai.generative_models' (unknown location)\n",
      "2024-08-13 19:45:01,448/Annotate[ERROR]: gemini_-1.0-ultra-001 Task 68 failed: cannot import name 'GenerativeModel' from 'vertexai.generative_models' (unknown location)\n",
      "2024-08-13 19:45:01,448/Annotate[ERROR]: gemini_-1.0-ultra-001 Task 69 failed: cannot import name 'GenerativeModel' from 'vertexai.generative_models' (unknown location)\n",
      "2024-08-13 19:45:01,449/Annotate[ERROR]: gemini_-1.0-ultra-001 Task 70 failed: cannot import name 'GenerativeModel' from 'vertexai.generative_models' (unknown location)\n",
      "2024-08-13 19:45:01,449/Annotate[ERROR]: gemini_-1.0-ultra-001 Task 71 failed: cannot import name 'GenerativeModel' from 'vertexai.generative_models' (unknown location)\n",
      "2024-08-13 19:45:01,449/Annotate[ERROR]: gemini_-1.0-ultra-001 Task 72 failed: cannot import name 'GenerativeModel' from 'vertexai.generative_models' (unknown location)\n",
      "2024-08-13 19:45:01,450/Annotate[ERROR]: gemini_-1.0-ultra-001 Task 73 failed: cannot import name 'GenerativeModel' from 'vertexai.generative_models' (unknown location)\n",
      "2024-08-13 19:45:01,450/Annotate[ERROR]: gemini_-1.0-ultra-001 Task 74 failed: cannot import name 'GenerativeModel' from 'vertexai.generative_models' (unknown location)\n",
      "2024-08-13 19:45:01,451/Annotate[ERROR]: gemini_-1.0-ultra-001 Task 75 failed: cannot import name 'GenerativeModel' from 'vertexai.generative_models' (unknown location)\n",
      "2024-08-13 19:45:01,451/Annotate[ERROR]: gemini_-1.0-ultra-001 Task 76 failed: cannot import name 'GenerativeModel' from 'vertexai.generative_models' (unknown location)\n",
      "2024-08-13 19:45:01,451/Annotate[ERROR]: gemini_-1.0-ultra-001 Task 77 failed: cannot import name 'GenerativeModel' from 'vertexai.generative_models' (unknown location)\n",
      "2024-08-13 19:45:01,452/Annotate[ERROR]: gemini_-1.0-ultra-001 Task 78 failed: cannot import name 'GenerativeModel' from 'vertexai.generative_models' (unknown location)\n",
      "2024-08-13 19:45:01,452/Annotate[ERROR]: gemini_-1.0-ultra-001 Task 79 failed: cannot import name 'GenerativeModel' from 'vertexai.generative_models' (unknown location)\n",
      "2024-08-13 19:45:01,452/Annotate[ERROR]: gemini_-1.0-ultra-001 Task 80 failed: cannot import name 'GenerativeModel' from 'vertexai.generative_models' (unknown location)\n",
      "2024-08-13 19:45:01,453/Annotate[ERROR]: gemini_-1.0-ultra-001 Task 81 failed: cannot import name 'GenerativeModel' from 'vertexai.generative_models' (unknown location)\n",
      "2024-08-13 19:45:01,453/Annotate[ERROR]: gemini_-1.0-ultra-001 Task 82 failed: cannot import name 'GenerativeModel' from 'vertexai.generative_models' (unknown location)\n",
      "2024-08-13 19:45:01,453/Annotate[ERROR]: gemini_-1.0-ultra-001 Task 83 failed: cannot import name 'GenerativeModel' from 'vertexai.generative_models' (unknown location)\n",
      "2024-08-13 19:45:01,454/Annotate[ERROR]: gemini_-1.0-ultra-001 Task 84 failed: cannot import name 'GenerativeModel' from 'vertexai.generative_models' (unknown location)\n",
      "2024-08-13 19:45:01,454/Annotate[ERROR]: gemini_-1.0-ultra-001 Task 85 failed: cannot import name 'GenerativeModel' from 'vertexai.generative_models' (unknown location)\n",
      "2024-08-13 19:45:01,454/Annotate[ERROR]: gemini_-1.0-ultra-001 Task 86 failed: cannot import name 'GenerativeModel' from 'vertexai.generative_models' (unknown location)\n",
      "2024-08-13 19:45:01,455/Annotate[ERROR]: gemini_-1.0-ultra-001 Task 87 failed: cannot import name 'GenerativeModel' from 'vertexai.generative_models' (unknown location)\n",
      "2024-08-13 19:45:01,455/Annotate[ERROR]: gemini_-1.0-ultra-001 Task 88 failed: cannot import name 'GenerativeModel' from 'vertexai.generative_models' (unknown location)\n",
      "2024-08-13 19:45:01,455/Annotate[ERROR]: gemini_-1.0-ultra-001 Task 89 failed: cannot import name 'GenerativeModel' from 'vertexai.generative_models' (unknown location)\n",
      "2024-08-13 19:45:01,456/Annotate[ERROR]: gemini_-1.0-ultra-001 Task 90 failed: cannot import name 'GenerativeModel' from 'vertexai.generative_models' (unknown location)\n",
      "2024-08-13 19:45:01,459/Annotate[ERROR]: gemini_-1.0-ultra-001 Task 91 failed: cannot import name 'GenerativeModel' from 'vertexai.generative_models' (unknown location)\n",
      "2024-08-13 19:45:01,460/Annotate[ERROR]: gemini_-1.0-ultra-001 Task 92 failed: cannot import name 'GenerativeModel' from 'vertexai.generative_models' (unknown location)\n",
      "2024-08-13 19:45:01,460/Annotate[ERROR]: gemini_-1.0-ultra-001 Task 93 failed: cannot import name 'GenerativeModel' from 'vertexai.generative_models' (unknown location)\n",
      "2024-08-13 19:45:01,461/Annotate[ERROR]: gemini_-1.0-ultra-001 Task 94 failed: cannot import name 'GenerativeModel' from 'vertexai.generative_models' (unknown location)\n",
      "2024-08-13 19:45:01,461/Annotate[ERROR]: gemini_-1.0-ultra-001 Task 95 failed: cannot import name 'GenerativeModel' from 'vertexai.generative_models' (unknown location)\n",
      "2024-08-13 19:45:01,462/Annotate[ERROR]: gemini_-1.0-ultra-001 Task 96 failed: cannot import name 'GenerativeModel' from 'vertexai.generative_models' (unknown location)\n",
      "2024-08-13 19:45:01,462/Annotate[ERROR]: gemini_-1.0-ultra-001 Task 97 failed: cannot import name 'GenerativeModel' from 'vertexai.generative_models' (unknown location)\n",
      "2024-08-13 19:45:01,462/Annotate[ERROR]: gemini_-1.0-ultra-001 Task 98 failed: cannot import name 'GenerativeModel' from 'vertexai.generative_models' (unknown location)\n",
      "2024-08-13 19:45:01,463/Annotate[ERROR]: gemini_-1.0-ultra-001 Task 99 failed: cannot import name 'GenerativeModel' from 'vertexai.generative_models' (unknown location)\n",
      "Gathering gemini_-1.0-ultra-001 results: 100%|██████████| 100/100 [00:00<00:00, 1965.11it/s]\n",
      "Gathering palm_temp_0.4 results: 100%|██████████| 100/100 [00:00<00:00, 155172.18it/s]\n"
     ]
    }
   ],
   "source": [
    "output_dict = await ann.classification(prompt, models, model_config)"
   ]
  },
  {
   "cell_type": "code",
   "execution_count": 9,
   "metadata": {},
   "outputs": [],
   "source": [
    "llm_response = {}\n",
    "\n",
    "for k in output_dict.keys():\n",
    "    llm_response[k] = []\n",
    "    for idx, r in enumerate(output_dict[k]):\n",
    "        if r is not None:\n",
    "            stripped_r = r.strip().strip(\"'\")\n",
    "            if stripped_r in dataset['choices'][idx]:\n",
    "                llm_response[k].append(dataset['choices'][idx].index(stripped_r))\n",
    "            else:\n",
    "                # Handle case where stripped_r is not found in choices\n",
    "                llm_response[k].append(None)\n",
    "        else:\n",
    "            # Handle None values appropriately\n",
    "            llm_response[k].append(None)"
   ]
  },
  {
   "cell_type": "code",
   "execution_count": null,
   "metadata": {},
   "outputs": [],
   "source": [
    "# with open(f\"./data/{now}/llm_response_{n_sample}__{now}.json\", \"r\") as f:\n",
    "#     llm_response= json.load(f)"
   ]
  },
  {
   "cell_type": "code",
   "execution_count": 11,
   "metadata": {},
   "outputs": [],
   "source": [
    "def drop_nones(data):\n",
    "    df = pd.DataFrame.from_dict(llm_response).dropna().astype(int)\n",
    "    print(df.shape)\n",
    "    data = df.to_dict(orient=\"list\")\n",
    "\n",
    "    return data, df.index.to_list()\n",
    "\n",
    "def convert_dict_to_indexed_list(data_dict):\n",
    "    number_map = {key: index for index, key in enumerate(data_dict.keys())}\n",
    "    max_len = len(next(iter(data_dict.values())))\n",
    "\n",
    "    result = []\n",
    "    for index in range(max_len):\n",
    "        for key, value_list in data_dict.items():\n",
    "            value = value_list[index]\n",
    "            converted_value = value \n",
    "            result.append([index, number_map[key], converted_value])\n",
    "    return result\n",
    "    \n",
    "\n",
    "def generate_task_config(response_dict, num_classes):\n",
    "\n",
    "    num_labels = sum(len(lst) for lst in response_dict.values())\n",
    "    num_tasks =  len(list(response_dict.values())[0])\n",
    "    num_labelers = len(response_dict)\n",
    "    z  = 1/num_classes\n",
    "\n",
    "\n",
    "    tc = [num_labels, num_labelers, num_tasks, num_classes]\n",
    "    tc.extend([z] * tc[-1])\n",
    "\n",
    "    return tc"
   ]
  },
  {
   "cell_type": "code",
   "execution_count": 12,
   "metadata": {},
   "outputs": [
    {
     "name": "stdout",
     "output_type": "stream",
     "text": [
      "(0, 4)\n"
     ]
    }
   ],
   "source": [
    "n_class = 4\n",
    "llm_response, keep_idx = drop_nones(llm_response)\n",
    "task_conf = generate_task_config(llm_response, n_class)\n",
    "llm_result_list = convert_dict_to_indexed_list(llm_response)\n",
    "llm_result_list.insert(0, task_conf)"
   ]
  },
  {
   "cell_type": "code",
   "execution_count": 17,
   "metadata": {},
   "outputs": [
    {
     "data": {
      "text/plain": [
       "0"
      ]
     },
     "execution_count": 17,
     "metadata": {},
     "output_type": "execute_result"
    }
   ],
   "source": [
    "len(keep_idx)"
   ]
  },
  {
   "cell_type": "code",
   "execution_count": 18,
   "metadata": {},
   "outputs": [
    {
     "data": {
      "text/plain": [
       "0"
      ]
     },
     "execution_count": 18,
     "metadata": {},
     "output_type": "execute_result"
    }
   ],
   "source": [
    "gt_dict = {\"gt\": dataset[\"answer\"]}\n",
    "gt_dict[\"gt\"] = [x for i, x in enumerate(gt_dict[\"gt\"]) if i in keep_idx]\n",
    "\n",
    "gt_dict[\"question\"] = [q for i,q in enumerate(dataset['question']) if i in keep_idx]\n",
    "\n",
    "len(gt_dict[\"gt\"])"
   ]
  },
  {
   "cell_type": "code",
   "execution_count": 19,
   "metadata": {},
   "outputs": [],
   "source": [
    "try:\n",
    "    os.mkdir(f\"./data/{now}\")\n",
    "except:\n",
    "    pass\n",
    "\n",
    "with open(f\"./data/{now}/llm_response_{n_sample}__{now}.json\", \"w\") as json_file:\n",
    "    json.dump(llm_response, json_file)\n",
    "\n",
    "pd.DataFrame(gt_dict).to_csv(f\"./data/{now}/gt_{n_sample}__{now}.csv\", index=False)"
   ]
  },
  {
   "cell_type": "code",
   "execution_count": 20,
   "metadata": {},
   "outputs": [
    {
     "data": {
      "text/plain": [
       "'./data/20240813/llm_response_100__20240813.txt'"
      ]
     },
     "execution_count": 20,
     "metadata": {},
     "output_type": "execute_result"
    }
   ],
   "source": [
    "filename = f\"./data/{now}/llm_response_{n_sample}__{now}.txt\"\n",
    "\n",
    "with open(filename, \"w\") as file:\n",
    "    for sublist in llm_result_list:\n",
    "        line = \" \".join(str(num) for num in sublist)  # Convert to string, join with spaces\n",
    "        file.write(line + \"\\n\")  # Write line and add newline\n",
    "filename"
   ]
  },
  {
   "cell_type": "markdown",
   "metadata": {},
   "source": [
    "#  GLAD"
   ]
  },
  {
   "cell_type": "code",
   "execution_count": 14,
   "metadata": {},
   "outputs": [],
   "source": [
    "from utils import Aggregate"
   ]
  },
  {
   "cell_type": "code",
   "execution_count": 15,
   "metadata": {},
   "outputs": [],
   "source": [
    "glad = Aggregate().glad"
   ]
  },
  {
   "cell_type": "code",
   "execution_count": 23,
   "metadata": {},
   "outputs": [],
   "source": [
    "glad_output = glad(\"./data/20240604/llm_response_10__20240604.txt\")"
   ]
  },
  {
   "cell_type": "code",
   "execution_count": 24,
   "metadata": {},
   "outputs": [
    {
     "data": {
      "text/plain": [
       "{'alpha': {0: 1.3686111104019638,\n",
       "  1: 0.4609621853035853,\n",
       "  2: 1.3686111104019638,\n",
       "  3: 0.46096218530358546},\n",
       " 'beta': {0: 2.213137577969233,\n",
       "  1: 4.447469443495815,\n",
       "  2: 2.213137577969233,\n",
       "  3: 4.447469443495815,\n",
       "  4: 4.447469443495815,\n",
       "  5: 1.5354236534317327},\n",
       " 'probZ': {0: {0: 0.0002598525261959247,\n",
       "   1: 3.122844068982658e-05,\n",
       "   2: 0.9996776905924244,\n",
       "   3: 3.122844068982658e-05},\n",
       "  1: {0: 1.056407524860323e-09,\n",
       "   1: 1.056407524860323e-09,\n",
       "   2: 0.9999999968307774,\n",
       "   3: 1.056407524860323e-09},\n",
       "  2: {0: 0.0002598525261959247,\n",
       "   1: 0.9996776905924244,\n",
       "   2: 3.122844068982658e-05,\n",
       "   3: 3.122844068982658e-05},\n",
       "  3: {0: 0.9999999968307772,\n",
       "   1: 1.0564075248603228e-09,\n",
       "   2: 1.0564075248603228e-09,\n",
       "   3: 1.0564075248603228e-09},\n",
       "  4: {0: 1.056407524860323e-09,\n",
       "   1: 1.056407524860323e-09,\n",
       "   2: 0.9999999968307774,\n",
       "   3: 1.056407524860323e-09},\n",
       "  5: {0: 0.0016259262187987,\n",
       "   1: 0.009899281369083378,\n",
       "   2: 0.9785755110430344,\n",
       "   3: 0.009899281369083378}},\n",
       " 'labels': {0: 2, 1: 2, 2: 1, 3: 0, 4: 2, 5: 2}}"
      ]
     },
     "execution_count": 24,
     "metadata": {},
     "output_type": "execute_result"
    }
   ],
   "source": [
    "glad_output"
   ]
  },
  {
   "cell_type": "markdown",
   "metadata": {},
   "source": [
    "# Eval"
   ]
  },
  {
   "cell_type": "code",
   "execution_count": 25,
   "metadata": {},
   "outputs": [],
   "source": [
    "import json\n",
    "import pandas as pd\n",
    "from collections import Counter\n",
    "from typing import Dict, List\n",
    "from sklearn.metrics import accuracy_score, confusion_matrix"
   ]
  },
  {
   "cell_type": "code",
   "execution_count": 26,
   "metadata": {},
   "outputs": [],
   "source": [
    "def get_majority_vote(label_dict: Dict[str, List[int]]) -> List[int]:\n",
    "    \"\"\"\n",
    "    Finds the majority value for each element across multiple lists within a dictionary.\n",
    "\n",
    "    Args:\n",
    "        label_dict: A dictionary where keys are identifiers and values are lists of labels.\n",
    "\n",
    "    Returns:\n",
    "        A list of majority values corresponding to each element position.\n",
    "    \"\"\"\n",
    "    list_of_labels = list(label_dict.values())  # Extract values into a list\n",
    "    majority_values = []\n",
    "\n",
    "    for elements in zip(*list_of_labels):\n",
    "        element_counts = Counter(elements)\n",
    "        most_common_element = element_counts.most_common(1)[0]\n",
    "        majority_values.append(most_common_element[0])\n",
    "\n",
    "    return majority_values\n",
    "\n",
    "\n",
    "def accuracy_with_none_penalty(y_true, y_pred):\n",
    "    filtered_y_true = []\n",
    "    filtered_y_pred = []\n",
    "\n",
    "    for true, pred in zip(y_true, y_pred):\n",
    "        if pred is not None:  # Only include non-None predictions\n",
    "            filtered_y_true.append(true)\n",
    "            filtered_y_pred.append(pred)\n",
    "        else:\n",
    "            filtered_y_true.append(true)  # Include true label\n",
    "            filtered_y_pred.append(-1)   # Replace None with wrong label (e.g., -1)\n",
    "\n",
    "    return accuracy_score(filtered_y_true, filtered_y_pred)"
   ]
  },
  {
   "cell_type": "code",
   "execution_count": 30,
   "metadata": {},
   "outputs": [],
   "source": [
    "with open(\"./data/20240530/llm_response_2000__20240530.json\", \"r\") as f:\n",
    "    llm_response = json.load(f)\n",
    "\n",
    "# df_glad = pd.read_csv(\"./data/label_glad__20240529.csv\")\n"
   ]
  },
  {
   "cell_type": "code",
   "execution_count": 31,
   "metadata": {},
   "outputs": [],
   "source": [
    "llm_response[\"majority\"] = get_majority_vote(llm_response)\n",
    "# llm_response[\"glad\"] = df_glad[\"label\"].values\n",
    "llm_response[\"glad\"] = list(glad_output['labels'].values())"
   ]
  },
  {
   "cell_type": "code",
   "execution_count": 32,
   "metadata": {},
   "outputs": [],
   "source": [
    "d = {}\n",
    "for k, v in llm_response.items():\n",
    "    d[k] = accuracy_with_none_penalty(dataset['answer'], v) * 100"
   ]
  },
  {
   "cell_type": "code",
   "execution_count": 33,
   "metadata": {},
   "outputs": [
    {
     "data": {
      "text/html": [
       "<div>\n",
       "<style scoped>\n",
       "    .dataframe tbody tr th:only-of-type {\n",
       "        vertical-align: middle;\n",
       "    }\n",
       "\n",
       "    .dataframe tbody tr th {\n",
       "        vertical-align: top;\n",
       "    }\n",
       "\n",
       "    .dataframe thead th {\n",
       "        text-align: right;\n",
       "    }\n",
       "</style>\n",
       "<table border=\"1\" class=\"dataframe\">\n",
       "  <thead>\n",
       "    <tr style=\"text-align: right;\">\n",
       "      <th></th>\n",
       "      <th>model</th>\n",
       "      <th>accuracy</th>\n",
       "    </tr>\n",
       "  </thead>\n",
       "  <tbody>\n",
       "    <tr>\n",
       "      <th>0</th>\n",
       "      <td>gemini_-1.0-pro-001</td>\n",
       "      <td>27.000000</td>\n",
       "    </tr>\n",
       "    <tr>\n",
       "      <th>1</th>\n",
       "      <td>gemini_-1.5-flash-001</td>\n",
       "      <td>21.000000</td>\n",
       "    </tr>\n",
       "    <tr>\n",
       "      <th>2</th>\n",
       "      <td>gemini_-1.0-ultra-001</td>\n",
       "      <td>29.000000</td>\n",
       "    </tr>\n",
       "    <tr>\n",
       "      <th>3</th>\n",
       "      <td>palm_temp_0.4</td>\n",
       "      <td>26.000000</td>\n",
       "    </tr>\n",
       "    <tr>\n",
       "      <th>4</th>\n",
       "      <td>majority</td>\n",
       "      <td>25.000000</td>\n",
       "    </tr>\n",
       "    <tr>\n",
       "      <th>5</th>\n",
       "      <td>glad</td>\n",
       "      <td>33.333333</td>\n",
       "    </tr>\n",
       "  </tbody>\n",
       "</table>\n",
       "</div>"
      ],
      "text/plain": [
       "                   model   accuracy\n",
       "0    gemini_-1.0-pro-001  27.000000\n",
       "1  gemini_-1.5-flash-001  21.000000\n",
       "2  gemini_-1.0-ultra-001  29.000000\n",
       "3          palm_temp_0.4  26.000000\n",
       "4               majority  25.000000\n",
       "5                   glad  33.333333"
      ]
     },
     "execution_count": 33,
     "metadata": {},
     "output_type": "execute_result"
    }
   ],
   "source": [
    "df = pd.DataFrame([d]).T.reset_index()\n",
    "df.columns = [\"model\", \"accuracy\"]\n",
    "df"
   ]
  },
  {
   "cell_type": "code",
   "execution_count": 34,
   "metadata": {},
   "outputs": [],
   "source": [
    "# hard questions\n",
    "q_list = [q for i,q in enumerate(dataset['question']) if i in keep_idx]\n",
    "glad_output[\"beta\"]\n",
    "question_d = {\"question\": q_list,\n",
    "              \"task difficulty\": list(glad_output[\"beta\"].values()),\n",
    "              \"label confidence\": list(glad_output[\"probZ\"].values())\n",
    "}"
   ]
  },
  {
   "cell_type": "code",
   "execution_count": 36,
   "metadata": {},
   "outputs": [
    {
     "data": {
      "text/plain": [
       "dict_values([[0, 2, 1, 1, 2, 3, 2, 1, 2, 2, 1, 1, 1, 2, 1, 3, 2, 1, 2, 1, 1, 1, 2, 1, 3, 2, 1, 1, 3, 1, 0, 2, 1, 0, 3, 1, 2, 1, 1, 0, 3, 3, 2, 3, 1, 3, 0, 1, 2, 3, 3, 1, 2, 2, 3, 1, 1, 3, 2, 1, 3, 0, 2, 1, 2, 2, 0, 1, 3, 2, 2, 0, 1, 2, 0, 0, 1, 0, 2, 1, 1, 0, 3, 0, 2, 1, 1, 0, 0, 2, 3, 2, 2, 0, 0, 1, 0, 1, 1, 3, 3, 0, 3, 2, 3, 0, 3, 2, 0, 0, 1, 2, 3, 3, 3, 0, 3, 1, 3, 1, 2, 1, 0, 3, 3, 2, 1, 2, 0, 1, 2, 1, 0, 3, 1, 2, 2, 2, 1, 0, 2, 3, 1, 2, 3, 3, 2, 0, 2, 1, 3, 0, 0, 3, 3, 0, 1, 1, 1, 0, 1, 0, 1, 1, 2, 3, 0, 2, 1, 0, 0, 3, 1, 2, 3, 0, 2, 3, 3, 2, 2, 1, 2, 3, 0, 2, 3, 1, 2, 0, 2, 3, 3, 0, 1, 3, 1, 0, 1, 1, 0, 3, 3, 3, 1, 3, 0, 1, 2, 3, 0, 0, 3, 3, 0, 2, 1, 1, 2, 0, 3, 2, 1, 0, 3, 2, 3, 0, 0, 2, 2, 1, 3, 1, 3, 3, 3, 3, 0, 1, 1, 2, 1, 2, 1, 2, 3, 3, 0, 3, 2, 1, 3, 3, 3, 3, 1, 2, 0, 2, 3, 2, 0, 2, 3, 2, 1, 2, 0, 2, 1, 1, 2, 2, 3, 1, 1, 3, 2, 1, 0, 3, 2, 3, 1, 1, 2, 2, 3, 0, 2, 0, 3, 0, 3, 3, 2, 1, 1, 3, 3, 2, 3, 0, 3, 0, 1, 0, 3, 2, 2, 0, 0, 2, 3, 0, 1, 0, 3, 3, 2, 2, 0, 0, 1, 1, 2, 3, 2, 0, 1, 0, 1, 1, 2, 1, 3, 0, 1, 1, 1, 3, 3, 3, 2, 3, 3, 2, 2, 1, 2, 1, 3, 0, 3, 3, 2, 0, 3, 2, 2, 0, 2, 1, 0, 1, 3, 2, 3, 0, 1, 1, 3, 0, 1, 1, 1, 1, 3, 1, 2, 2, 3, 2, 1, 1, 0, 1, 2, 1, 2, 0, 0, 1, 1, 1, 2, 3, 3, 1, 1, 3, 2, 2, 3, 3, 2, 1, 3, 1, 2, 0, 2, 0, 2, 3, 3, 0, 2, 2, 3, 3, 2, 3, 3, 0, 0, 2, 3, 1, 2, 2, 2, 0, 1, 3, 3, 1, 1, 3, 1, 0, 2, 3, 2, 0, 1, 1, 2, 0, 1, 1, 0, 3, 0, 0, 1, 1, 2, 0, 1, 2, 1, 0, 3, 1, 2, 2, 1, 0, 0, 0, 1, 3, 3, 1, 2, 2, 2, 2, 1, 2, 0, 3, 0, 3, 1, 0, 1, 3, 3, 2, 2, 0, 1, 0, 0, 1, 3, 3, 2, 3, 3, 0, 1, 1, 3, 2, 3, 1, 2, 1, 0, 1, 2, 0, 1, 3, 0, 0, 0, 0, 3, 2, 1, 1, 3, 3, 1, 1, 2, 2, 1, 1, 0, 3, 3, 2, 0, 3, 2, 1, 0, 1, 1, 0, 1, 0, 0, 0, 3, 3, 3, 3, 1, 1, 0, 1, 2, 0, 3, 1, 3, 0, 2, 0, 3, 3, 0, 3, 1, 2, 1, 1, 3, 1, 0, 1, 2, 0, 1, 1, 1, 2, 1, 3, 2, 0, 0, 1, 2, 2, 2, 2, 1, 0, 3, 3, 0, 3, 3, 0, 2, 2, 0, 0, 0, 3, 3, 0, 3, 2, 3, 3, 1, 3, 2, 1, 3, 2, 1, 0, 0, 0, 3, 2, 2, 0, 3, 2, 1, 1, 3, 0, 1, 1, 0, 3, 0, 2, 1, 3, 3, 0, 2, 1, 2, 1, 3, 1, 2, 1, 2, 1, 1, 3, 3, 2, 0, 2, 0, 0, 0, 0, 0, 3, 3, 1, 1, 0, 1, 0, 1, 2, 1, 1, 0, 1, 2, 2, 1, 0, 3, 0, 0, 2, 2, 0, 1, 0, 2, 3, 2, 2, 1, 3, 2, 3, 1, 0, 2, 3, 1, 1, 3, 1, 1, 0, 3, 3, 3, 2, 0, 2, 1, 0, 3, 0, 0, 1, 0, 3, 2, 3, 3, 2, 3, 2, 1, 0, 2, 2, 0, 3, 0, 0, 1, 3, 0, 3, 1, 0, 1, 2, 2, 1, 3, 3, 3, 2, 1, 2, 0, 3, 1, 0, 2, 0, 0, 0, 3, 3, 3, 2, 2, 3, 1, 3, 0, 1, 3, 2, 0, 0, 2, 0, 1, 2, 0, 3, 2, 2, 0, 2, 2, 1, 2, 2, 1, 1, 0, 3, 2, 0, 3, 0, 0, 2, 2, 2, 1, 3, 1, 2, 1, 2, 0, 2, 3, 3, 1, 0, 1, 2, 1, 2, 1, 3, 1, 3, 3, 2, 1, 1, 3, 2, 2, 2, 3, 0, 1, 2, 2, 3, 2, 3, 3, 0, 2, 3, 0, 2, 3, 3, 1, 3, 2, 3, 3, 3, 0, 0, 3, 0, 1, 0, 2, 3, 1, 1, 1, 0, 2, 1, 3, 2, 0, 2, 0, 0, 0, 1, 3, 0, 0, 1, 2, 2, 0, 2, 1, 3, 0, 3, 2, 0, 0, 0, 0, 1, 2, 1, 1, 2, 1, 2, 2, 0, 0, 2, 0, 1, 2, 1, 2, 2, 2, 0, 0, 3, 0, 2, 3, 3, 1, 0, 3, 1, 3, 1, 2, 2, 2, 0, 3, 2, 3, 1, 1, 1, 2, 0, 3, 1, 3, 0, 2, 1, 1, 3, 0, 3, 0, 1, 1, 1, 2, 1, 2, 3, 3, 2, 3, 1, 1, 2, 1, 1, 0, 1, 3, 0, 0, 1, 2, 1, 3, 2, 2, 0, 0, 2, 2, 3, 3, 2, 0, 3, 3, 3, 0, 3, 1, 3, 1, 2, 0, 2, 3, 0, 2, 3, 2, 2, 3, 2, 1, 3, 1, 3, 3, 1, 0, 3, 0, 2, 0, 2, 1, 1, 3, 2, 2, 0, 2, 2, 1, 3, 1, 3, 2, 0, 0, 3, 0, 3, 2, 3, 3, 3, 1, 1, 2, 1, 0, 3, 2, 3, 1, 3, 0, 1, 2, 2, 3, 2, 0, 0, 3, 1, 0, 2, 0, 2, 1, 3, 2, 1, 0, 2, 3, 0, 1, 1, 3, 1, 3, 2, 3, 0, 2, 2, 0, 0, 3, 1, 2, 1, 2, 0, 3, 1, 2, 0, 2, 2, 2, 3, 2, 3, 1, 0, 1, 2, 3, 1, 2, 1, 2, 3, 3, 2, 1, 3, 1, 0, 0, 3, 0, 2, 1, 2, 0, 3, 2, 0, 0, 3, 1, 3, 3, 2, 2, 3, 1, 1, 1, 1, 3, 2, 3, 3, 2, 0, 3, 1, 2, 3, 2, 3, 3, 2, 1, 2, 2, 1, 0, 3, 1, 3, 1, 1, 2, 0, 3, 3, 2, 0, 2, 0, 2, 0, 3, 1, 0, 3, 0, 1, 2, 2, 2, 1, 1, 3, 3, 3, 0, 2, 3, 2, 0, 2, 1, 2, 0, 3, 1, 3, 0, 2, 0, 1, 1, 1, 3, 2, 0, 3, 0, 1, 3, 2, 0, 2, 3, 0, 2, 3, 2, 0, 0, 0, 1, 3, 3, 0, 2, 0, 3, 3, 1, 2, 3, 1, 1, 0, 0, 0, 2, 0, 3, 3, 3, 3, 0, 2, 2, 2, 3, 0, 2, 2, 0, 1, 3, 1, 1, 3, 1, 0, 3, 2, 3, 2, 3, 1, 2, 0, 2, 1, 1, 2, 2, 3, 1, 2, 0, 2, 2, 3, 1, 3, 1, 2, 1, 3, 2, 1, 2, 0, 1, 3, 0, 2, 3, 1, 1, 1, 1, 2, 0, 1, 1, 3, 3, 3, 0, 3, 0, 0, 1, 1, 1, 1, 1, 1, 2, 3, 1, 0, 1, 3, 1, 2, 0, 3, 2, 1, 0, 2, 1, 0, 1, 2, 3, 3, 1, 0, 0, 3, 3, 2, 3, 3, 0, 0, 0, 3, 3, 1, 1, 1, 1, 2, 2, 2, 3, 0, 1, 1, 0, 2, 2, 3, 1, 1, 0, 0, 0, 3, 1, 2, 2, 1, 3, 2, 3, 3, 1, 1, 1, 3, 0, 3, 0, 3, 2, 2, 1, 2, 3, 3, 3, 1, 2, 1, 2, 0, 3, 2, 1, 2, 3, 3, 3, 2, 1, 0, 3, 3, 2, 2, 3, 1, 0, 3, 3, 1, 1, 2, 2, 2, 3, 0, 0, 3, 1, 0, 2, 0, 3, 2, 2, 3, 2, 2, 1, 3, 2, 3, 1, 1, 3, 3, 3, 3, 3, 0, 0, 2, 0, 2, 2, 0, 1, 3, 0, 3, 3, 3, 3, 2, 1, 0, 2, 1, 0, 1, 2, 3, 3, 0, 0, 1, 1, 2, 3, 2, 2, 1, 1, 3, 0, 3, 3, 1, 3, 2, 3, 3, 3, 3, 0, 2, 2, 1, 1, 3, 3, 3, 0, 0, 3, 3, 1, 2, 0, 1, 0, 2, 0, 2, 2, 0, 1, 1, 3, 3, 2, 1, 1, 0, 3, 3, 3, 0, 0, 3, 0, 0, 0, 0, 2, 2, 2, 0, 0, 1, 3, 3, 3, 1, 0, 0, 2, 0, 1, 1, 3, 3, 3, 0, 1, 0, 3, 0, 2, 1, 0, 1, 0, 3, 3, 1, 0, 0, 2, 1, 3, 1, 1, 3, 0, 0, 2, 2, 1, 2, 3, 2, 2, 2, 0, 0, 1, 2, 1, 1, 1, 1, 0, 3, 3, 3, 2, 1, 1, 2, 0, 2, 2, 0, 1, 2, 3, 0, 1, 0, 3, 1, 2, 0, 2, 1, 1, 2, 3, 2, 1, 1, 2, 3, 3, 1, 0, 3, 1, 1, 0, 0, 2, 1, 1, 0, 0, 2, 1, 0, 2, 1, 0, 1, 2, 1, 3, 1, 1, 1, 1, 3, 1, 0, 2, 1, 0, 0, 1, 3, 2, 1, 2, 3, 1, 1, 0, 2, 0, 1, 1, 2, 2, 2, 0], [0, 2, 1, 1, 2, 3, 2, 1, 2, 0, 0, 1, 1, 2, 1, 3, 2, 1, 2, 3, 1, 1, 2, 1, 3, 2, 1, 1, 1, 1, 0, 2, 2, 0, 3, 1, 2, 3, 1, 0, 3, 3, 2, 3, 1, 3, 0, 1, 2, 3, 3, 1, 2, 2, 3, 1, 1, 3, 2, 1, 3, 0, 2, 1, 0, 2, 0, 1, 0, 2, 2, 0, 1, 2, 0, 0, 2, 0, 2, 1, 1, 0, 3, 0, 2, 1, 1, 1, 0, 2, 3, 2, 2, 0, 0, 1, 1, 2, 1, 3, 3, 0, 3, 2, 3, 0, 3, 2, 0, 2, 3, 2, 3, 3, 3, 0, 3, 1, 3, 0, 2, 1, 0, 3, 3, 2, 1, 2, 1, 0, 2, 1, 0, 3, 1, 2, 2, 2, 1, 0, 2, 3, 1, 2, 3, 3, 2, 2, 2, 1, 2, 0, 0, 3, 2, 0, 1, 2, 1, 1, 1, 0, 1, 1, 2, 3, 0, 1, 1, 3, 0, 3, 1, 2, 3, 0, 2, 2, 3, 3, 2, 1, 0, 3, 0, 2, 3, 1, 2, 1, 1, 3, 0, 3, 2, 3, 1, 0, 2, 3, 0, 1, 3, 3, 3, 3, 1, 1, 2, 3, 3, 0, 3, 3, 0, 3, 1, 1, 2, 0, 3, 2, 1, 0, 3, 2, 3, 3, 3, 2, 2, 1, 3, 1, 3, 3, 3, 3, 0, 1, 2, 0, 1, 1, 1, 1, 3, 1, 0, 1, 2, 1, 2, 2, 3, 0, 1, 2, 0, 2, 3, 2, 0, 2, 3, 2, 1, 2, 0, 0, 2, 1, 2, 2, 3, 1, 1, 2, 2, 1, 0, 3, 2, 3, 1, 1, 2, 3, 3, 2, 2, 0, 3, 0, 3, 3, 2, 1, 1, 1, 2, 2, 1, 0, 3, 1, 1, 0, 3, 2, 2, 3, 0, 2, 3, 0, 1, 0, 3, 3, 2, 2, 0, 0, 1, 3, 2, 2, 3, 0, 1, 3, 1, 1, 2, 2, 3, 0, 1, 1, 1, 3, 3, 3, 2, 3, 3, 3, 2, 1, 2, 0, 2, 0, 3, 3, 0, 0, 3, 3, 2, 0, 3, 1, 0, 1, 3, 2, 3, 0, 2, 1, 3, 1, 1, 1, 1, 1, 3, 1, 2, 2, 3, 2, 1, 1, 0, 1, 1, 1, 2, 0, 0, 1, 0, 1, 2, 3, 3, 1, 1, 3, 3, 2, 3, 2, 2, 2, 3, 3, 3, 0, 2, 0, 2, 2, 3, 0, 2, 1, 3, 1, 2, 3, 3, 1, 0, 2, 3, 3, 0, 2, 1, 2, 3, 3, 3, 1, 2, 3, 1, 0, 2, 3, 2, 0, 2, 1, 2, 3, 1, 1, 2, 3, 0, 3, 1, 2, 1, 0, 1, 1, 1, 1, 3, 1, 2, 2, 1, 0, 0, 0, 2, 3, 3, 1, 2, 2, 2, 2, 1, 2, 0, 3, 0, 3, 1, 2, 1, 3, 3, 2, 2, 0, 1, 0, 0, 1, 3, 3, 0, 3, 3, 0, 1, 2, 3, 2, 3, 1, 2, 1, 0, 1, 2, 0, 1, 3, 0, 1, 0, 3, 3, 2, 2, 2, 3, 3, 1, 1, 2, 2, 1, 1, 1, 3, 3, 2, 0, 3, 2, 1, 0, 1, 1, 0, 2, 0, 3, 0, 3, 3, 3, 2, 0, 1, 0, 3, 2, 2, 3, 1, 3, 1, 2, 0, 3, 3, 0, 3, 3, 2, 1, 2, 3, 1, 0, 1, 2, 0, 2, 1, 1, 2, 1, 3, 2, 0, 0, 1, 3, 2, 2, 0, 1, 0, 3, 3, 3, 3, 3, 0, 2, 2, 0, 0, 0, 3, 1, 0, 3, 2, 3, 3, 1, 2, 2, 1, 3, 2, 1, 0, 0, 0, 3, 2, 2, 0, 3, 2, 2, 1, 3, 0, 1, 1, 0, 3, 0, 2, 0, 3, 0, 3, 2, 1, 2, 1, 3, 2, 2, 1, 2, 1, 1, 3, 3, 3, 2, 1, 0, 0, 0, 0, 0, 3, 3, 1, 1, 2, 2, 1, 1, 2, 1, 1, 0, 1, 2, 2, 0, 1, 1, 0, 2, 1, 2, 1, 1, 0, 2, 3, 2, 1, 1, 3, 2, 0, 1, 2, 0, 3, 2, 0, 1, 1, 1, 0, 3, 3, 3, 2, 2, 1, 1, 0, 3, 0, 1, 1, 0, 3, 2, 3, 2, 2, 3, 1, 1, 1, 1, 2, 0, 3, 0, 0, 3, 0, 0, 3, 3, 1, 1, 2, 2, 1, 3, 1, 3, 2, 1, 2, 0, 3, 1, 0, 0, 0, 0, 0, 3, 3, 1, 2, 2, 3, 0, 3, 0, 1, 3, 3, 0, 0, 2, 3, 1, 2, 0, 3, 2, 2, 0, 0, 1, 1, 2, 2, 1, 1, 1, 3, 2, 0, 3, 0, 0, 1, 2, 1, 1, 3, 2, 2, 1, 0, 2, 2, 3, 3, 1, 0, 1, 2, 1, 0, 1, 2, 2, 3, 3, 2, 1, 1, 3, 1, 2, 2, 1, 0, 1, 2, 1, 3, 2, 3, 3, 0, 2, 3, 0, 2, 3, 3, 1, 3, 2, 0, 3, 3, 0, 0, 3, 0, 1, 0, 2, 1, 1, 2, 1, 0, 2, 1, 3, 2, 0, 3, 0, 0, 0, 1, 1, 0, 0, 1, 2, 1, 0, 2, 1, 1, 0, 3, 2, 0, 2, 0, 0, 0, 2, 1, 1, 2, 2, 2, 2, 0, 0, 2, 0, 1, 2, 2, 2, 2, 2, 0, 0, 3, 2, 2, 3, 3, 1, 0, 1, 1, 3, 1, 2, 2, 2, 0, 3, 2, 3, 1, 1, 1, 2, 0, 3, 1, 3, 0, 2, 1, 1, 3, 0, 3, 0, 1, 1, 1, 2, 1, 2, 3, 3, 2, 3, 2, 1, 2, 1, 1, 0, 1, 3, 0, 0, 1, 2, 1, 3, 2, 3, 3, 2, 2, 2, 0, 3, 2, 0, 3, 3, 3, 0, 3, 1, 3, 2, 2, 2, 3, 3, 0, 2, 3, 2, 0, 1, 2, 1, 3, 1, 3, 3, 1, 0, 3, 0, 2, 0, 2, 1, 1, 2, 2, 2, 0, 2, 2, 1, 3, 1, 3, 2, 0, 2, 3, 0, 3, 2, 3, 3, 3, 1, 0, 2, 1, 0, 3, 2, 3, 1, 3, 0, 3, 2, 2, 3, 2, 0, 0, 3, 1, 0, 2, 0, 2, 1, 3, 2, 3, 0, 2, 3, 0, 1, 1, 3, 1, 3, 2, 0, 0, 2, 2, 3, 0, 3, 1, 2, 1, 2, 0, 0, 1, 2, 0, 2, 3, 0, 3, 1, 3, 1, 0, 1, 2, 3, 1, 2, 1, 1, 2, 3, 2, 1, 3, 1, 2, 0, 3, 1, 2, 1, 0, 0, 1, 2, 1, 0, 3, 2, 1, 3, 2, 1, 3, 0, 1, 1, 1, 3, 2, 3, 3, 0, 0, 1, 1, 2, 3, 2, 3, 3, 3, 1, 2, 2, 1, 0, 3, 1, 3, 1, 1, 1, 0, 3, 3, 2, 0, 2, 0, 2, 0, 3, 1, 0, 3, 0, 0, 1, 1, 2, 0, 1, 3, 3, 1, 0, 2, 0, 2, 0, 1, 1, 2, 0, 3, 2, 3, 1, 2, 0, 1, 0, 1, 3, 3, 0, 1, 0, 1, 3, 1, 3, 2, 3, 0, 2, 3, 2, 0, 0, 0, 1, 3, 3, 0, 2, 0, 3, 3, 0, 2, 3, 1, 3, 0, 0, 1, 2, 0, 3, 3, 3, 0, 0, 2, 2, 2, 3, 2, 2, 2, 0, 1, 3, 1, 1, 3, 1, 0, 3, 2, 3, 2, 3, 1, 2, 1, 2, 1, 1, 2, 2, 3, 1, 2, 0, 2, 2, 3, 1, 3, 1, 2, 1, 3, 1, 1, 2, 1, 1, 3, 0, 0, 0, 3, 1, 1, 1, 2, 1, 1, 1, 3, 3, 3, 0, 3, 0, 0, 1, 1, 2, 1, 1, 1, 2, 3, 1, 0, 1, 3, 1, 2, 0, 3, 2, 1, 0, 2, 1, 0, 1, 2, 1, 3, 1, 0, 1, 3, 3, 2, 3, 3, 0, 1, 0, 3, 3, 2, 1, 1, 1, 2, 2, 2, 3, 0, 1, 1, 0, 2, 2, 3, 1, 0, 0, 0, 1, 2, 1, 2, 2, 1, 3, 1, 3, 2, 1, 3, 3, 3, 0, 3, 0, 3, 3, 2, 1, 2, 3, 3, 3, 1, 2, 1, 2, 0, 1, 2, 1, 2, 3, 3, 3, 2, 1, 2, 3, 3, 2, 2, 3, 2, 1, 3, 3, 1, 1, 2, 2, 2, 1, 0, 0, 1, 1, 0, 2, 0, 3, 2, 2, 0, 0, 2, 1, 3, 2, 1, 1, 2, 3, 2, 1, 3, 3, 0, 0, 2, 0, 0, 2, 1, 0, 3, 0, 3, 3, 1, 3, 2, 1, 0, 1, 1, 0, 1, 2, 1, 3, 0, 0, 1, 0, 2, 3, 2, 2, 1, 1, 2, 0, 3, 3, 1, 3, 2, 3, 3, 2, 1, 0, 2, 2, 1, 2, 3, 3, 2, 0, 0, 3, 3, 1, 3, 0, 1, 0, 2, 0, 3, 1, 0, 1, 0, 3, 3, 2, 1, 1, 0, 3, 3, 3, 0, 0, 3, 0, 0, 0, 0, 2, 2, 2, 0, 0, 2, 3, 3, 3, 1, 0, 0, 2, 0, 1, 1, 3, 3, 3, 0, 1, 0, 3, 0, 2, 1, 0, 1, 1, 1, 3, 1, 1, 3, 2, 0, 3, 1, 1, 1, 0, 3, 2, 2, 1, 2, 1, 2, 2, 2, 0, 0, 3, 2, 1, 1, 1, 1, 1, 2, 0, 3, 2, 1, 3, 3, 0, 2, 2, 0, 0, 2, 3, 0, 0, 0, 3, 1, 1, 0, 2, 1, 1, 2, 0, 0, 1, 1, 2, 1, 0, 1, 0, 3, 1, 1, 0, 0, 2, 2, 1, 0, 0, 2, 1, 0, 2, 0, 0, 1, 2, 1, 3, 1, 2, 1, 1, 3, 1, 0, 2, 1, 0, 0, 2, 3, 2, 0, 2, 3, 1, 0, 0, 2, 0, 1, 1, 2, 2, 2, 1], [0, 2, 3, 1, 2, 3, 2, 1, 2, 2, 1, 3, 1, 2, 1, 3, 2, 2, 2, 0, 1, 1, 2, 1, 3, 1, 1, 1, 1, 1, 0, 2, 1, 0, 2, 1, 2, 3, 3, 1, 3, 3, 2, 3, 2, 3, 3, 1, 2, 3, 3, 1, 2, 0, 3, 1, 1, 3, 2, 1, 3, 0, 2, 1, 2, 2, 0, 1, 0, 2, 2, 0, 1, 2, 0, 0, 2, 0, 2, 2, 1, 0, 3, 0, 2, 1, 2, 1, 0, 2, 3, 2, 2, 0, 0, 0, 0, 1, 1, 3, 3, 0, 3, 1, 3, 0, 3, 0, 0, 2, 1, 2, 3, 3, 3, 0, 3, 2, 3, 1, 2, 1, 2, 3, 3, 2, 1, 2, 2, 2, 2, 1, 0, 3, 1, 2, 0, 2, 1, 1, 2, 3, 1, 0, 3, 3, 2, 2, 1, 3, 2, 0, 0, 3, 1, 0, 1, 1, 1, 0, 2, 0, 1, 1, 2, 3, 0, 2, 1, 3, 0, 3, 1, 2, 3, 0, 2, 2, 3, 2, 2, 1, 3, 3, 0, 2, 0, 1, 2, 0, 2, 2, 3, 3, 2, 3, 1, 0, 2, 1, 0, 0, 3, 3, 2, 3, 0, 1, 3, 3, 3, 0, 3, 3, 3, 2, 1, 1, 2, 0, 3, 2, 1, 0, 3, 2, 3, 3, 0, 1, 2, 1, 3, 1, 3, 3, 3, 3, 0, 1, 1, 0, 1, 1, 1, 2, 3, 3, 0, 3, 2, 1, 3, 3, 3, 3, 1, 3, 0, 2, 3, 0, 0, 2, 2, 2, 1, 2, 0, 1, 1, 1, 2, 2, 3, 1, 1, 3, 2, 3, 0, 3, 2, 3, 1, 1, 2, 2, 3, 2, 2, 0, 3, 0, 3, 3, 2, 1, 1, 3, 2, 1, 3, 0, 3, 0, 0, 0, 0, 2, 2, 0, 0, 2, 3, 0, 1, 0, 3, 3, 2, 1, 0, 1, 1, 1, 2, 2, 2, 0, 1, 2, 1, 1, 2, 1, 3, 0, 1, 2, 1, 3, 3, 3, 2, 3, 3, 2, 2, 1, 3, 1, 3, 2, 3, 1, 0, 0, 3, 3, 2, 0, 3, 1, 0, 1, 3, 1, 3, 0, 1, 1, 3, 0, 1, 1, 1, 1, 3, 1, 2, 2, 3, 2, 2, 1, 0, 1, 1, 1, 2, 0, 0, 1, 1, 1, 2, 3, 3, 1, 1, 2, 2, 2, 3, 3, 2, 1, 3, 1, 3, 0, 2, 2, 2, 3, 1, 0, 2, 2, 1, 2, 2, 3, 3, 0, 0, 2, 1, 1, 2, 1, 2, 0, 1, 3, 3, 1, 2, 3, 1, 0, 2, 3, 2, 0, 1, 1, 2, 3, 0, 1, 2, 3, 0, 0, 1, 1, 1, 0, 1, 2, 3, 1, 3, 1, 1, 2, 1, 0, 0, 1, 1, 3, 3, 1, 0, 2, 2, 2, 1, 2, 0, 3, 0, 3, 1, 0, 1, 3, 3, 2, 2, 0, 1, 0, 0, 1, 3, 3, 2, 3, 3, 0, 3, 1, 3, 2, 2, 1, 2, 1, 0, 1, 2, 0, 1, 3, 0, 1, 0, 0, 3, 2, 1, 1, 3, 3, 1, 2, 2, 2, 1, 1, 1, 3, 3, 2, 0, 2, 2, 1, 0, 1, 1, 0, 1, 0, 0, 0, 3, 3, 3, 2, 1, 1, 0, 3, 2, 3, 3, 1, 3, 0, 3, 0, 3, 3, 0, 3, 1, 2, 1, 1, 3, 1, 2, 2, 2, 0, 2, 1, 1, 1, 1, 2, 2, 0, 0, 1, 2, 2, 2, 2, 2, 0, 3, 3, 3, 3, 3, 0, 2, 2, 0, 0, 0, 3, 3, 0, 3, 2, 3, 3, 1, 2, 3, 1, 3, 2, 1, 0, 0, 0, 3, 2, 2, 0, 2, 2, 1, 1, 3, 0, 1, 1, 0, 3, 0, 2, 1, 3, 3, 3, 1, 1, 2, 1, 3, 1, 2, 1, 2, 1, 1, 3, 2, 1, 0, 3, 0, 0, 0, 0, 0, 3, 1, 1, 1, 2, 1, 0, 1, 2, 1, 1, 0, 1, 2, 2, 0, 0, 3, 0, 0, 1, 2, 1, 1, 0, 2, 2, 2, 2, 1, 3, 2, 3, 1, 0, 2, 3, 2, 0, 3, 1, 1, 0, 3, 3, 3, 2, 2, 3, 1, 0, 3, 0, 2, 1, 0, 3, 2, 3, 0, 2, 2, 2, 1, 0, 2, 2, 0, 3, 0, 0, 3, 0, 0, 3, 1, 1, 1, 2, 2, 1, 3, 1, 1, 2, 1, 2, 0, 3, 1, 0, 0, 0, 0, 0, 3, 3, 3, 2, 2, 3, 1, 3, 0, 1, 3, 0, 1, 0, 2, 0, 2, 2, 0, 3, 1, 2, 0, 0, 3, 1, 2, 2, 1, 1, 1, 3, 2, 0, 3, 0, 1, 2, 2, 3, 1, 3, 1, 2, 1, 2, 0, 2, 3, 3, 1, 0, 1, 2, 1, 2, 1, 3, 1, 3, 3, 1, 1, 1, 3, 2, 2, 2, 1, 0, 1, 2, 0, 3, 2, 3, 3, 0, 2, 3, 0, 2, 3, 3, 1, 3, 2, 0, 3, 3, 0, 2, 3, 0, 1, 0, 2, 1, 1, 0, 1, 0, 2, 1, 3, 2, 0, 2, 1, 0, 2, 1, 3, 0, 0, 1, 1, 1, 0, 2, 3, 3, 3, 3, 2, 0, 1, 0, 0, 0, 2, 1, 1, 2, 3, 2, 2, 0, 0, 2, 0, 1, 2, 3, 2, 2, 2, 0, 0, 3, 0, 2, 3, 3, 1, 0, 2, 1, 3, 1, 2, 2, 1, 0, 3, 2, 3, 2, 1, 1, 2, 0, 3, 2, 3, 0, 2, 1, 1, 3, 0, 3, 0, 2, 1, 1, 2, 1, 2, 3, 3, 2, 3, 1, 1, 2, 1, 1, 0, 1, 3, 0, 0, 2, 2, 1, 3, 2, 2, 0, 0, 2, 2, 0, 2, 2, 0, 3, 3, 3, 3, 3, 1, 3, 1, 2, 2, 3, 3, 0, 2, 3, 2, 2, 0, 2, 1, 3, 1, 3, 3, 1, 0, 2, 0, 2, 0, 2, 1, 1, 2, 2, 2, 0, 2, 1, 1, 3, 1, 3, 2, 0, 2, 3, 0, 3, 2, 3, 3, 3, 1, 0, 3, 1, 0, 3, 2, 3, 1, 3, 0, 1, 2, 2, 1, 2, 0, 0, 3, 1, 0, 2, 0, 2, 1, 3, 2, 1, 0, 2, 3, 0, 2, 1, 3, 1, 3, 2, 0, 2, 2, 2, 3, 0, 3, 1, 2, 1, 2, 0, 3, 1, 2, 0, 0, 3, 2, 3, 1, 3, 1, 1, 1, 2, 3, 1, 2, 1, 2, 3, 3, 2, 1, 3, 1, 1, 0, 1, 1, 2, 1, 0, 0, 1, 2, 0, 0, 3, 1, 3, 3, 1, 2, 0, 1, 1, 1, 1, 3, 2, 3, 3, 2, 0, 1, 0, 2, 3, 2, 3, 3, 3, 1, 3, 2, 1, 0, 3, 1, 3, 1, 1, 1, 0, 3, 3, 2, 0, 2, 0, 2, 0, 3, 1, 0, 3, 0, 1, 1, 2, 2, 0, 1, 3, 3, 1, 0, 2, 3, 2, 0, 1, 1, 2, 0, 3, 2, 3, 1, 2, 0, 1, 0, 1, 3, 2, 0, 3, 0, 1, 1, 3, 0, 2, 3, 1, 2, 3, 2, 0, 0, 0, 1, 1, 3, 0, 2, 0, 3, 3, 1, 2, 1, 1, 3, 0, 0, 1, 0, 0, 3, 3, 3, 0, 0, 2, 2, 2, 3, 0, 2, 2, 0, 1, 3, 1, 1, 3, 1, 0, 3, 2, 3, 2, 3, 1, 2, 1, 2, 1, 1, 2, 2, 3, 1, 2, 0, 2, 2, 3, 1, 3, 1, 2, 1, 3, 1, 1, 2, 1, 1, 3, 0, 0, 0, 1, 1, 1, 1, 2, 0, 1, 1, 3, 3, 3, 0, 3, 0, 0, 1, 1, 2, 1, 1, 1, 2, 1, 1, 0, 2, 3, 1, 2, 0, 3, 2, 1, 0, 2, 1, 0, 1, 2, 1, 3, 1, 0, 3, 3, 3, 0, 3, 3, 0, 1, 0, 3, 0, 1, 2, 1, 1, 2, 2, 2, 3, 3, 1, 1, 0, 2, 2, 3, 0, 1, 0, 0, 3, 2, 1, 2, 2, 1, 3, 3, 1, 3, 1, 2, 1, 3, 0, 3, 0, 3, 1, 2, 1, 2, 1, 3, 1, 1, 2, 1, 3, 0, 1, 2, 1, 2, 2, 3, 3, 2, 1, 2, 3, 3, 2, 2, 3, 2, 1, 3, 3, 1, 1, 2, 2, 2, 3, 0, 0, 3, 1, 3, 2, 0, 3, 2, 2, 3, 3, 2, 1, 3, 2, 3, 1, 2, 3, 3, 1, 3, 1, 0, 0, 2, 0, 2, 2, 1, 1, 3, 0, 3, 3, 1, 3, 2, 1, 0, 1, 1, 0, 2, 2, 1, 3, 0, 0, 1, 0, 2, 3, 2, 2, 1, 0, 3, 1, 3, 3, 1, 3, 0, 3, 3, 3, 3, 0, 2, 2, 1, 2, 3, 3, 2, 0, 1, 3, 3, 2, 3, 0, 3, 0, 2, 0, 3, 1, 0, 0, 1, 3, 3, 2, 1, 1, 0, 3, 3, 3, 0, 0, 3, 0, 0, 0, 0, 2, 3, 2, 1, 0, 2, 3, 3, 3, 1, 0, 0, 2, 0, 1, 1, 3, 3, 3, 1, 1, 0, 3, 0, 2, 1, 0, 1, 1, 3, 3, 1, 0, 0, 2, 0, 3, 1, 0, 2, 0, 3, 2, 2, 1, 2, 1, 2, 2, 2, 0, 0, 3, 2, 0, 1, 1, 1, 0, 2, 0, 3, 1, 1, 3, 2, 0, 2, 2, 0, 0, 2, 3, 0, 0, 0, 0, 1, 1, 0, 2, 1, 1, 2, 1, 2, 1, 1, 0, 2, 0, 1, 0, 3, 1, 1, 0, 0, 2, 1, 1, 0, 3, 2, 1, 0, 2, 3, 0, 1, 2, 1, 3, 1, 2, 1, 1, 3, 1, 0, 2, 1, 0, 0, 1, 3, 2, 0, 2, 3, 2, 1, 0, 2, 0, 1, 1, 2, 2, 2, 0], [0, 2, 2, 1, 2, 2, 0, 2, 2, 2, 0, 1, 1, 2, 1, 3, 2, 1, 2, 2, 1, 1, 2, 1, 3, 2, 0, 1, 1, 1, 0, 1, 1, 0, 3, 1, 2, 1, 1, 1, 3, 3, 2, 3, 1, 1, 0, 3, 2, 3, 3, 1, 2, 1, 3, 1, 1, 3, 3, 1, 3, 1, 3, 1, 2, 2, 0, 1, 0, 2, 2, 0, 1, 0, 0, 0, 1, 0, 2, 2, 1, 0, 3, 1, 2, 1, 2, 2, 0, 2, 3, 2, 2, 3, 3, 1, 0, 2, 1, 3, 3, 0, 3, 2, 3, 0, 3, 0, 0, 2, 1, 2, 3, 3, 3, 0, 3, 1, 3, 1, 2, 1, 2, 3, 3, 2, 1, 2, 0, 1, 2, 1, 0, 3, 1, 2, 2, 2, 0, 2, 2, 1, 1, 2, 3, 3, 2, 0, 2, 1, 2, 0, 0, 3, 1, 0, 1, 1, 1, 0, 2, 0, 1, 1, 2, 3, 1, 1, 1, 0, 0, 3, 3, 2, 3, 0, 2, 2, 3, 3, 2, 1, 2, 3, 0, 2, 3, 1, 2, 0, 1, 3, 3, 0, 1, 3, 1, 0, 1, 1, 0, 0, 1, 3, 2, 3, 0, 1, 0, 3, 3, 0, 1, 3, 3, 3, 1, 1, 2, 0, 3, 2, 1, 0, 3, 0, 3, 3, 0, 2, 2, 1, 3, 1, 3, 3, 3, 3, 0, 1, 1, 0, 1, 1, 1, 1, 3, 1, 0, 3, 2, 0, 2, 1, 2, 3, 1, 2, 0, 2, 3, 2, 0, 2, 3, 2, 1, 2, 0, 2, 1, 1, 2, 2, 3, 1, 3, 1, 2, 3, 0, 3, 2, 3, 1, 1, 2, 2, 3, 2, 2, 0, 3, 0, 3, 3, 2, 1, 1, 3, 3, 1, 1, 0, 1, 0, 0, 0, 3, 2, 0, 0, 0, 3, 3, 0, 1, 3, 3, 3, 2, 1, 0, 0, 1, 1, 2, 3, 3, 0, 1, 2, 1, 1, 2, 2, 3, 0, 2, 1, 1, 3, 3, 3, 2, 3, 0, 2, 2, 1, 2, 0, 3, 0, 3, 1, 2, 0, 3, 3, 2, 0, 3, 1, 0, 1, 3, 1, 3, 0, 1, 1, 3, 0, 1, 1, 1, 1, 3, 1, 2, 2, 3, 2, 1, 1, 0, 1, 2, 3, 2, 0, 0, 2, 0, 1, 2, 3, 3, 1, 1, 2, 2, 2, 3, 2, 2, 1, 3, 1, 3, 0, 2, 0, 2, 2, 3, 0, 2, 1, 2, 1, 2, 3, 3, 1, 0, 2, 1, 1, 1, 0, 2, 0, 1, 3, 0, 3, 1, 3, 1, 2, 2, 3, 2, 0, 1, 1, 2, 3, 1, 1, 0, 2, 0, 0, 1, 2, 1, 2, 0, 2, 1, 1, 3, 1, 2, 2, 0, 0, 0, 1, 1, 1, 3, 1, 0, 2, 2, 2, 1, 2, 0, 3, 1, 3, 1, 2, 1, 3, 3, 2, 2, 0, 1, 0, 0, 1, 0, 3, 2, 3, 3, 0, 1, 1, 3, 2, 3, 1, 2, 1, 0, 1, 2, 2, 0, 3, 2, 1, 0, 2, 3, 2, 1, 1, 3, 3, 1, 1, 2, 1, 1, 1, 1, 3, 3, 2, 0, 2, 1, 1, 0, 1, 1, 0, 1, 0, 2, 0, 3, 3, 1, 0, 1, 1, 0, 3, 2, 3, 3, 1, 3, 1, 2, 0, 3, 3, 3, 3, 3, 2, 1, 2, 3, 1, 0, 3, 1, 3, 2, 1, 1, 2, 1, 2, 2, 0, 0, 1, 2, 2, 3, 2, 2, 0, 3, 3, 3, 0, 3, 0, 2, 2, 0, 0, 2, 0, 1, 0, 3, 2, 3, 3, 1, 1, 2, 1, 3, 2, 1, 0, 0, 0, 3, 2, 2, 0, 0, 2, 1, 1, 3, 0, 1, 1, 1, 0, 2, 2, 1, 3, 0, 0, 1, 1, 2, 1, 3, 2, 2, 1, 2, 1, 1, 3, 3, 1, 2, 3, 0, 0, 0, 0, 0, 3, 2, 1, 1, 2, 1, 1, 1, 2, 1, 0, 0, 1, 2, 2, 1, 1, 1, 0, 1, 1, 2, 1, 1, 0, 1, 2, 2, 2, 1, 3, 0, 3, 1, 0, 0, 3, 1, 1, 3, 1, 1, 0, 3, 3, 2, 3, 2, 1, 1, 0, 3, 0, 1, 1, 0, 3, 2, 3, 0, 2, 2, 2, 1, 1, 3, 2, 2, 3, 0, 0, 1, 2, 0, 3, 1, 1, 1, 2, 2, 1, 0, 3, 3, 2, 1, 2, 0, 3, 1, 0, 1, 0, 0, 0, 3, 3, 1, 2, 2, 3, 0, 3, 0, 1, 2, 3, 0, 0, 2, 1, 2, 2, 2, 3, 2, 2, 0, 2, 1, 1, 2, 2, 2, 1, 1, 3, 2, 0, 3, 0, 0, 1, 2, 1, 1, 3, 1, 2, 1, 0, 0, 2, 3, 3, 1, 0, 1, 2, 1, 2, 1, 3, 2, 0, 3, 1, 1, 1, 3, 2, 2, 2, 3, 0, 1, 2, 1, 3, 3, 3, 3, 3, 3, 3, 1, 2, 3, 1, 1, 1, 2, 0, 3, 3, 3, 2, 3, 0, 1, 0, 2, 1, 1, 1, 1, 0, 2, 1, 3, 2, 0, 3, 1, 0, 2, 1, 0, 0, 0, 0, 2, 1, 0, 2, 1, 1, 3, 3, 2, 0, 0, 0, 0, 1, 2, 1, 1, 0, 3, 2, 2, 0, 0, 2, 0, 1, 1, 1, 2, 2, 2, 0, 0, 3, 1, 2, 3, 3, 1, 0, 2, 1, 3, 1, 2, 2, 2, 0, 3, 2, 3, 1, 1, 1, 2, 1, 3, 1, 3, 0, 2, 1, 1, 0, 0, 3, 0, 2, 1, 1, 2, 1, 2, 3, 2, 2, 3, 1, 1, 2, 1, 1, 0, 1, 3, 0, 0, 1, 2, 1, 2, 2, 2, 0, 0, 2, 2, 3, 3, 2, 0, 3, 3, 3, 0, 1, 1, 3, 1, 1, 1, 1, 3, 3, 2, 3, 2, 2, 3, 2, 1, 3, 1, 3, 3, 0, 0, 2, 0, 0, 3, 2, 2, 1, 1, 2, 2, 0, 2, 0, 1, 3, 1, 3, 2, 0, 2, 2, 0, 3, 2, 3, 3, 3, 1, 3, 2, 1, 0, 3, 2, 3, 1, 0, 0, 3, 2, 2, 0, 2, 0, 0, 3, 1, 0, 2, 0, 2, 1, 3, 1, 1, 0, 2, 3, 0, 3, 1, 3, 0, 3, 3, 3, 2, 0, 2, 0, 0, 3, 1, 2, 3, 0, 0, 3, 1, 2, 1, 3, 3, 1, 3, 1, 3, 1, 1, 1, 2, 3, 2, 2, 1, 1, 2, 3, 2, 0, 2, 1, 0, 0, 3, 3, 2, 1, 0, 3, 1, 1, 1, 3, 3, 1, 3, 3, 2, 2, 1, 1, 1, 0, 1, 3, 2, 2, 3, 2, 0, 0, 3, 2, 3, 2, 3, 3, 2, 1, 2, 2, 1, 0, 3, 1, 3, 1, 1, 1, 0, 3, 3, 2, 0, 2, 1, 2, 0, 3, 0, 0, 3, 0, 2, 1, 2, 2, 0, 1, 3, 3, 1, 0, 2, 3, 2, 0, 1, 1, 2, 0, 2, 1, 3, 1, 2, 0, 1, 0, 1, 3, 0, 0, 1, 0, 1, 1, 1, 3, 2, 3, 1, 2, 3, 2, 0, 0, 0, 1, 1, 3, 0, 2, 0, 3, 2, 2, 2, 1, 1, 1, 0, 0, 1, 1, 0, 3, 3, 3, 0, 0, 2, 2, 3, 3, 2, 2, 2, 0, 1, 3, 1, 1, 3, 3, 0, 3, 2, 3, 2, 3, 1, 1, 1, 2, 1, 1, 2, 2, 1, 1, 2, 0, 2, 2, 3, 1, 3, 1, 2, 1, 3, 1, 1, 2, 0, 1, 3, 0, 3, 0, 1, 1, 1, 1, 2, 3, 1, 1, 3, 3, 1, 0, 3, 0, 0, 1, 1, 1, 0, 1, 1, 2, 3, 1, 0, 1, 3, 1, 2, 0, 3, 2, 0, 2, 2, 0, 0, 1, 2, 1, 3, 1, 0, 1, 3, 3, 0, 3, 3, 0, 2, 0, 3, 0, 2, 1, 1, 1, 2, 2, 2, 3, 1, 1, 1, 0, 2, 2, 3, 1, 2, 0, 0, 0, 3, 1, 2, 2, 1, 3, 1, 1, 3, 1, 2, 2, 3, 2, 3, 3, 3, 2, 2, 1, 2, 1, 3, 1, 1, 2, 1, 2, 0, 1, 2, 1, 2, 2, 3, 3, 2, 1, 2, 3, 0, 2, 2, 3, 2, 1, 3, 3, 1, 1, 2, 2, 2, 1, 0, 0, 3, 1, 0, 2, 2, 3, 2, 3, 3, 1, 2, 1, 3, 2, 1, 1, 1, 3, 2, 3, 3, 1, 1, 0, 2, 0, 3, 2, 1, 0, 3, 0, 3, 3, 1, 3, 2, 1, 0, 1, 1, 0, 1, 2, 1, 3, 0, 0, 1, 1, 2, 3, 2, 2, 1, 0, 3, 0, 1, 3, 1, 3, 2, 3, 3, 2, 3, 0, 1, 2, 1, 1, 3, 3, 2, 0, 0, 3, 3, 2, 3, 0, 1, 0, 2, 0, 1, 1, 0, 1, 1, 2, 3, 2, 3, 1, 0, 3, 3, 3, 0, 0, 3, 2, 0, 0, 0, 2, 0, 2, 1, 0, 2, 3, 3, 3, 1, 0, 0, 2, 0, 1, 1, 3, 3, 1, 0, 1, 0, 3, 0, 2, 3, 0, 1, 0, 0, 3, 1, 2, 3, 2, 2, 3, 1, 0, 1, 0, 0, 2, 2, 1, 1, 2, 2, 2, 2, 0, 0, 1, 3, 1, 1, 1, 1, 2, 1, 0, 0, 2, 1, 1, 3, 0, 2, 2, 0, 0, 2, 1, 0, 1, 3, 1, 1, 1, 0, 2, 1, 1, 2, 3, 2, 1, 1, 0, 1, 3, 1, 1, 3, 1, 2, 0, 0, 2, 2, 1, 0, 2, 2, 1, 0, 2, 3, 0, 1, 2, 1, 3, 1, 1, 1, 1, 3, 1, 2, 2, 1, 0, 0, 1, 0, 2, 1, 2, 2, 2, 1, 0, 2, 3, 1, 1, 2, 1, 2, 3], [0, 2, 1, 1, 2, 3, 2, 1, 2, 2, 1, 1, 1, 2, 1, 3, 2, 1, 2, 1, 1, 1, 2, 1, 3, 2, 1, 1, 1, 1, 0, 2, 1, 0, 3, 1, 2, 1, 1, 0, 3, 3, 2, 3, 1, 3, 0, 1, 2, 3, 3, 1, 2, 2, 3, 1, 1, 3, 2, 1, 3, 0, 2, 1, 2, 2, 0, 1, 0, 2, 2, 0, 1, 2, 0, 0, 1, 0, 2, 1, 1, 0, 3, 0, 2, 1, 1, 1, 0, 2, 3, 2, 2, 0, 0, 1, 0, 1, 1, 3, 3, 0, 3, 2, 3, 0, 3, 2, 0, 2, 1, 2, 3, 3, 3, 0, 3, 1, 3, 1, 2, 1, 0, 3, 3, 2, 1, 2, 0, 1, 2, 1, 0, 3, 1, 2, 2, 2, 1, 0, 2, 3, 1, 2, 3, 3, 2, 0, 2, 1, 2, 0, 0, 3, 1, 0, 1, 1, 1, 0, 1, 0, 1, 1, 2, 3, 0, 2, 1, 0, 0, 3, 1, 2, 3, 0, 2, 2, 3, 2, 2, 1, 2, 3, 0, 2, 3, 1, 2, 0, 2, 3, 3, 0, 1, 3, 1, 0, 1, 1, 0, 0, 3, 3, 2, 3, 0, 1, 2, 3, 3, 0, 3, 3, 0, 2, 1, 1, 2, 0, 3, 2, 1, 0, 3, 2, 3, 3, 0, 2, 2, 1, 3, 1, 3, 3, 3, 3, 0, 1, 1, 0, 1, 1, 1, 2, 3, 3, 0, 3, 2, 1, 3, 3, 3, 3, 1, 2, 0, 2, 3, 2, 0, 2, 3, 2, 1, 2, 0, 2, 1, 1, 2, 2, 3, 1, 1, 3, 2, 1, 0, 3, 2, 3, 1, 1, 2, 2, 3, 2, 2, 0, 3, 0, 3, 3, 2, 1, 1, 3, 3, 2, 3, 0, 3, 0, 1, 0, 3, 2, 2, 0, 0, 2, 3, 0, 1, 0, 3, 3, 2, 2, 0, 0, 1, 1, 2, 3, 2, 0, 1, 2, 1, 1, 2, 1, 3, 0, 1, 1, 1, 3, 3, 3, 2, 3, 3, 2, 2, 1, 2, 1, 3, 0, 3, 3, 2, 0, 3, 3, 2, 0, 3, 1, 0, 1, 3, 2, 3, 0, 1, 1, 3, 0, 1, 1, 1, 1, 3, 1, 2, 2, 3, 2, 1, 1, 0, 1, 2, 1, 2, 0, 0, 1, 1, 1, 2, 3, 3, 1, 1, 3, 2, 2, 3, 3, 2, 1, 3, 1, 3, 0, 2, 0, 2, 3, 3, 0, 2, 2, 3, 1, 2, 3, 3, 0, 0, 2, 3, 1, 2, 2, 2, 0, 1, 3, 3, 1, 1, 3, 1, 0, 2, 3, 2, 0, 1, 1, 2, 3, 1, 1, 0, 3, 0, 0, 1, 1, 1, 0, 1, 2, 1, 1, 3, 1, 2, 2, 1, 0, 0, 0, 1, 3, 3, 1, 2, 2, 2, 2, 1, 2, 0, 3, 0, 3, 1, 0, 1, 3, 3, 2, 2, 0, 1, 0, 0, 1, 3, 3, 2, 3, 3, 0, 1, 1, 3, 2, 3, 1, 2, 1, 0, 1, 2, 0, 1, 3, 0, 1, 0, 0, 3, 2, 1, 1, 3, 3, 1, 1, 2, 2, 1, 1, 1, 3, 3, 2, 0, 3, 2, 1, 0, 1, 1, 0, 1, 0, 0, 0, 3, 3, 3, 2, 1, 1, 0, 3, 2, 3, 3, 1, 3, 0, 2, 0, 3, 3, 0, 3, 1, 2, 1, 1, 3, 1, 0, 1, 2, 0, 2, 1, 1, 2, 1, 3, 2, 0, 0, 1, 2, 2, 2, 2, 1, 0, 3, 3, 3, 3, 3, 0, 2, 2, 0, 0, 0, 3, 3, 0, 3, 2, 3, 3, 1, 2, 2, 1, 3, 2, 1, 0, 0, 0, 3, 2, 2, 0, 3, 2, 1, 1, 3, 0, 1, 1, 0, 3, 0, 2, 1, 3, 3, 0, 2, 1, 2, 1, 3, 1, 2, 1, 2, 1, 1, 3, 3, 1, 0, 3, 0, 0, 0, 0, 0, 3, 3, 1, 1, 2, 1, 0, 1, 2, 1, 1, 0, 1, 2, 2, 1, 0, 3, 0, 0, 1, 2, 1, 1, 0, 2, 3, 2, 2, 1, 3, 2, 3, 1, 0, 2, 3, 1, 1, 3, 1, 1, 0, 3, 3, 3, 2, 2, 1, 1, 0, 3, 0, 1, 1, 0, 3, 2, 3, 0, 2, 3, 2, 1, 0, 2, 2, 0, 3, 0, 0, 1, 0, 0, 3, 1, 1, 1, 2, 2, 1, 3, 3, 3, 2, 1, 2, 0, 3, 1, 0, 0, 0, 0, 0, 3, 3, 3, 2, 2, 3, 1, 3, 0, 1, 3, 3, 0, 0, 2, 0, 1, 2, 0, 3, 2, 2, 0, 2, 1, 1, 2, 2, 1, 1, 1, 3, 2, 0, 3, 0, 0, 2, 2, 1, 1, 3, 1, 2, 1, 2, 0, 2, 3, 3, 1, 0, 1, 2, 1, 2, 1, 3, 1, 3, 3, 2, 1, 1, 3, 2, 2, 2, 3, 0, 1, 2, 1, 3, 2, 3, 3, 0, 2, 3, 0, 2, 3, 3, 1, 3, 2, 0, 3, 3, 0, 0, 3, 0, 1, 0, 2, 1, 1, 1, 1, 0, 2, 1, 3, 2, 0, 2, 0, 0, 0, 1, 3, 0, 0, 1, 2, 1, 0, 2, 1, 3, 0, 3, 2, 0, 0, 0, 0, 1, 2, 1, 1, 2, 3, 2, 2, 0, 0, 2, 0, 1, 2, 1, 2, 2, 2, 0, 0, 3, 0, 2, 3, 3, 1, 0, 2, 1, 3, 1, 2, 2, 2, 0, 3, 2, 3, 1, 1, 1, 2, 0, 3, 1, 3, 0, 2, 1, 1, 3, 0, 3, 0, 1, 1, 1, 2, 1, 2, 3, 3, 2, 3, 1, 1, 2, 1, 1, 0, 1, 3, 0, 0, 1, 2, 1, 3, 2, 2, 0, 0, 2, 2, 3, 3, 2, 0, 3, 3, 3, 0, 3, 1, 3, 1, 2, 2, 3, 3, 0, 2, 3, 2, 2, 3, 2, 1, 3, 1, 3, 3, 1, 0, 3, 0, 2, 0, 2, 1, 1, 2, 2, 2, 0, 2, 2, 1, 3, 1, 3, 2, 0, 2, 3, 0, 3, 2, 3, 3, 3, 1, 0, 2, 1, 0, 3, 2, 3, 1, 3, 0, 1, 2, 2, 3, 2, 0, 0, 3, 1, 0, 2, 0, 2, 1, 3, 2, 1, 0, 2, 3, 0, 1, 1, 3, 1, 3, 2, 3, 0, 2, 2, 0, 0, 3, 1, 2, 1, 2, 0, 3, 1, 2, 0, 2, 3, 2, 3, 1, 3, 1, 0, 1, 2, 3, 1, 2, 1, 2, 3, 3, 2, 1, 3, 1, 0, 0, 3, 1, 2, 1, 0, 0, 1, 2, 0, 0, 3, 1, 3, 3, 2, 2, 3, 1, 1, 1, 1, 3, 2, 3, 3, 2, 0, 1, 1, 2, 3, 2, 3, 3, 2, 1, 2, 2, 1, 0, 3, 1, 3, 1, 1, 1, 0, 3, 3, 2, 0, 2, 0, 2, 0, 3, 1, 0, 3, 0, 1, 1, 2, 2, 0, 1, 3, 3, 1, 0, 2, 3, 2, 0, 1, 1, 2, 0, 3, 1, 3, 1, 2, 0, 1, 0, 1, 3, 2, 0, 3, 0, 1, 3, 1, 0, 2, 3, 0, 2, 3, 2, 0, 0, 0, 1, 3, 3, 0, 2, 0, 3, 3, 1, 2, 3, 1, 1, 0, 0, 1, 2, 0, 3, 3, 3, 0, 0, 2, 2, 2, 3, 0, 2, 2, 0, 1, 3, 1, 1, 3, 1, 0, 3, 2, 3, 2, 3, 1, 2, 1, 2, 1, 1, 2, 2, 3, 1, 2, 0, 2, 2, 3, 1, 3, 1, 2, 1, 3, 1, 1, 2, 0, 1, 3, 0, 0, 0, 1, 1, 1, 1, 2, 0, 1, 1, 3, 3, 3, 0, 3, 0, 0, 1, 1, 1, 1, 1, 1, 2, 3, 1, 0, 1, 3, 1, 2, 0, 3, 2, 1, 0, 2, 1, 0, 1, 2, 1, 3, 1, 0, 1, 3, 3, 2, 3, 3, 0, 1, 0, 3, 3, 1, 1, 1, 1, 2, 2, 2, 3, 0, 1, 1, 0, 2, 2, 3, 1, 1, 0, 0, 0, 3, 1, 2, 2, 1, 3, 1, 3, 3, 1, 2, 1, 3, 0, 3, 0, 3, 2, 2, 1, 2, 3, 3, 3, 1, 2, 1, 2, 0, 1, 2, 1, 2, 3, 3, 3, 2, 1, 2, 3, 3, 2, 2, 3, 2, 1, 3, 3, 1, 1, 2, 2, 2, 3, 0, 0, 3, 1, 0, 2, 0, 3, 2, 2, 3, 2, 2, 1, 3, 2, 3, 1, 1, 3, 3, 3, 3, 3, 0, 0, 2, 0, 2, 2, 1, 1, 3, 0, 3, 3, 1, 3, 2, 1, 0, 1, 1, 0, 1, 2, 1, 3, 0, 0, 1, 1, 2, 3, 2, 2, 1, 1, 3, 0, 3, 3, 1, 3, 2, 3, 3, 3, 3, 0, 2, 2, 1, 1, 3, 3, 2, 0, 0, 3, 3, 1, 3, 0, 1, 0, 2, 0, 3, 1, 0, 1, 1, 3, 3, 2, 1, 1, 0, 3, 3, 3, 0, 0, 3, 0, 0, 0, 0, 2, 2, 2, 0, 0, 2, 3, 3, 3, 1, 0, 0, 2, 0, 1, 1, 3, 3, 3, 0, 1, 0, 3, 0, 2, 1, 0, 1, 0, 3, 3, 1, 0, 0, 2, 0, 3, 1, 1, 1, 0, 0, 2, 2, 1, 2, 1, 2, 2, 2, 0, 0, 1, 2, 1, 1, 1, 1, 0, 2, 0, 3, 2, 1, 1, 2, 0, 2, 2, 0, 0, 2, 3, 0, 1, 0, 3, 1, 1, 0, 2, 1, 1, 2, 3, 2, 1, 1, 2, 1, 3, 1, 0, 3, 1, 1, 0, 0, 2, 1, 1, 0, 0, 2, 1, 0, 2, 3, 0, 1, 2, 1, 3, 1, 1, 1, 1, 3, 1, 0, 2, 1, 0, 0, 1, 3, 2, 1, 2, 3, 1, 1, 0, 2, 0, 1, 1, 2, 2, 2, 0], [2, 2, 1, 0, 2, 2]])"
      ]
     },
     "execution_count": 36,
     "metadata": {},
     "output_type": "execute_result"
    }
   ],
   "source": [
    "llm_response.values()"
   ]
  },
  {
   "cell_type": "code",
   "execution_count": null,
   "metadata": {},
   "outputs": [],
   "source": [
    "import pandas as pd\n",
    "from itertools import combinations\n",
    "\n",
    "def calculate_agreement_matrix(data_dict):\n",
    "    \"\"\"Calculates agreement between lists in a dictionary for matching indices.\n",
    "\n",
    "    Args:\n",
    "        data_dict: A dictionary where keys are labels and values are lists of equal length.\n",
    "\n",
    "    Returns:\n",
    "        A Pandas DataFrame representing the agreement matrix.\n",
    "    \"\"\"\n",
    "\n",
    "    df = pd.DataFrame(data_dict)\n",
    "    keys = df.columns\n",
    "\n",
    "    agreement_matrix = pd.DataFrame(index=keys, columns=keys)\n",
    "\n",
    "    for key1, key2 in combinations(keys, 2):  # Iterate over all key pairs\n",
    "        matches = (df[key1] == df[key2]).sum()  # Count matching values\n",
    "        total = len(df)  # Total number of values\n",
    "        agreement_matrix.loc[key1, key2] = agreement_matrix.loc[key2, key1] = matches / total\n",
    "\n",
    "    return agreement_matrix\n",
    "\n",
    "# Example Usage:\n",
    "data = {'list1': [1, 1, 0, 2, 1],\n",
    "        'list2': [1, 0, 0, 2, 1],\n",
    "        'list3': [1, 1, 1, 0, 1]}\n",
    "\n",
    "agreement_matrix = calculate_agreement_matrix(data)\n",
    "print(agreement_matrix.to_markdown(numalign=\"left\", stralign=\"left\"))\n"
   ]
  },
  {
   "cell_type": "code",
   "execution_count": null,
   "metadata": {},
   "outputs": [],
   "source": [
    "dm = calculate_agreement_matrix(llm_response)\n",
    "dm"
   ]
  },
  {
   "cell_type": "code",
   "execution_count": null,
   "metadata": {},
   "outputs": [],
   "source": []
  },
  {
   "cell_type": "code",
   "execution_count": null,
   "metadata": {},
   "outputs": [],
   "source": []
  },
  {
   "cell_type": "code",
   "execution_count": null,
   "metadata": {},
   "outputs": [],
   "source": []
  }
 ],
 "metadata": {
  "kernelspec": {
   "display_name": ".venv",
   "language": "python",
   "name": "python3"
  },
  "language_info": {
   "codemirror_mode": {
    "name": "ipython",
    "version": 3
   },
   "file_extension": ".py",
   "mimetype": "text/x-python",
   "name": "python",
   "nbconvert_exporter": "python",
   "pygments_lexer": "ipython3",
   "version": "3.11.9"
  }
 },
 "nbformat": 4,
 "nbformat_minor": 2
}
