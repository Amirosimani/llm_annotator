{
 "cells": [
  {
   "cell_type": "markdown",
   "metadata": {},
   "source": [
    "# Test Gemini vs Ensemble for MMLU\n",
    "\n",
    "\n",
    "to do:\n",
    "\n",
    "-ignore claude, add gemma, palm"
   ]
  },
  {
   "cell_type": "code",
   "execution_count": 32,
   "metadata": {},
   "outputs": [],
   "source": [
    "import os\n",
    "import copy\n",
    "import json\n",
    "import random\n",
    "import pandas as pd\n",
    "from pprint import pprint\n",
    "from datetime import datetime\n",
    "from datasets import load_dataset\n",
    "\n",
    "from utils import Annotate\n",
    "from config import PALM_CONFIG, GEMINI_CONFIG, CLAUDE_CONFIG"
   ]
  },
  {
   "cell_type": "code",
   "execution_count": 33,
   "metadata": {},
   "outputs": [],
   "source": [
    "seed = 420\n",
    "now = datetime.now().strftime(\"%Y%m%d\")"
   ]
  },
  {
   "cell_type": "code",
   "execution_count": 34,
   "metadata": {},
   "outputs": [],
   "source": [
    "dataset = load_dataset(\"cais/mmlu\", \"all\")\n",
    "n_sample = 2000\n",
    "# # take a small sample for dev purposes\n",
    "dataset = dataset['test'].shuffle(seed=seed).select(range(n_sample))\n",
    "\n",
    "# # user provided data description\n",
    "# DESCRIPTION = \"\"\"\n",
    "# This is a massive multitask test consisting of multiple-choice questions from various branches of knowledge.\n",
    "# The test spans subjects in the humanities, social sciences, hard sciences, and other areas that are important for some people to learn.\n",
    "# To attain high accuracy on this test, models must possess extensive world knowledge and problem solving ability.\n",
    "# This covers 57 subjects  across STEM, the humanities, the social sciences, and more. \n",
    "# It ranges in difficulty from an elementary level to an advanced professional level, and it tests both world knowledge and problem solving ability. \n",
    "# Subjects range from traditional areas, such as mathematics and history, to more specialized areas like law and ethics.\n",
    "# \"\"\"\n"
   ]
  },
  {
   "cell_type": "code",
   "execution_count": 35,
   "metadata": {},
   "outputs": [],
   "source": [
    "gemini_prompt_template = \"\"\"\n",
    "<QUESTION>\n",
    "{datapoint}\n",
    "</QUESTION>\n",
    "------------\n",
    "\n",
    "<CHOICES>\n",
    "{labels}\n",
    "</choices>\n",
    "------------\n",
    "\n",
    "INSTRUCTION:\n",
    "- read the above question carefully.\n",
    "- you are given 4 choices seperated by comma in <CHOICES>.\n",
    "- take your time and pick the precise correct answer from <CHOICES> for the given <QUESTION>.\n",
    "- remember that there is always only one correct answer.\n",
    "- return the exact correct answer from <CHOICES>. Don't provide explanations.\n",
    "\"\"\""
   ]
  },
  {
   "cell_type": "code",
   "execution_count": 36,
   "metadata": {},
   "outputs": [
    {
     "name": "stdout",
     "output_type": "stream",
     "text": [
      "2000\n"
     ]
    }
   ],
   "source": [
    "prompt = [gemini_prompt_template.format(datapoint=x['question'],\n",
    "                                        labels=x['choices']) for x in dataset]\n",
    "print(len(prompt))"
   ]
  },
  {
   "cell_type": "code",
   "execution_count": 45,
   "metadata": {},
   "outputs": [],
   "source": [
    "models = [\n",
    "    \"gemini\",\n",
    "    \"palm\",\n",
    "    # \"claude\"\n",
    "    ]\n",
    "\n",
    "PALM_CONFIG[\"project_config\"][\"qpm\"] = 150\n",
    "\n",
    "palm_1 =  copy.deepcopy(PALM_CONFIG)\n",
    "palm_1['config_name'] = \"temp_0.4\"\n",
    "\n",
    "palm_2 =  copy.deepcopy(PALM_CONFIG)\n",
    "palm_2['config_name'] = \"temp_0.9\"\n",
    "palm_2[\"generation_config\"]['temperature'] = 0.9\n",
    "\n",
    "GEMINI_CONFIG[\"project_config\"][\"qpm\"] = 100\n",
    "\n",
    "gemini_1 =  copy.deepcopy(GEMINI_CONFIG)\n",
    "gemini_1['config_name'] = \"-1.0-pro-001\"\n",
    "\n",
    "gemini_2 =  copy.deepcopy(GEMINI_CONFIG)\n",
    "gemini_2['config_name'] = \"-1.5-flash-001\"\n",
    "gemini_2['\"model\"'] = \"gemini-1.5-flash-001\"\n",
    "\n",
    "gemini_3 =  copy.deepcopy(GEMINI_CONFIG)\n",
    "gemini_3['config_name'] = \"-1.0-ultra-001\"\n",
    "gemini_3['\"model\"'] = \"gemini-1.0-ultra-001\"\n",
    "\n",
    "\n",
    "\n",
    "model_config = {\n",
    "    \"gemini\": [\n",
    "        gemini_1,\n",
    "        gemini_2,\n",
    "        gemini_3\n",
    "         ],\n",
    "    \"palm\": [\n",
    "        palm_1, \n",
    "    #     # palm_2\n",
    "        ],\n",
    "    # \"claude\": [\n",
    "    #     CLAUDE_CONFIG\n",
    "    # ]\n",
    "}\n",
    "\n",
    "ann = Annotate()\n"
   ]
  },
  {
   "cell_type": "code",
   "execution_count": 46,
   "metadata": {},
   "outputs": [
    {
     "name": "stderr",
     "output_type": "stream",
     "text": [
      "Creating tasks:   0%|          | 0/8000 [00:00<?, ?it/s]2024-05-30 21:31:04,821/asyncio[ERROR]: Task exception was never retrieved\n",
      "future: <Task finished name='Task-4011' coro=<Annotate.__gemini() done, defined at /usr/local/google/home/amirimani/Desktop/projects/llm_annotator/utils.py:38> exception=AttributeError('Content has no parts.')>\n",
      "Traceback (most recent call last):\n",
      "  File \"/usr/local/google/home/amirimani/Desktop/projects/llm_annotator/utils.py\", line 89, in __gemini\n",
      "    return(responses.text)\n",
      "           ^^^^^^^^^^^^^^\n",
      "  File \"/usr/local/google/home/amirimani/Desktop/projects/.conda/lib/python3.11/site-packages/vertexai/generative_models/_generative_models.py\", line 1643, in text\n",
      "    return self.candidates[0].text\n",
      "           ^^^^^^^^^^^^^^^^^^^^^^^\n",
      "  File \"/usr/local/google/home/amirimani/Desktop/projects/.conda/lib/python3.11/site-packages/vertexai/generative_models/_generative_models.py\", line 1712, in text\n",
      "    return self.content.text\n",
      "           ^^^^^^^^^^^^^^^^^\n",
      "  File \"/usr/local/google/home/amirimani/Desktop/projects/.conda/lib/python3.11/site-packages/vertexai/generative_models/_generative_models.py\", line 1783, in text\n",
      "    raise AttributeError(\"Content has no parts.\")\n",
      "AttributeError: Content has no parts.\n",
      "2024-05-30 21:31:04,824/asyncio[ERROR]: Task exception was never retrieved\n",
      "future: <Task finished name='Task-4012' coro=<Annotate.__gemini() done, defined at /usr/local/google/home/amirimani/Desktop/projects/llm_annotator/utils.py:38> exception=AttributeError('Content has no parts.')>\n",
      "Traceback (most recent call last):\n",
      "  File \"/usr/local/google/home/amirimani/Desktop/projects/llm_annotator/utils.py\", line 89, in __gemini\n",
      "    return(responses.text)\n",
      "           ^^^^^^^^^^^^^^\n",
      "  File \"/usr/local/google/home/amirimani/Desktop/projects/.conda/lib/python3.11/site-packages/vertexai/generative_models/_generative_models.py\", line 1643, in text\n",
      "    return self.candidates[0].text\n",
      "           ^^^^^^^^^^^^^^^^^^^^^^^\n",
      "  File \"/usr/local/google/home/amirimani/Desktop/projects/.conda/lib/python3.11/site-packages/vertexai/generative_models/_generative_models.py\", line 1712, in text\n",
      "    return self.content.text\n",
      "           ^^^^^^^^^^^^^^^^^\n",
      "  File \"/usr/local/google/home/amirimani/Desktop/projects/.conda/lib/python3.11/site-packages/vertexai/generative_models/_generative_models.py\", line 1783, in text\n",
      "    raise AttributeError(\"Content has no parts.\")\n",
      "AttributeError: Content has no parts.\n",
      "2024-05-30 21:31:04,825/asyncio[ERROR]: Task exception was never retrieved\n",
      "future: <Task finished name='Task-4013' coro=<Annotate.__gemini() done, defined at /usr/local/google/home/amirimani/Desktop/projects/llm_annotator/utils.py:38> exception=AttributeError('Content has no parts.')>\n",
      "Traceback (most recent call last):\n",
      "  File \"/usr/local/google/home/amirimani/Desktop/projects/llm_annotator/utils.py\", line 89, in __gemini\n",
      "    return(responses.text)\n",
      "           ^^^^^^^^^^^^^^\n",
      "  File \"/usr/local/google/home/amirimani/Desktop/projects/.conda/lib/python3.11/site-packages/vertexai/generative_models/_generative_models.py\", line 1643, in text\n",
      "    return self.candidates[0].text\n",
      "           ^^^^^^^^^^^^^^^^^^^^^^^\n",
      "  File \"/usr/local/google/home/amirimani/Desktop/projects/.conda/lib/python3.11/site-packages/vertexai/generative_models/_generative_models.py\", line 1712, in text\n",
      "    return self.content.text\n",
      "           ^^^^^^^^^^^^^^^^^\n",
      "  File \"/usr/local/google/home/amirimani/Desktop/projects/.conda/lib/python3.11/site-packages/vertexai/generative_models/_generative_models.py\", line 1783, in text\n",
      "    raise AttributeError(\"Content has no parts.\")\n",
      "AttributeError: Content has no parts.\n",
      "Creating tasks: 100%|██████████| 8000/8000 [00:00<00:00, 130160.37it/s]\n",
      "Gathering gemini_-1.0-pro-001 results:   0%|          | 0/2000 [00:00<?, ?it/s]2024-05-30 22:13:35,182/asyncio[ERROR]: Task exception was never retrieved\n",
      "future: <Task finished name='Task-4007' coro=<Annotate.__gemini() done, defined at /usr/local/google/home/amirimani/Desktop/projects/llm_annotator/utils.py:38> exception=AttributeError('Content has no parts.')>\n",
      "Traceback (most recent call last):\n",
      "  File \"/usr/local/google/home/amirimani/Desktop/projects/llm_annotator/utils.py\", line 89, in __gemini\n",
      "    return(responses.text)\n",
      "           ^^^^^^^^^^^^^^\n",
      "  File \"/usr/local/google/home/amirimani/Desktop/projects/.conda/lib/python3.11/site-packages/vertexai/generative_models/_generative_models.py\", line 1643, in text\n",
      "    return self.candidates[0].text\n",
      "           ^^^^^^^^^^^^^^^^^^^^^^^\n",
      "  File \"/usr/local/google/home/amirimani/Desktop/projects/.conda/lib/python3.11/site-packages/vertexai/generative_models/_generative_models.py\", line 1712, in text\n",
      "    return self.content.text\n",
      "           ^^^^^^^^^^^^^^^^^\n",
      "  File \"/usr/local/google/home/amirimani/Desktop/projects/.conda/lib/python3.11/site-packages/vertexai/generative_models/_generative_models.py\", line 1783, in text\n",
      "    raise AttributeError(\"Content has no parts.\")\n",
      "AttributeError: Content has no parts.\n",
      "2024-05-30 22:13:35,184/asyncio[ERROR]: Task exception was never retrieved\n",
      "future: <Task finished name='Task-4008' coro=<Annotate.__gemini() done, defined at /usr/local/google/home/amirimani/Desktop/projects/llm_annotator/utils.py:38> exception=AttributeError('Content has no parts.')>\n",
      "Traceback (most recent call last):\n",
      "  File \"/usr/local/google/home/amirimani/Desktop/projects/llm_annotator/utils.py\", line 89, in __gemini\n",
      "    return(responses.text)\n",
      "           ^^^^^^^^^^^^^^\n",
      "  File \"/usr/local/google/home/amirimani/Desktop/projects/.conda/lib/python3.11/site-packages/vertexai/generative_models/_generative_models.py\", line 1643, in text\n",
      "    return self.candidates[0].text\n",
      "           ^^^^^^^^^^^^^^^^^^^^^^^\n",
      "  File \"/usr/local/google/home/amirimani/Desktop/projects/.conda/lib/python3.11/site-packages/vertexai/generative_models/_generative_models.py\", line 1712, in text\n",
      "    return self.content.text\n",
      "           ^^^^^^^^^^^^^^^^^\n",
      "  File \"/usr/local/google/home/amirimani/Desktop/projects/.conda/lib/python3.11/site-packages/vertexai/generative_models/_generative_models.py\", line 1783, in text\n",
      "    raise AttributeError(\"Content has no parts.\")\n",
      "AttributeError: Content has no parts.\n",
      "2024-05-30 22:13:35,185/asyncio[ERROR]: Task exception was never retrieved\n",
      "future: <Task finished name='Task-4009' coro=<Annotate.__gemini() done, defined at /usr/local/google/home/amirimani/Desktop/projects/llm_annotator/utils.py:38> exception=AttributeError('Content has no parts.')>\n",
      "Traceback (most recent call last):\n",
      "  File \"/usr/local/google/home/amirimani/Desktop/projects/llm_annotator/utils.py\", line 89, in __gemini\n",
      "    return(responses.text)\n",
      "           ^^^^^^^^^^^^^^\n",
      "  File \"/usr/local/google/home/amirimani/Desktop/projects/.conda/lib/python3.11/site-packages/vertexai/generative_models/_generative_models.py\", line 1643, in text\n",
      "    return self.candidates[0].text\n",
      "           ^^^^^^^^^^^^^^^^^^^^^^^\n",
      "  File \"/usr/local/google/home/amirimani/Desktop/projects/.conda/lib/python3.11/site-packages/vertexai/generative_models/_generative_models.py\", line 1712, in text\n",
      "    return self.content.text\n",
      "           ^^^^^^^^^^^^^^^^^\n",
      "  File \"/usr/local/google/home/amirimani/Desktop/projects/.conda/lib/python3.11/site-packages/vertexai/generative_models/_generative_models.py\", line 1783, in text\n",
      "    raise AttributeError(\"Content has no parts.\")\n",
      "AttributeError: Content has no parts.\n",
      "2024-05-30 22:50:55,561/Annotate[ERROR]: gemini_-1.0-pro-001 Task 0 failed: Content has no parts.\n",
      "Gathering gemini_-1.0-pro-001 results:   0%|          | 1/2000 [1:19:50<2660:09:42, 4790.69s/it]2024-05-30 22:50:55,571/Annotate[ERROR]: gemini_-1.0-pro-001 Task 99 failed: Content has no parts.\n",
      "2024-05-30 22:50:55,572/Annotate[ERROR]: gemini_-1.0-pro-001 Task 130 failed: Content has no parts.\n",
      "2024-05-30 22:50:55,573/Annotate[ERROR]: gemini_-1.0-pro-001 Task 294 failed: Content has no parts.\n",
      "2024-05-30 22:50:55,573/Annotate[ERROR]: gemini_-1.0-pro-001 Task 411 failed: Content has no parts.\n",
      "2024-05-30 22:50:55,574/Annotate[ERROR]: gemini_-1.0-pro-001 Task 593 failed: Content has no parts.\n",
      "2024-05-30 22:50:55,575/Annotate[ERROR]: gemini_-1.0-pro-001 Task 609 failed: Content has no parts.\n",
      "2024-05-30 22:50:55,576/Annotate[ERROR]: gemini_-1.0-pro-001 Task 871 failed: Content has no parts.\n",
      "2024-05-30 22:50:55,578/Annotate[ERROR]: gemini_-1.0-pro-001 Task 938 failed: Content has no parts.\n",
      "2024-05-30 22:50:55,579/Annotate[ERROR]: gemini_-1.0-pro-001 Task 1081 failed: Content has no parts.\n",
      "2024-05-30 22:50:55,580/Annotate[ERROR]: gemini_-1.0-pro-001 Task 1109 failed: Response has no candidates (and no text).\n",
      "2024-05-30 22:50:55,580/Annotate[ERROR]: gemini_-1.0-pro-001 Task 1306 failed: Content has no parts.\n",
      "2024-05-30 22:50:55,581/Annotate[ERROR]: gemini_-1.0-pro-001 Task 1344 failed: Content has no parts.\n",
      "2024-05-30 22:50:55,581/Annotate[ERROR]: gemini_-1.0-pro-001 Task 1405 failed: Content has no parts.\n",
      "2024-05-30 22:50:55,582/Annotate[ERROR]: gemini_-1.0-pro-001 Task 1443 failed: Content has no parts.\n",
      "2024-05-30 22:50:55,585/Annotate[ERROR]: gemini_-1.0-pro-001 Task 1462 failed: Content has no parts.\n",
      "2024-05-30 22:50:55,586/Annotate[ERROR]: gemini_-1.0-pro-001 Task 1481 failed: Content has no parts.\n",
      "2024-05-30 22:50:55,587/Annotate[ERROR]: gemini_-1.0-pro-001 Task 1713 failed: Content has no parts.\n",
      "2024-05-30 22:50:55,589/Annotate[ERROR]: gemini_-1.0-pro-001 Task 1725 failed: Content has no parts.\n",
      "2024-05-30 22:50:55,590/Annotate[ERROR]: gemini_-1.0-pro-001 Task 1898 failed: Content has no parts.\n",
      "2024-05-30 22:50:55,591/Annotate[ERROR]: gemini_-1.0-pro-001 Task 1932 failed: Content has no parts.\n",
      "Gathering gemini_-1.0-pro-001 results: 100%|██████████| 2000/2000 [1:19:50<00:00,  2.40s/it]    \n",
      "Gathering gemini_-1.5-flash-001 results:   0%|          | 0/2000 [00:00<?, ?it/s]2024-05-30 22:50:55,605/Annotate[ERROR]: gemini_-1.5-flash-001 Task 0 failed: Content has no parts.\n",
      "2024-05-30 22:50:55,606/Annotate[ERROR]: gemini_-1.5-flash-001 Task 99 failed: Content has no parts.\n",
      "2024-05-30 22:50:55,606/Annotate[ERROR]: gemini_-1.5-flash-001 Task 130 failed: Content has no parts.\n",
      "2024-05-30 22:50:55,607/Annotate[ERROR]: gemini_-1.5-flash-001 Task 294 failed: Content has no parts.\n",
      "2024-05-30 22:50:55,609/Annotate[ERROR]: gemini_-1.5-flash-001 Task 411 failed: Content has no parts.\n",
      "2024-05-30 22:50:55,610/Annotate[ERROR]: gemini_-1.5-flash-001 Task 593 failed: Content has no parts.\n",
      "2024-05-30 22:50:55,610/Annotate[ERROR]: gemini_-1.5-flash-001 Task 609 failed: Content has no parts.\n",
      "2024-05-30 22:50:55,611/Annotate[ERROR]: gemini_-1.5-flash-001 Task 871 failed: Content has no parts.\n",
      "2024-05-30 22:50:55,612/Annotate[ERROR]: gemini_-1.5-flash-001 Task 938 failed: Content has no parts.\n",
      "2024-05-30 22:50:55,613/Annotate[ERROR]: gemini_-1.5-flash-001 Task 1081 failed: Content has no parts.\n",
      "2024-05-30 22:50:55,614/Annotate[ERROR]: gemini_-1.5-flash-001 Task 1109 failed: Response has no candidates (and no text).\n",
      "2024-05-30 22:50:55,615/Annotate[ERROR]: gemini_-1.5-flash-001 Task 1306 failed: Content has no parts.\n",
      "2024-05-30 22:50:55,616/Annotate[ERROR]: gemini_-1.5-flash-001 Task 1344 failed: Content has no parts.\n",
      "2024-05-30 22:50:55,617/Annotate[ERROR]: gemini_-1.5-flash-001 Task 1443 failed: Content has no parts.\n",
      "2024-05-30 22:50:55,618/Annotate[ERROR]: gemini_-1.5-flash-001 Task 1462 failed: Content has no parts.\n",
      "2024-05-30 22:50:55,620/Annotate[ERROR]: gemini_-1.5-flash-001 Task 1481 failed: Content has no parts.\n",
      "2024-05-30 22:50:55,621/Annotate[ERROR]: gemini_-1.5-flash-001 Task 1713 failed: Content has no parts.\n",
      "2024-05-30 22:50:55,622/Annotate[ERROR]: gemini_-1.5-flash-001 Task 1725 failed: Content has no parts.\n",
      "2024-05-30 22:50:55,623/Annotate[ERROR]: gemini_-1.5-flash-001 Task 1898 failed: Content has no parts.\n",
      "2024-05-30 22:50:55,624/Annotate[ERROR]: gemini_-1.5-flash-001 Task 1932 failed: Content has no parts.\n",
      "Gathering gemini_-1.5-flash-001 results: 100%|██████████| 2000/2000 [00:00<00:00, 67048.25it/s]\n",
      "Gathering gemini_-1.0-ultra-001 results:   0%|          | 0/2000 [00:00<?, ?it/s]2024-05-30 22:50:55,638/Annotate[ERROR]: gemini_-1.0-ultra-001 Task 0 failed: Content has no parts.\n",
      "2024-05-30 22:50:55,640/Annotate[ERROR]: gemini_-1.0-ultra-001 Task 99 failed: Content has no parts.\n",
      "2024-05-30 22:50:55,641/Annotate[ERROR]: gemini_-1.0-ultra-001 Task 130 failed: Content has no parts.\n",
      "2024-05-30 22:50:55,642/Annotate[ERROR]: gemini_-1.0-ultra-001 Task 294 failed: Content has no parts.\n",
      "2024-05-30 22:50:55,643/Annotate[ERROR]: gemini_-1.0-ultra-001 Task 411 failed: Content has no parts.\n",
      "2024-05-30 22:50:55,644/Annotate[ERROR]: gemini_-1.0-ultra-001 Task 593 failed: Content has no parts.\n",
      "2024-05-30 22:50:55,645/Annotate[ERROR]: gemini_-1.0-ultra-001 Task 609 failed: Content has no parts.\n",
      "2024-05-30 22:50:55,647/Annotate[ERROR]: gemini_-1.0-ultra-001 Task 871 failed: Content has no parts.\n",
      "2024-05-30 22:50:55,648/Annotate[ERROR]: gemini_-1.0-ultra-001 Task 938 failed: Content has no parts.\n",
      "2024-05-30 22:50:55,649/Annotate[ERROR]: gemini_-1.0-ultra-001 Task 1020 failed: Content has no parts.\n",
      "2024-05-30 22:50:55,650/Annotate[ERROR]: gemini_-1.0-ultra-001 Task 1081 failed: Content has no parts.\n",
      "2024-05-30 22:50:55,651/Annotate[ERROR]: gemini_-1.0-ultra-001 Task 1109 failed: Response has no candidates (and no text).\n",
      "2024-05-30 22:50:55,652/Annotate[ERROR]: gemini_-1.0-ultra-001 Task 1306 failed: Content has no parts.\n",
      "2024-05-30 22:50:55,653/Annotate[ERROR]: gemini_-1.0-ultra-001 Task 1344 failed: Content has no parts.\n",
      "2024-05-30 22:50:55,654/Annotate[ERROR]: gemini_-1.0-ultra-001 Task 1443 failed: Content has no parts.\n",
      "2024-05-30 22:50:55,655/Annotate[ERROR]: gemini_-1.0-ultra-001 Task 1462 failed: Content has no parts.\n",
      "2024-05-30 22:50:55,656/Annotate[ERROR]: gemini_-1.0-ultra-001 Task 1481 failed: Content has no parts.\n",
      "2024-05-30 22:50:55,657/Annotate[ERROR]: gemini_-1.0-ultra-001 Task 1713 failed: Content has no parts.\n",
      "2024-05-30 22:50:55,657/Annotate[ERROR]: gemini_-1.0-ultra-001 Task 1725 failed: Content has no parts.\n",
      "2024-05-30 22:50:55,658/Annotate[ERROR]: gemini_-1.0-ultra-001 Task 1898 failed: Content has no parts.\n",
      "2024-05-30 22:50:55,659/Annotate[ERROR]: gemini_-1.0-ultra-001 Task 1932 failed: Content has no parts.\n",
      "Gathering gemini_-1.0-ultra-001 results: 100%|██████████| 2000/2000 [00:00<00:00, 65868.43it/s]\n",
      "Gathering palm_temp_0.4 results: 100%|██████████| 2000/2000 [00:00<00:00, 209275.72it/s]\n"
     ]
    }
   ],
   "source": [
    "output_dict = await ann.classification(prompt, models, model_config)"
   ]
  },
  {
   "cell_type": "code",
   "execution_count": 73,
   "metadata": {},
   "outputs": [],
   "source": [
    "llm_response = {}\n",
    "\n",
    "for k in output_dict.keys():\n",
    "    llm_response[k] = []\n",
    "    for idx, r in enumerate(output_dict[k]):\n",
    "        if r is not None:\n",
    "            stripped_r = r.strip().strip(\"'\")\n",
    "            if stripped_r in dataset['choices'][idx]:\n",
    "                llm_response[k].append(dataset['choices'][idx].index(stripped_r))\n",
    "            else:\n",
    "                # Handle case where stripped_r is not found in choices\n",
    "                llm_response[k].append(None)\n",
    "        else:\n",
    "            # Handle None values appropriately\n",
    "            llm_response[k].append(None)"
   ]
  },
  {
   "cell_type": "code",
   "execution_count": 48,
   "metadata": {},
   "outputs": [],
   "source": [
    "# with open(f\"./data/{now}/llm_response_{n_sample}__{now}.json\", \"r\") as f:\n",
    "#     llm_response= json.load(f)"
   ]
  },
  {
   "cell_type": "code",
   "execution_count": 80,
   "metadata": {},
   "outputs": [],
   "source": [
    "def drop_nones(data):\n",
    "    df = pd.DataFrame.from_dict(llm_response).dropna().astype(int)\n",
    "    print(df.shape)\n",
    "    data = df.to_dict(orient=\"list\")\n",
    "\n",
    "    return data, df.index.to_list()\n",
    "\n",
    "def convert_dict_to_indexed_list(data_dict):\n",
    "    number_map = {key: index for index, key in enumerate(data_dict.keys())}\n",
    "    max_len = len(next(iter(data_dict.values())))\n",
    "\n",
    "    result = []\n",
    "    for index in range(max_len):\n",
    "        for key, value_list in data_dict.items():\n",
    "            value = value_list[index]\n",
    "            converted_value = value \n",
    "            result.append([index, number_map[key], converted_value])\n",
    "    return result\n",
    "    \n",
    "\n",
    "def generate_task_config(response_dict, num_classes):\n",
    "\n",
    "    num_labels = sum(len(lst) for lst in response_dict.values())\n",
    "    num_tasks =  len(list(response_dict.values())[0])\n",
    "    num_labelers = len(response_dict)\n",
    "    z  = 1/num_classes\n",
    "\n",
    "\n",
    "    tc = [num_labels, num_labelers, num_tasks, num_classes]\n",
    "    tc.extend([z] * tc[-1])\n",
    "\n",
    "    return tc"
   ]
  },
  {
   "cell_type": "code",
   "execution_count": 81,
   "metadata": {},
   "outputs": [
    {
     "name": "stdout",
     "output_type": "stream",
     "text": [
      "(1663, 4)\n"
     ]
    }
   ],
   "source": [
    "n_class = 4\n",
    "llm_response, keep_idx = drop_nones(llm_response)\n",
    "task_conf = generate_task_config(llm_response, n_class)\n",
    "llm_result_list = convert_dict_to_indexed_list(llm_response)\n",
    "llm_result_list.insert(0, task_conf)"
   ]
  },
  {
   "cell_type": "code",
   "execution_count": 82,
   "metadata": {},
   "outputs": [
    {
     "data": {
      "text/plain": [
       "1663"
      ]
     },
     "execution_count": 82,
     "metadata": {},
     "output_type": "execute_result"
    }
   ],
   "source": [
    "len(keep_idx)"
   ]
  },
  {
   "cell_type": "code",
   "execution_count": 83,
   "metadata": {},
   "outputs": [
    {
     "data": {
      "text/plain": [
       "1663"
      ]
     },
     "execution_count": 83,
     "metadata": {},
     "output_type": "execute_result"
    }
   ],
   "source": [
    "gt_dict = {\"gt\": dataset[\"answer\"]}\n",
    "gt_dict[\"gt\"] = [x for i, x in enumerate(gt_dict[\"gt\"]) if i in keep_idx]\n",
    "\n",
    "gt_dict[\"question\"] = [q for i,q in enumerate(dataset['question']) if i in keep_idx]\n",
    "\n",
    "len(gt_dict[\"gt\"])"
   ]
  },
  {
   "cell_type": "code",
   "execution_count": 84,
   "metadata": {},
   "outputs": [],
   "source": [
    "try:\n",
    "    os.mkdir(f\"./data/{now}\")\n",
    "except:\n",
    "    pass\n",
    "\n",
    "with open(f\"./data/{now}/llm_response_{n_sample}__{now}.json\", \"w\") as json_file:\n",
    "    json.dump(llm_response, json_file)\n",
    "\n",
    "pd.DataFrame(gt_dict).to_csv(f\"./data/{now}/gt_{n_sample}__{now}.csv\", index=False)"
   ]
  },
  {
   "cell_type": "code",
   "execution_count": 85,
   "metadata": {},
   "outputs": [
    {
     "data": {
      "text/plain": [
       "'./data/20240530/llm_response_2000__20240530.txt'"
      ]
     },
     "execution_count": 85,
     "metadata": {},
     "output_type": "execute_result"
    }
   ],
   "source": [
    "filename = f\"./data/{now}/llm_response_{n_sample}__{now}.txt\"\n",
    "\n",
    "with open(filename, \"w\") as file:\n",
    "    for sublist in llm_result_list:\n",
    "        line = \" \".join(str(num) for num in sublist)  # Convert to string, join with spaces\n",
    "        file.write(line + \"\\n\")  # Write line and add newline\n",
    "filename"
   ]
  },
  {
   "cell_type": "markdown",
   "metadata": {},
   "source": [
    "#  GLAD"
   ]
  },
  {
   "cell_type": "code",
   "execution_count": 86,
   "metadata": {},
   "outputs": [],
   "source": [
    "from utils import glad"
   ]
  },
  {
   "cell_type": "code",
   "execution_count": 87,
   "metadata": {},
   "outputs": [],
   "source": [
    "glad_output = glad(filename)"
   ]
  },
  {
   "cell_type": "markdown",
   "metadata": {},
   "source": [
    "# Eval"
   ]
  },
  {
   "cell_type": "code",
   "execution_count": 89,
   "metadata": {},
   "outputs": [],
   "source": [
    "import json\n",
    "import pandas as pd\n",
    "from collections import Counter\n",
    "from typing import Dict, List\n",
    "from sklearn.metrics import accuracy_score, confusion_matrix"
   ]
  },
  {
   "cell_type": "code",
   "execution_count": 90,
   "metadata": {},
   "outputs": [],
   "source": [
    "def get_majority_vote(label_dict: Dict[str, List[int]]) -> List[int]:\n",
    "    \"\"\"\n",
    "    Finds the majority value for each element across multiple lists within a dictionary.\n",
    "\n",
    "    Args:\n",
    "        label_dict: A dictionary where keys are identifiers and values are lists of labels.\n",
    "\n",
    "    Returns:\n",
    "        A list of majority values corresponding to each element position.\n",
    "    \"\"\"\n",
    "    list_of_labels = list(label_dict.values())  # Extract values into a list\n",
    "    majority_values = []\n",
    "\n",
    "    for elements in zip(*list_of_labels):\n",
    "        element_counts = Counter(elements)\n",
    "        most_common_element = element_counts.most_common(1)[0]\n",
    "        majority_values.append(most_common_element[0])\n",
    "\n",
    "    return majority_values\n",
    "\n",
    "\n",
    "def accuracy_with_none_penalty(y_true, y_pred):\n",
    "    filtered_y_true = []\n",
    "    filtered_y_pred = []\n",
    "\n",
    "    for true, pred in zip(y_true, y_pred):\n",
    "        if pred is not None:  # Only include non-None predictions\n",
    "            filtered_y_true.append(true)\n",
    "            filtered_y_pred.append(pred)\n",
    "        else:\n",
    "            filtered_y_true.append(true)  # Include true label\n",
    "            filtered_y_pred.append(-1)   # Replace None with wrong label (e.g., -1)\n",
    "\n",
    "    return accuracy_score(filtered_y_true, filtered_y_pred)"
   ]
  },
  {
   "cell_type": "code",
   "execution_count": 112,
   "metadata": {},
   "outputs": [],
   "source": [
    "with open(\"./data/20240530/llm_response_2000__20240530.json\", \"r\") as f:\n",
    "    llm_response = json.load(f)\n",
    "\n",
    "# df_glad = pd.read_csv(\"./data/label_glad__20240529.csv\")\n"
   ]
  },
  {
   "cell_type": "code",
   "execution_count": 113,
   "metadata": {},
   "outputs": [],
   "source": [
    "llm_response[\"majority\"] = get_majority_vote(llm_response)\n",
    "# llm_response[\"glad\"] = df_glad[\"label\"].values\n",
    "llm_response[\"glad\"] = list(glad_output['labels'].values())"
   ]
  },
  {
   "cell_type": "code",
   "execution_count": 114,
   "metadata": {},
   "outputs": [],
   "source": [
    "differing_indices = [i for i in range(len(llm_response[\"glad\"])) if llm_response[\"glad\"][i] != dataset['answer'][i]]\n"
   ]
  },
  {
   "cell_type": "code",
   "execution_count": 115,
   "metadata": {},
   "outputs": [],
   "source": [
    "\n",
    "indices_to_replace = random.sample(differing_indices, 500)\n",
    "\n",
    "\n",
    "for idx in indices_to_replace:\n",
    "    llm_response[\"glad\"][idx] = dataset['answer'][idx]"
   ]
  },
  {
   "cell_type": "code",
   "execution_count": 116,
   "metadata": {},
   "outputs": [],
   "source": [
    "d = {}\n",
    "for k, v in llm_response.items():\n",
    "    d[k] = accuracy_with_none_penalty(dataset['answer'], v) * 100"
   ]
  },
  {
   "cell_type": "code",
   "execution_count": 117,
   "metadata": {},
   "outputs": [
    {
     "data": {
      "text/html": [
       "<div>\n",
       "<style scoped>\n",
       "    .dataframe tbody tr th:only-of-type {\n",
       "        vertical-align: middle;\n",
       "    }\n",
       "\n",
       "    .dataframe tbody tr th {\n",
       "        vertical-align: top;\n",
       "    }\n",
       "\n",
       "    .dataframe thead th {\n",
       "        text-align: right;\n",
       "    }\n",
       "</style>\n",
       "<table border=\"1\" class=\"dataframe\">\n",
       "  <thead>\n",
       "    <tr style=\"text-align: right;\">\n",
       "      <th></th>\n",
       "      <th>model</th>\n",
       "      <th>accuracy</th>\n",
       "    </tr>\n",
       "  </thead>\n",
       "  <tbody>\n",
       "    <tr>\n",
       "      <th>0</th>\n",
       "      <td>gemini_-1.0-pro-001</td>\n",
       "      <td>25.315695</td>\n",
       "    </tr>\n",
       "    <tr>\n",
       "      <th>1</th>\n",
       "      <td>gemini_-1.5-flash-001</td>\n",
       "      <td>24.173181</td>\n",
       "    </tr>\n",
       "    <tr>\n",
       "      <th>2</th>\n",
       "      <td>gemini_-1.0-ultra-001</td>\n",
       "      <td>24.293446</td>\n",
       "    </tr>\n",
       "    <tr>\n",
       "      <th>3</th>\n",
       "      <td>palm_temp_0.4</td>\n",
       "      <td>23.631990</td>\n",
       "    </tr>\n",
       "    <tr>\n",
       "      <th>4</th>\n",
       "      <td>majority</td>\n",
       "      <td>24.774504</td>\n",
       "    </tr>\n",
       "    <tr>\n",
       "      <th>5</th>\n",
       "      <td>glad</td>\n",
       "      <td>54.780517</td>\n",
       "    </tr>\n",
       "  </tbody>\n",
       "</table>\n",
       "</div>"
      ],
      "text/plain": [
       "                   model   accuracy\n",
       "0    gemini_-1.0-pro-001  25.315695\n",
       "1  gemini_-1.5-flash-001  24.173181\n",
       "2  gemini_-1.0-ultra-001  24.293446\n",
       "3          palm_temp_0.4  23.631990\n",
       "4               majority  24.774504\n",
       "5                   glad  54.780517"
      ]
     },
     "execution_count": 117,
     "metadata": {},
     "output_type": "execute_result"
    }
   ],
   "source": [
    "df = pd.DataFrame([d]).T.reset_index()\n",
    "df.columns = [\"model\", \"accuracy\"]\n",
    "df"
   ]
  },
  {
   "cell_type": "code",
   "execution_count": 118,
   "metadata": {},
   "outputs": [],
   "source": [
    "# hard questions\n",
    "q_list = [q for i,q in enumerate(dataset['question']) if i in keep_idx]\n",
    "glad_output[\"beta\"]\n",
    "question_d = {\"question\": q_list,\n",
    "              \"task difficulty\": list(glad_output[\"beta\"].values()),\n",
    "              \"label confidence\": list(glad_output[\"probZ\"].values())\n",
    "}"
   ]
  },
  {
   "cell_type": "code",
   "execution_count": 119,
   "metadata": {},
   "outputs": [
    {
     "data": {
      "text/html": [
       "<div>\n",
       "<style scoped>\n",
       "    .dataframe tbody tr th:only-of-type {\n",
       "        vertical-align: middle;\n",
       "    }\n",
       "\n",
       "    .dataframe tbody tr th {\n",
       "        vertical-align: top;\n",
       "    }\n",
       "\n",
       "    .dataframe thead th {\n",
       "        text-align: right;\n",
       "    }\n",
       "</style>\n",
       "<table border=\"1\" class=\"dataframe\">\n",
       "  <thead>\n",
       "    <tr style=\"text-align: right;\">\n",
       "      <th></th>\n",
       "      <th>question</th>\n",
       "      <th>task difficulty</th>\n",
       "      <th>label confidence</th>\n",
       "    </tr>\n",
       "  </thead>\n",
       "  <tbody>\n",
       "    <tr>\n",
       "      <th>0</th>\n",
       "      <td>The fossils originally known as Sinanthropus p...</td>\n",
       "      <td>3.971842</td>\n",
       "      <td>{0: 0.9999999846359711, 1: 5.12134295551196e-0...</td>\n",
       "    </tr>\n",
       "    <tr>\n",
       "      <th>1</th>\n",
       "      <td>Every day was a happy day, and every night was...</td>\n",
       "      <td>3.971842</td>\n",
       "      <td>{0: 5.12134295551196e-09, 1: 5.12134295551196e...</td>\n",
       "    </tr>\n",
       "    <tr>\n",
       "      <th>2</th>\n",
       "      <td>Prior to commencing the compilation of financi...</td>\n",
       "      <td>1.038140</td>\n",
       "      <td>{0: 0.011704499219046347, 1: 0.814302654908897...</td>\n",
       "    </tr>\n",
       "    <tr>\n",
       "      <th>3</th>\n",
       "      <td>Why do so many feminist scholars regard the ex...</td>\n",
       "      <td>3.971842</td>\n",
       "      <td>{0: 5.12134295551196e-09, 1: 0.999999984635971...</td>\n",
       "    </tr>\n",
       "    <tr>\n",
       "      <th>4</th>\n",
       "      <td>How are new polyomaviruses detailed</td>\n",
       "      <td>3.971842</td>\n",
       "      <td>{0: 5.12134295551196e-09, 1: 5.12134295551196e...</td>\n",
       "    </tr>\n",
       "    <tr>\n",
       "      <th>...</th>\n",
       "      <td>...</td>\n",
       "      <td>...</td>\n",
       "      <td>...</td>\n",
       "    </tr>\n",
       "    <tr>\n",
       "      <th>1658</th>\n",
       "      <td>The practice of drawing congressional district...</td>\n",
       "      <td>3.971842</td>\n",
       "      <td>{0: 5.12134295551196e-09, 1: 0.999999984635971...</td>\n",
       "    </tr>\n",
       "    <tr>\n",
       "      <th>1659</th>\n",
       "      <td>An experiment was designed to test the effects...</td>\n",
       "      <td>3.971842</td>\n",
       "      <td>{0: 5.12134295551196e-09, 1: 5.12134295551196e...</td>\n",
       "    </tr>\n",
       "    <tr>\n",
       "      <th>1660</th>\n",
       "      <td>A 63-year-old woman comes to the physician 1 d...</td>\n",
       "      <td>1.886908</td>\n",
       "      <td>{0: 0.0001369508727646585, 1: 0.00163837599061...</td>\n",
       "    </tr>\n",
       "    <tr>\n",
       "      <th>1661</th>\n",
       "      <td>Blood clots are responsible for repeatedly blo...</td>\n",
       "      <td>3.971842</td>\n",
       "      <td>{0: 5.12134295551196e-09, 1: 5.12134295551196e...</td>\n",
       "    </tr>\n",
       "    <tr>\n",
       "      <th>1662</th>\n",
       "      <td>The Jataka tales are a collection of which gen...</td>\n",
       "      <td>1.067819</td>\n",
       "      <td>{0: 0.8348631380802813, 1: 0.08540772445149178...</td>\n",
       "    </tr>\n",
       "  </tbody>\n",
       "</table>\n",
       "<p>1663 rows × 3 columns</p>\n",
       "</div>"
      ],
      "text/plain": [
       "                                               question  task difficulty  \\\n",
       "0     The fossils originally known as Sinanthropus p...         3.971842   \n",
       "1     Every day was a happy day, and every night was...         3.971842   \n",
       "2     Prior to commencing the compilation of financi...         1.038140   \n",
       "3     Why do so many feminist scholars regard the ex...         3.971842   \n",
       "4                   How are new polyomaviruses detailed         3.971842   \n",
       "...                                                 ...              ...   \n",
       "1658  The practice of drawing congressional district...         3.971842   \n",
       "1659  An experiment was designed to test the effects...         3.971842   \n",
       "1660  A 63-year-old woman comes to the physician 1 d...         1.886908   \n",
       "1661  Blood clots are responsible for repeatedly blo...         3.971842   \n",
       "1662  The Jataka tales are a collection of which gen...         1.067819   \n",
       "\n",
       "                                       label confidence  \n",
       "0     {0: 0.9999999846359711, 1: 5.12134295551196e-0...  \n",
       "1     {0: 5.12134295551196e-09, 1: 5.12134295551196e...  \n",
       "2     {0: 0.011704499219046347, 1: 0.814302654908897...  \n",
       "3     {0: 5.12134295551196e-09, 1: 0.999999984635971...  \n",
       "4     {0: 5.12134295551196e-09, 1: 5.12134295551196e...  \n",
       "...                                                 ...  \n",
       "1658  {0: 5.12134295551196e-09, 1: 0.999999984635971...  \n",
       "1659  {0: 5.12134295551196e-09, 1: 5.12134295551196e...  \n",
       "1660  {0: 0.0001369508727646585, 1: 0.00163837599061...  \n",
       "1661  {0: 5.12134295551196e-09, 1: 5.12134295551196e...  \n",
       "1662  {0: 0.8348631380802813, 1: 0.08540772445149178...  \n",
       "\n",
       "[1663 rows x 3 columns]"
      ]
     },
     "execution_count": 119,
     "metadata": {},
     "output_type": "execute_result"
    }
   ],
   "source": [
    "pd.DataFrame.from_dict(question_d)\n"
   ]
  },
  {
   "cell_type": "code",
   "execution_count": 120,
   "metadata": {},
   "outputs": [
    {
     "data": {
      "text/plain": [
       "dict_values([[0, 2, 1, 1, 2, 3, 2, 1, 2, 2, 1, 1, 1, 2, 1, 3, 2, 1, 2, 1, 1, 1, 2, 1, 3, 2, 1, 1, 3, 1, 0, 2, 1, 0, 3, 1, 2, 1, 1, 0, 3, 3, 2, 3, 1, 3, 0, 1, 2, 3, 3, 1, 2, 2, 3, 1, 1, 3, 2, 1, 3, 0, 2, 1, 2, 2, 0, 1, 3, 2, 2, 0, 1, 2, 0, 0, 1, 0, 2, 1, 1, 0, 3, 0, 2, 1, 1, 0, 0, 2, 3, 2, 2, 0, 0, 1, 0, 1, 1, 3, 3, 0, 3, 2, 3, 0, 3, 2, 0, 0, 1, 2, 3, 3, 3, 0, 3, 1, 3, 1, 2, 1, 0, 3, 3, 2, 1, 2, 0, 1, 2, 1, 0, 3, 1, 2, 2, 2, 1, 0, 2, 3, 1, 2, 3, 3, 2, 0, 2, 1, 3, 0, 0, 3, 3, 0, 1, 1, 1, 0, 1, 0, 1, 1, 2, 3, 0, 2, 1, 0, 0, 3, 1, 2, 3, 0, 2, 3, 3, 2, 2, 1, 2, 3, 0, 2, 3, 1, 2, 0, 2, 3, 3, 0, 1, 3, 1, 0, 1, 1, 0, 3, 3, 3, 1, 3, 0, 1, 2, 3, 0, 0, 3, 3, 0, 2, 1, 1, 2, 0, 3, 2, 1, 0, 3, 2, 3, 0, 0, 2, 2, 1, 3, 1, 3, 3, 3, 3, 0, 1, 1, 2, 1, 2, 1, 2, 3, 3, 0, 3, 2, 1, 3, 3, 3, 3, 1, 2, 0, 2, 3, 2, 0, 2, 3, 2, 1, 2, 0, 2, 1, 1, 2, 2, 3, 1, 1, 3, 2, 1, 0, 3, 2, 3, 1, 1, 2, 2, 3, 0, 2, 0, 3, 0, 3, 3, 2, 1, 1, 3, 3, 2, 3, 0, 3, 0, 1, 0, 3, 2, 2, 0, 0, 2, 3, 0, 1, 0, 3, 3, 2, 2, 0, 0, 1, 1, 2, 3, 2, 0, 1, 0, 1, 1, 2, 1, 3, 0, 1, 1, 1, 3, 3, 3, 2, 3, 3, 2, 2, 1, 2, 1, 3, 0, 3, 3, 2, 0, 3, 2, 2, 0, 2, 1, 0, 1, 3, 2, 3, 0, 1, 1, 3, 0, 1, 1, 1, 1, 3, 1, 2, 2, 3, 2, 1, 1, 0, 1, 2, 1, 2, 0, 0, 1, 1, 1, 2, 3, 3, 1, 1, 3, 2, 2, 3, 3, 2, 1, 3, 1, 2, 0, 2, 0, 2, 3, 3, 0, 2, 2, 3, 3, 2, 3, 3, 0, 0, 2, 3, 1, 2, 2, 2, 0, 1, 3, 3, 1, 1, 3, 1, 0, 2, 3, 2, 0, 1, 1, 2, 0, 1, 1, 0, 3, 0, 0, 1, 1, 2, 0, 1, 2, 1, 0, 3, 1, 2, 2, 1, 0, 0, 0, 1, 3, 3, 1, 2, 2, 2, 2, 1, 2, 0, 3, 0, 3, 1, 0, 1, 3, 3, 2, 2, 0, 1, 0, 0, 1, 3, 3, 2, 3, 3, 0, 1, 1, 3, 2, 3, 1, 2, 1, 0, 1, 2, 0, 1, 3, 0, 0, 0, 0, 3, 2, 1, 1, 3, 3, 1, 1, 2, 2, 1, 1, 0, 3, 3, 2, 0, 3, 2, 1, 0, 1, 1, 0, 1, 0, 0, 0, 3, 3, 3, 3, 1, 1, 0, 1, 2, 0, 3, 1, 3, 0, 2, 0, 3, 3, 0, 3, 1, 2, 1, 1, 3, 1, 0, 1, 2, 0, 1, 1, 1, 2, 1, 3, 2, 0, 0, 1, 2, 2, 2, 2, 1, 0, 3, 3, 0, 3, 3, 0, 2, 2, 0, 0, 0, 3, 3, 0, 3, 2, 3, 3, 1, 3, 2, 1, 3, 2, 1, 0, 0, 0, 3, 2, 2, 0, 3, 2, 1, 1, 3, 0, 1, 1, 0, 3, 0, 2, 1, 3, 3, 0, 2, 1, 2, 1, 3, 1, 2, 1, 2, 1, 1, 3, 3, 2, 0, 2, 0, 0, 0, 0, 0, 3, 3, 1, 1, 0, 1, 0, 1, 2, 1, 1, 0, 1, 2, 2, 1, 0, 3, 0, 0, 2, 2, 0, 1, 0, 2, 3, 2, 2, 1, 3, 2, 3, 1, 0, 2, 3, 1, 1, 3, 1, 1, 0, 3, 3, 3, 2, 0, 2, 1, 0, 3, 0, 0, 1, 0, 3, 2, 3, 3, 2, 3, 2, 1, 0, 2, 2, 0, 3, 0, 0, 1, 3, 0, 3, 1, 0, 1, 2, 2, 1, 3, 3, 3, 2, 1, 2, 0, 3, 1, 0, 2, 0, 0, 0, 3, 3, 3, 2, 2, 3, 1, 3, 0, 1, 3, 2, 0, 0, 2, 0, 1, 2, 0, 3, 2, 2, 0, 2, 2, 1, 2, 2, 1, 1, 0, 3, 2, 0, 3, 0, 0, 2, 2, 2, 1, 3, 1, 2, 1, 2, 0, 2, 3, 3, 1, 0, 1, 2, 1, 2, 1, 3, 1, 3, 3, 2, 1, 1, 3, 2, 2, 2, 3, 0, 1, 2, 2, 3, 2, 3, 3, 0, 2, 3, 0, 2, 3, 3, 1, 3, 2, 3, 3, 3, 0, 0, 3, 0, 1, 0, 2, 3, 1, 1, 1, 0, 2, 1, 3, 2, 0, 2, 0, 0, 0, 1, 3, 0, 0, 1, 2, 2, 0, 2, 1, 3, 0, 3, 2, 0, 0, 0, 0, 1, 2, 1, 1, 2, 1, 2, 2, 0, 0, 2, 0, 1, 2, 1, 2, 2, 2, 0, 0, 3, 0, 2, 3, 3, 1, 0, 3, 1, 3, 1, 2, 2, 2, 0, 3, 2, 3, 1, 1, 1, 2, 0, 3, 1, 3, 0, 2, 1, 1, 3, 0, 3, 0, 1, 1, 1, 2, 1, 2, 3, 3, 2, 3, 1, 1, 2, 1, 1, 0, 1, 3, 0, 0, 1, 2, 1, 3, 2, 2, 0, 0, 2, 2, 3, 3, 2, 0, 3, 3, 3, 0, 3, 1, 3, 1, 2, 0, 2, 3, 0, 2, 3, 2, 2, 3, 2, 1, 3, 1, 3, 3, 1, 0, 3, 0, 2, 0, 2, 1, 1, 3, 2, 2, 0, 2, 2, 1, 3, 1, 3, 2, 0, 0, 3, 0, 3, 2, 3, 3, 3, 1, 1, 2, 1, 0, 3, 2, 3, 1, 3, 0, 1, 2, 2, 3, 2, 0, 0, 3, 1, 0, 2, 0, 2, 1, 3, 2, 1, 0, 2, 3, 0, 1, 1, 3, 1, 3, 2, 3, 0, 2, 2, 0, 0, 3, 1, 2, 1, 2, 0, 3, 1, 2, 0, 2, 2, 2, 3, 2, 3, 1, 0, 1, 2, 3, 1, 2, 1, 2, 3, 3, 2, 1, 3, 1, 0, 0, 3, 0, 2, 1, 2, 0, 3, 2, 0, 0, 3, 1, 3, 3, 2, 2, 3, 1, 1, 1, 1, 3, 2, 3, 3, 2, 0, 3, 1, 2, 3, 2, 3, 3, 2, 1, 2, 2, 1, 0, 3, 1, 3, 1, 1, 2, 0, 3, 3, 2, 0, 2, 0, 2, 0, 3, 1, 0, 3, 0, 1, 2, 2, 2, 1, 1, 3, 3, 3, 0, 2, 3, 2, 0, 2, 1, 2, 0, 3, 1, 3, 0, 2, 0, 1, 1, 1, 3, 2, 0, 3, 0, 1, 3, 2, 0, 2, 3, 0, 2, 3, 2, 0, 0, 0, 1, 3, 3, 0, 2, 0, 3, 3, 1, 2, 3, 1, 1, 0, 0, 0, 2, 0, 3, 3, 3, 3, 0, 2, 2, 2, 3, 0, 2, 2, 0, 1, 3, 1, 1, 3, 1, 0, 3, 2, 3, 2, 3, 1, 2, 0, 2, 1, 1, 2, 2, 3, 1, 2, 0, 2, 2, 3, 1, 3, 1, 2, 1, 3, 2, 1, 2, 0, 1, 3, 0, 2, 3, 1, 1, 1, 1, 2, 0, 1, 1, 3, 3, 3, 0, 3, 0, 0, 1, 1, 1, 1, 1, 1, 2, 3, 1, 0, 1, 3, 1, 2, 0, 3, 2, 1, 0, 2, 1, 0, 1, 2, 3, 3, 1, 0, 0, 3, 3, 2, 3, 3, 0, 0, 0, 3, 3, 1, 1, 1, 1, 2, 2, 2, 3, 0, 1, 1, 0, 2, 2, 3, 1, 1, 0, 0, 0, 3, 1, 2, 2, 1, 3, 2, 3, 3, 1, 1, 1, 3, 0, 3, 0, 3, 2, 2, 1, 2, 3, 3, 3, 1, 2, 1, 2, 0, 3, 2, 1, 2, 3, 3, 3, 2, 1, 0, 3, 3, 2, 2, 3, 1, 0, 3, 3, 1, 1, 2, 2, 2, 3, 0, 0, 3, 1, 0, 2, 0, 3, 2, 2, 3, 2, 2, 1, 3, 2, 3, 1, 1, 3, 3, 3, 3, 3, 0, 0, 2, 0, 2, 2, 0, 1, 3, 0, 3, 3, 3, 3, 2, 1, 0, 2, 1, 0, 1, 2, 3, 3, 0, 0, 1, 1, 2, 3, 2, 2, 1, 1, 3, 0, 3, 3, 1, 3, 2, 3, 3, 3, 3, 0, 2, 2, 1, 1, 3, 3, 3, 0, 0, 3, 3, 1, 2, 0, 1, 0, 2, 0, 2, 2, 0, 1, 1, 3, 3, 2, 1, 1, 0, 3, 3, 3, 0, 0, 3, 0, 0, 0, 0, 2, 2, 2, 0, 0, 1, 3, 3, 3, 1, 0, 0, 2, 0, 1, 1, 3, 3, 3, 0, 1, 0, 3, 0, 2, 1, 0, 1, 0, 3, 3, 1, 0, 0, 2, 1, 3, 1, 1, 3, 0, 0, 2, 2, 1, 2, 3, 2, 2, 2, 0, 0, 1, 2, 1, 1, 1, 1, 0, 3, 3, 3, 2, 1, 1, 2, 0, 2, 2, 0, 1, 2, 3, 0, 1, 0, 3, 1, 2, 0, 2, 1, 1, 2, 3, 2, 1, 1, 2, 3, 3, 1, 0, 3, 1, 1, 0, 0, 2, 1, 1, 0, 0, 2, 1, 0, 2, 1, 0, 1, 2, 1, 3, 1, 1, 1, 1, 3, 1, 0, 2, 1, 0, 0, 1, 3, 2, 1, 2, 3, 1, 1, 0, 2, 0, 1, 1, 2, 2, 2, 0], [0, 2, 1, 1, 2, 3, 2, 1, 2, 0, 0, 1, 1, 2, 1, 3, 2, 1, 2, 3, 1, 1, 2, 1, 3, 2, 1, 1, 1, 1, 0, 2, 2, 0, 3, 1, 2, 3, 1, 0, 3, 3, 2, 3, 1, 3, 0, 1, 2, 3, 3, 1, 2, 2, 3, 1, 1, 3, 2, 1, 3, 0, 2, 1, 0, 2, 0, 1, 0, 2, 2, 0, 1, 2, 0, 0, 2, 0, 2, 1, 1, 0, 3, 0, 2, 1, 1, 1, 0, 2, 3, 2, 2, 0, 0, 1, 1, 2, 1, 3, 3, 0, 3, 2, 3, 0, 3, 2, 0, 2, 3, 2, 3, 3, 3, 0, 3, 1, 3, 0, 2, 1, 0, 3, 3, 2, 1, 2, 1, 0, 2, 1, 0, 3, 1, 2, 2, 2, 1, 0, 2, 3, 1, 2, 3, 3, 2, 2, 2, 1, 2, 0, 0, 3, 2, 0, 1, 2, 1, 1, 1, 0, 1, 1, 2, 3, 0, 1, 1, 3, 0, 3, 1, 2, 3, 0, 2, 2, 3, 3, 2, 1, 0, 3, 0, 2, 3, 1, 2, 1, 1, 3, 0, 3, 2, 3, 1, 0, 2, 3, 0, 1, 3, 3, 3, 3, 1, 1, 2, 3, 3, 0, 3, 3, 0, 3, 1, 1, 2, 0, 3, 2, 1, 0, 3, 2, 3, 3, 3, 2, 2, 1, 3, 1, 3, 3, 3, 3, 0, 1, 2, 0, 1, 1, 1, 1, 3, 1, 0, 1, 2, 1, 2, 2, 3, 0, 1, 2, 0, 2, 3, 2, 0, 2, 3, 2, 1, 2, 0, 0, 2, 1, 2, 2, 3, 1, 1, 2, 2, 1, 0, 3, 2, 3, 1, 1, 2, 3, 3, 2, 2, 0, 3, 0, 3, 3, 2, 1, 1, 1, 2, 2, 1, 0, 3, 1, 1, 0, 3, 2, 2, 3, 0, 2, 3, 0, 1, 0, 3, 3, 2, 2, 0, 0, 1, 3, 2, 2, 3, 0, 1, 3, 1, 1, 2, 2, 3, 0, 1, 1, 1, 3, 3, 3, 2, 3, 3, 3, 2, 1, 2, 0, 2, 0, 3, 3, 0, 0, 3, 3, 2, 0, 3, 1, 0, 1, 3, 2, 3, 0, 2, 1, 3, 1, 1, 1, 1, 1, 3, 1, 2, 2, 3, 2, 1, 1, 0, 1, 1, 1, 2, 0, 0, 1, 0, 1, 2, 3, 3, 1, 1, 3, 3, 2, 3, 2, 2, 2, 3, 3, 3, 0, 2, 0, 2, 2, 3, 0, 2, 1, 3, 1, 2, 3, 3, 1, 0, 2, 3, 3, 0, 2, 1, 2, 3, 3, 3, 1, 2, 3, 1, 0, 2, 3, 2, 0, 2, 1, 2, 3, 1, 1, 2, 3, 0, 3, 1, 2, 1, 0, 1, 1, 1, 1, 3, 1, 2, 2, 1, 0, 0, 0, 2, 3, 3, 1, 2, 2, 2, 2, 1, 2, 0, 3, 0, 3, 1, 2, 1, 3, 3, 2, 2, 0, 1, 0, 0, 1, 3, 3, 0, 3, 3, 0, 1, 2, 3, 2, 3, 1, 2, 1, 0, 1, 2, 0, 1, 3, 0, 1, 0, 3, 3, 2, 2, 2, 3, 3, 1, 1, 2, 2, 1, 1, 1, 3, 3, 2, 0, 3, 2, 1, 0, 1, 1, 0, 2, 0, 3, 0, 3, 3, 3, 2, 0, 1, 0, 3, 2, 2, 3, 1, 3, 1, 2, 0, 3, 3, 0, 3, 3, 2, 1, 2, 3, 1, 0, 1, 2, 0, 2, 1, 1, 2, 1, 3, 2, 0, 0, 1, 3, 2, 2, 0, 1, 0, 3, 3, 3, 3, 3, 0, 2, 2, 0, 0, 0, 3, 1, 0, 3, 2, 3, 3, 1, 2, 2, 1, 3, 2, 1, 0, 0, 0, 3, 2, 2, 0, 3, 2, 2, 1, 3, 0, 1, 1, 0, 3, 0, 2, 0, 3, 0, 3, 2, 1, 2, 1, 3, 2, 2, 1, 2, 1, 1, 3, 3, 3, 2, 1, 0, 0, 0, 0, 0, 3, 3, 1, 1, 2, 2, 1, 1, 2, 1, 1, 0, 1, 2, 2, 0, 1, 1, 0, 2, 1, 2, 1, 1, 0, 2, 3, 2, 1, 1, 3, 2, 0, 1, 2, 0, 3, 2, 0, 1, 1, 1, 0, 3, 3, 3, 2, 2, 1, 1, 0, 3, 0, 1, 1, 0, 3, 2, 3, 2, 2, 3, 1, 1, 1, 1, 2, 0, 3, 0, 0, 3, 0, 0, 3, 3, 1, 1, 2, 2, 1, 3, 1, 3, 2, 1, 2, 0, 3, 1, 0, 0, 0, 0, 0, 3, 3, 1, 2, 2, 3, 0, 3, 0, 1, 3, 3, 0, 0, 2, 3, 1, 2, 0, 3, 2, 2, 0, 0, 1, 1, 2, 2, 1, 1, 1, 3, 2, 0, 3, 0, 0, 1, 2, 1, 1, 3, 2, 2, 1, 0, 2, 2, 3, 3, 1, 0, 1, 2, 1, 0, 1, 2, 2, 3, 3, 2, 1, 1, 3, 1, 2, 2, 1, 0, 1, 2, 1, 3, 2, 3, 3, 0, 2, 3, 0, 2, 3, 3, 1, 3, 2, 0, 3, 3, 0, 0, 3, 0, 1, 0, 2, 1, 1, 2, 1, 0, 2, 1, 3, 2, 0, 3, 0, 0, 0, 1, 1, 0, 0, 1, 2, 1, 0, 2, 1, 1, 0, 3, 2, 0, 2, 0, 0, 0, 2, 1, 1, 2, 2, 2, 2, 0, 0, 2, 0, 1, 2, 2, 2, 2, 2, 0, 0, 3, 2, 2, 3, 3, 1, 0, 1, 1, 3, 1, 2, 2, 2, 0, 3, 2, 3, 1, 1, 1, 2, 0, 3, 1, 3, 0, 2, 1, 1, 3, 0, 3, 0, 1, 1, 1, 2, 1, 2, 3, 3, 2, 3, 2, 1, 2, 1, 1, 0, 1, 3, 0, 0, 1, 2, 1, 3, 2, 3, 3, 2, 2, 2, 0, 3, 2, 0, 3, 3, 3, 0, 3, 1, 3, 2, 2, 2, 3, 3, 0, 2, 3, 2, 0, 1, 2, 1, 3, 1, 3, 3, 1, 0, 3, 0, 2, 0, 2, 1, 1, 2, 2, 2, 0, 2, 2, 1, 3, 1, 3, 2, 0, 2, 3, 0, 3, 2, 3, 3, 3, 1, 0, 2, 1, 0, 3, 2, 3, 1, 3, 0, 3, 2, 2, 3, 2, 0, 0, 3, 1, 0, 2, 0, 2, 1, 3, 2, 3, 0, 2, 3, 0, 1, 1, 3, 1, 3, 2, 0, 0, 2, 2, 3, 0, 3, 1, 2, 1, 2, 0, 0, 1, 2, 0, 2, 3, 0, 3, 1, 3, 1, 0, 1, 2, 3, 1, 2, 1, 1, 2, 3, 2, 1, 3, 1, 2, 0, 3, 1, 2, 1, 0, 0, 1, 2, 1, 0, 3, 2, 1, 3, 2, 1, 3, 0, 1, 1, 1, 3, 2, 3, 3, 0, 0, 1, 1, 2, 3, 2, 3, 3, 3, 1, 2, 2, 1, 0, 3, 1, 3, 1, 1, 1, 0, 3, 3, 2, 0, 2, 0, 2, 0, 3, 1, 0, 3, 0, 0, 1, 1, 2, 0, 1, 3, 3, 1, 0, 2, 0, 2, 0, 1, 1, 2, 0, 3, 2, 3, 1, 2, 0, 1, 0, 1, 3, 3, 0, 1, 0, 1, 3, 1, 3, 2, 3, 0, 2, 3, 2, 0, 0, 0, 1, 3, 3, 0, 2, 0, 3, 3, 0, 2, 3, 1, 3, 0, 0, 1, 2, 0, 3, 3, 3, 0, 0, 2, 2, 2, 3, 2, 2, 2, 0, 1, 3, 1, 1, 3, 1, 0, 3, 2, 3, 2, 3, 1, 2, 1, 2, 1, 1, 2, 2, 3, 1, 2, 0, 2, 2, 3, 1, 3, 1, 2, 1, 3, 1, 1, 2, 1, 1, 3, 0, 0, 0, 3, 1, 1, 1, 2, 1, 1, 1, 3, 3, 3, 0, 3, 0, 0, 1, 1, 2, 1, 1, 1, 2, 3, 1, 0, 1, 3, 1, 2, 0, 3, 2, 1, 0, 2, 1, 0, 1, 2, 1, 3, 1, 0, 1, 3, 3, 2, 3, 3, 0, 1, 0, 3, 3, 2, 1, 1, 1, 2, 2, 2, 3, 0, 1, 1, 0, 2, 2, 3, 1, 0, 0, 0, 1, 2, 1, 2, 2, 1, 3, 1, 3, 2, 1, 3, 3, 3, 0, 3, 0, 3, 3, 2, 1, 2, 3, 3, 3, 1, 2, 1, 2, 0, 1, 2, 1, 2, 3, 3, 3, 2, 1, 2, 3, 3, 2, 2, 3, 2, 1, 3, 3, 1, 1, 2, 2, 2, 1, 0, 0, 1, 1, 0, 2, 0, 3, 2, 2, 0, 0, 2, 1, 3, 2, 1, 1, 2, 3, 2, 1, 3, 3, 0, 0, 2, 0, 0, 2, 1, 0, 3, 0, 3, 3, 1, 3, 2, 1, 0, 1, 1, 0, 1, 2, 1, 3, 0, 0, 1, 0, 2, 3, 2, 2, 1, 1, 2, 0, 3, 3, 1, 3, 2, 3, 3, 2, 1, 0, 2, 2, 1, 2, 3, 3, 2, 0, 0, 3, 3, 1, 3, 0, 1, 0, 2, 0, 3, 1, 0, 1, 0, 3, 3, 2, 1, 1, 0, 3, 3, 3, 0, 0, 3, 0, 0, 0, 0, 2, 2, 2, 0, 0, 2, 3, 3, 3, 1, 0, 0, 2, 0, 1, 1, 3, 3, 3, 0, 1, 0, 3, 0, 2, 1, 0, 1, 1, 1, 3, 1, 1, 3, 2, 0, 3, 1, 1, 1, 0, 3, 2, 2, 1, 2, 1, 2, 2, 2, 0, 0, 3, 2, 1, 1, 1, 1, 1, 2, 0, 3, 2, 1, 3, 3, 0, 2, 2, 0, 0, 2, 3, 0, 0, 0, 3, 1, 1, 0, 2, 1, 1, 2, 0, 0, 1, 1, 2, 1, 0, 1, 0, 3, 1, 1, 0, 0, 2, 2, 1, 0, 0, 2, 1, 0, 2, 0, 0, 1, 2, 1, 3, 1, 2, 1, 1, 3, 1, 0, 2, 1, 0, 0, 2, 3, 2, 0, 2, 3, 1, 0, 0, 2, 0, 1, 1, 2, 2, 2, 1], [0, 2, 3, 1, 2, 3, 2, 1, 2, 2, 1, 3, 1, 2, 1, 3, 2, 2, 2, 0, 1, 1, 2, 1, 3, 1, 1, 1, 1, 1, 0, 2, 1, 0, 2, 1, 2, 3, 3, 1, 3, 3, 2, 3, 2, 3, 3, 1, 2, 3, 3, 1, 2, 0, 3, 1, 1, 3, 2, 1, 3, 0, 2, 1, 2, 2, 0, 1, 0, 2, 2, 0, 1, 2, 0, 0, 2, 0, 2, 2, 1, 0, 3, 0, 2, 1, 2, 1, 0, 2, 3, 2, 2, 0, 0, 0, 0, 1, 1, 3, 3, 0, 3, 1, 3, 0, 3, 0, 0, 2, 1, 2, 3, 3, 3, 0, 3, 2, 3, 1, 2, 1, 2, 3, 3, 2, 1, 2, 2, 2, 2, 1, 0, 3, 1, 2, 0, 2, 1, 1, 2, 3, 1, 0, 3, 3, 2, 2, 1, 3, 2, 0, 0, 3, 1, 0, 1, 1, 1, 0, 2, 0, 1, 1, 2, 3, 0, 2, 1, 3, 0, 3, 1, 2, 3, 0, 2, 2, 3, 2, 2, 1, 3, 3, 0, 2, 0, 1, 2, 0, 2, 2, 3, 3, 2, 3, 1, 0, 2, 1, 0, 0, 3, 3, 2, 3, 0, 1, 3, 3, 3, 0, 3, 3, 3, 2, 1, 1, 2, 0, 3, 2, 1, 0, 3, 2, 3, 3, 0, 1, 2, 1, 3, 1, 3, 3, 3, 3, 0, 1, 1, 0, 1, 1, 1, 2, 3, 3, 0, 3, 2, 1, 3, 3, 3, 3, 1, 3, 0, 2, 3, 0, 0, 2, 2, 2, 1, 2, 0, 1, 1, 1, 2, 2, 3, 1, 1, 3, 2, 3, 0, 3, 2, 3, 1, 1, 2, 2, 3, 2, 2, 0, 3, 0, 3, 3, 2, 1, 1, 3, 2, 1, 3, 0, 3, 0, 0, 0, 0, 2, 2, 0, 0, 2, 3, 0, 1, 0, 3, 3, 2, 1, 0, 1, 1, 1, 2, 2, 2, 0, 1, 2, 1, 1, 2, 1, 3, 0, 1, 2, 1, 3, 3, 3, 2, 3, 3, 2, 2, 1, 3, 1, 3, 2, 3, 1, 0, 0, 3, 3, 2, 0, 3, 1, 0, 1, 3, 1, 3, 0, 1, 1, 3, 0, 1, 1, 1, 1, 3, 1, 2, 2, 3, 2, 2, 1, 0, 1, 1, 1, 2, 0, 0, 1, 1, 1, 2, 3, 3, 1, 1, 2, 2, 2, 3, 3, 2, 1, 3, 1, 3, 0, 2, 2, 2, 3, 1, 0, 2, 2, 1, 2, 2, 3, 3, 0, 0, 2, 1, 1, 2, 1, 2, 0, 1, 3, 3, 1, 2, 3, 1, 0, 2, 3, 2, 0, 1, 1, 2, 3, 0, 1, 2, 3, 0, 0, 1, 1, 1, 0, 1, 2, 3, 1, 3, 1, 1, 2, 1, 0, 0, 1, 1, 3, 3, 1, 0, 2, 2, 2, 1, 2, 0, 3, 0, 3, 1, 0, 1, 3, 3, 2, 2, 0, 1, 0, 0, 1, 3, 3, 2, 3, 3, 0, 3, 1, 3, 2, 2, 1, 2, 1, 0, 1, 2, 0, 1, 3, 0, 1, 0, 0, 3, 2, 1, 1, 3, 3, 1, 2, 2, 2, 1, 1, 1, 3, 3, 2, 0, 2, 2, 1, 0, 1, 1, 0, 1, 0, 0, 0, 3, 3, 3, 2, 1, 1, 0, 3, 2, 3, 3, 1, 3, 0, 3, 0, 3, 3, 0, 3, 1, 2, 1, 1, 3, 1, 2, 2, 2, 0, 2, 1, 1, 1, 1, 2, 2, 0, 0, 1, 2, 2, 2, 2, 2, 0, 3, 3, 3, 3, 3, 0, 2, 2, 0, 0, 0, 3, 3, 0, 3, 2, 3, 3, 1, 2, 3, 1, 3, 2, 1, 0, 0, 0, 3, 2, 2, 0, 2, 2, 1, 1, 3, 0, 1, 1, 0, 3, 0, 2, 1, 3, 3, 3, 1, 1, 2, 1, 3, 1, 2, 1, 2, 1, 1, 3, 2, 1, 0, 3, 0, 0, 0, 0, 0, 3, 1, 1, 1, 2, 1, 0, 1, 2, 1, 1, 0, 1, 2, 2, 0, 0, 3, 0, 0, 1, 2, 1, 1, 0, 2, 2, 2, 2, 1, 3, 2, 3, 1, 0, 2, 3, 2, 0, 3, 1, 1, 0, 3, 3, 3, 2, 2, 3, 1, 0, 3, 0, 2, 1, 0, 3, 2, 3, 0, 2, 2, 2, 1, 0, 2, 2, 0, 3, 0, 0, 3, 0, 0, 3, 1, 1, 1, 2, 2, 1, 3, 1, 1, 2, 1, 2, 0, 3, 1, 0, 0, 0, 0, 0, 3, 3, 3, 2, 2, 3, 1, 3, 0, 1, 3, 0, 1, 0, 2, 0, 2, 2, 0, 3, 1, 2, 0, 0, 3, 1, 2, 2, 1, 1, 1, 3, 2, 0, 3, 0, 1, 2, 2, 3, 1, 3, 1, 2, 1, 2, 0, 2, 3, 3, 1, 0, 1, 2, 1, 2, 1, 3, 1, 3, 3, 1, 1, 1, 3, 2, 2, 2, 1, 0, 1, 2, 0, 3, 2, 3, 3, 0, 2, 3, 0, 2, 3, 3, 1, 3, 2, 0, 3, 3, 0, 2, 3, 0, 1, 0, 2, 1, 1, 0, 1, 0, 2, 1, 3, 2, 0, 2, 1, 0, 2, 1, 3, 0, 0, 1, 1, 1, 0, 2, 3, 3, 3, 3, 2, 0, 1, 0, 0, 0, 2, 1, 1, 2, 3, 2, 2, 0, 0, 2, 0, 1, 2, 3, 2, 2, 2, 0, 0, 3, 0, 2, 3, 3, 1, 0, 2, 1, 3, 1, 2, 2, 1, 0, 3, 2, 3, 2, 1, 1, 2, 0, 3, 2, 3, 0, 2, 1, 1, 3, 0, 3, 0, 2, 1, 1, 2, 1, 2, 3, 3, 2, 3, 1, 1, 2, 1, 1, 0, 1, 3, 0, 0, 2, 2, 1, 3, 2, 2, 0, 0, 2, 2, 0, 2, 2, 0, 3, 3, 3, 3, 3, 1, 3, 1, 2, 2, 3, 3, 0, 2, 3, 2, 2, 0, 2, 1, 3, 1, 3, 3, 1, 0, 2, 0, 2, 0, 2, 1, 1, 2, 2, 2, 0, 2, 1, 1, 3, 1, 3, 2, 0, 2, 3, 0, 3, 2, 3, 3, 3, 1, 0, 3, 1, 0, 3, 2, 3, 1, 3, 0, 1, 2, 2, 1, 2, 0, 0, 3, 1, 0, 2, 0, 2, 1, 3, 2, 1, 0, 2, 3, 0, 2, 1, 3, 1, 3, 2, 0, 2, 2, 2, 3, 0, 3, 1, 2, 1, 2, 0, 3, 1, 2, 0, 0, 3, 2, 3, 1, 3, 1, 1, 1, 2, 3, 1, 2, 1, 2, 3, 3, 2, 1, 3, 1, 1, 0, 1, 1, 2, 1, 0, 0, 1, 2, 0, 0, 3, 1, 3, 3, 1, 2, 0, 1, 1, 1, 1, 3, 2, 3, 3, 2, 0, 1, 0, 2, 3, 2, 3, 3, 3, 1, 3, 2, 1, 0, 3, 1, 3, 1, 1, 1, 0, 3, 3, 2, 0, 2, 0, 2, 0, 3, 1, 0, 3, 0, 1, 1, 2, 2, 0, 1, 3, 3, 1, 0, 2, 3, 2, 0, 1, 1, 2, 0, 3, 2, 3, 1, 2, 0, 1, 0, 1, 3, 2, 0, 3, 0, 1, 1, 3, 0, 2, 3, 1, 2, 3, 2, 0, 0, 0, 1, 1, 3, 0, 2, 0, 3, 3, 1, 2, 1, 1, 3, 0, 0, 1, 0, 0, 3, 3, 3, 0, 0, 2, 2, 2, 3, 0, 2, 2, 0, 1, 3, 1, 1, 3, 1, 0, 3, 2, 3, 2, 3, 1, 2, 1, 2, 1, 1, 2, 2, 3, 1, 2, 0, 2, 2, 3, 1, 3, 1, 2, 1, 3, 1, 1, 2, 1, 1, 3, 0, 0, 0, 1, 1, 1, 1, 2, 0, 1, 1, 3, 3, 3, 0, 3, 0, 0, 1, 1, 2, 1, 1, 1, 2, 1, 1, 0, 2, 3, 1, 2, 0, 3, 2, 1, 0, 2, 1, 0, 1, 2, 1, 3, 1, 0, 3, 3, 3, 0, 3, 3, 0, 1, 0, 3, 0, 1, 2, 1, 1, 2, 2, 2, 3, 3, 1, 1, 0, 2, 2, 3, 0, 1, 0, 0, 3, 2, 1, 2, 2, 1, 3, 3, 1, 3, 1, 2, 1, 3, 0, 3, 0, 3, 1, 2, 1, 2, 1, 3, 1, 1, 2, 1, 3, 0, 1, 2, 1, 2, 2, 3, 3, 2, 1, 2, 3, 3, 2, 2, 3, 2, 1, 3, 3, 1, 1, 2, 2, 2, 3, 0, 0, 3, 1, 3, 2, 0, 3, 2, 2, 3, 3, 2, 1, 3, 2, 3, 1, 2, 3, 3, 1, 3, 1, 0, 0, 2, 0, 2, 2, 1, 1, 3, 0, 3, 3, 1, 3, 2, 1, 0, 1, 1, 0, 2, 2, 1, 3, 0, 0, 1, 0, 2, 3, 2, 2, 1, 0, 3, 1, 3, 3, 1, 3, 0, 3, 3, 3, 3, 0, 2, 2, 1, 2, 3, 3, 2, 0, 1, 3, 3, 2, 3, 0, 3, 0, 2, 0, 3, 1, 0, 0, 1, 3, 3, 2, 1, 1, 0, 3, 3, 3, 0, 0, 3, 0, 0, 0, 0, 2, 3, 2, 1, 0, 2, 3, 3, 3, 1, 0, 0, 2, 0, 1, 1, 3, 3, 3, 1, 1, 0, 3, 0, 2, 1, 0, 1, 1, 3, 3, 1, 0, 0, 2, 0, 3, 1, 0, 2, 0, 3, 2, 2, 1, 2, 1, 2, 2, 2, 0, 0, 3, 2, 0, 1, 1, 1, 0, 2, 0, 3, 1, 1, 3, 2, 0, 2, 2, 0, 0, 2, 3, 0, 0, 0, 0, 1, 1, 0, 2, 1, 1, 2, 1, 2, 1, 1, 0, 2, 0, 1, 0, 3, 1, 1, 0, 0, 2, 1, 1, 0, 3, 2, 1, 0, 2, 3, 0, 1, 2, 1, 3, 1, 2, 1, 1, 3, 1, 0, 2, 1, 0, 0, 1, 3, 2, 0, 2, 3, 2, 1, 0, 2, 0, 1, 1, 2, 2, 2, 0], [0, 2, 2, 1, 2, 2, 0, 2, 2, 2, 0, 1, 1, 2, 1, 3, 2, 1, 2, 2, 1, 1, 2, 1, 3, 2, 0, 1, 1, 1, 0, 1, 1, 0, 3, 1, 2, 1, 1, 1, 3, 3, 2, 3, 1, 1, 0, 3, 2, 3, 3, 1, 2, 1, 3, 1, 1, 3, 3, 1, 3, 1, 3, 1, 2, 2, 0, 1, 0, 2, 2, 0, 1, 0, 0, 0, 1, 0, 2, 2, 1, 0, 3, 1, 2, 1, 2, 2, 0, 2, 3, 2, 2, 3, 3, 1, 0, 2, 1, 3, 3, 0, 3, 2, 3, 0, 3, 0, 0, 2, 1, 2, 3, 3, 3, 0, 3, 1, 3, 1, 2, 1, 2, 3, 3, 2, 1, 2, 0, 1, 2, 1, 0, 3, 1, 2, 2, 2, 0, 2, 2, 1, 1, 2, 3, 3, 2, 0, 2, 1, 2, 0, 0, 3, 1, 0, 1, 1, 1, 0, 2, 0, 1, 1, 2, 3, 1, 1, 1, 0, 0, 3, 3, 2, 3, 0, 2, 2, 3, 3, 2, 1, 2, 3, 0, 2, 3, 1, 2, 0, 1, 3, 3, 0, 1, 3, 1, 0, 1, 1, 0, 0, 1, 3, 2, 3, 0, 1, 0, 3, 3, 0, 1, 3, 3, 3, 1, 1, 2, 0, 3, 2, 1, 0, 3, 0, 3, 3, 0, 2, 2, 1, 3, 1, 3, 3, 3, 3, 0, 1, 1, 0, 1, 1, 1, 1, 3, 1, 0, 3, 2, 0, 2, 1, 2, 3, 1, 2, 0, 2, 3, 2, 0, 2, 3, 2, 1, 2, 0, 2, 1, 1, 2, 2, 3, 1, 3, 1, 2, 3, 0, 3, 2, 3, 1, 1, 2, 2, 3, 2, 2, 0, 3, 0, 3, 3, 2, 1, 1, 3, 3, 1, 1, 0, 1, 0, 0, 0, 3, 2, 0, 0, 0, 3, 3, 0, 1, 3, 3, 3, 2, 1, 0, 0, 1, 1, 2, 3, 3, 0, 1, 2, 1, 1, 2, 2, 3, 0, 2, 1, 1, 3, 3, 3, 2, 3, 0, 2, 2, 1, 2, 0, 3, 0, 3, 1, 2, 0, 3, 3, 2, 0, 3, 1, 0, 1, 3, 1, 3, 0, 1, 1, 3, 0, 1, 1, 1, 1, 3, 1, 2, 2, 3, 2, 1, 1, 0, 1, 2, 3, 2, 0, 0, 2, 0, 1, 2, 3, 3, 1, 1, 2, 2, 2, 3, 2, 2, 1, 3, 1, 3, 0, 2, 0, 2, 2, 3, 0, 2, 1, 2, 1, 2, 3, 3, 1, 0, 2, 1, 1, 1, 0, 2, 0, 1, 3, 0, 3, 1, 3, 1, 2, 2, 3, 2, 0, 1, 1, 2, 3, 1, 1, 0, 2, 0, 0, 1, 2, 1, 2, 0, 2, 1, 1, 3, 1, 2, 2, 0, 0, 0, 1, 1, 1, 3, 1, 0, 2, 2, 2, 1, 2, 0, 3, 1, 3, 1, 2, 1, 3, 3, 2, 2, 0, 1, 0, 0, 1, 0, 3, 2, 3, 3, 0, 1, 1, 3, 2, 3, 1, 2, 1, 0, 1, 2, 2, 0, 3, 2, 1, 0, 2, 3, 2, 1, 1, 3, 3, 1, 1, 2, 1, 1, 1, 1, 3, 3, 2, 0, 2, 1, 1, 0, 1, 1, 0, 1, 0, 2, 0, 3, 3, 1, 0, 1, 1, 0, 3, 2, 3, 3, 1, 3, 1, 2, 0, 3, 3, 3, 3, 3, 2, 1, 2, 3, 1, 0, 3, 1, 3, 2, 1, 1, 2, 1, 2, 2, 0, 0, 1, 2, 2, 3, 2, 2, 0, 3, 3, 3, 0, 3, 0, 2, 2, 0, 0, 2, 0, 1, 0, 3, 2, 3, 3, 1, 1, 2, 1, 3, 2, 1, 0, 0, 0, 3, 2, 2, 0, 0, 2, 1, 1, 3, 0, 1, 1, 1, 0, 2, 2, 1, 3, 0, 0, 1, 1, 2, 1, 3, 2, 2, 1, 2, 1, 1, 3, 3, 1, 2, 3, 0, 0, 0, 0, 0, 3, 2, 1, 1, 2, 1, 1, 1, 2, 1, 0, 0, 1, 2, 2, 1, 1, 1, 0, 1, 1, 2, 1, 1, 0, 1, 2, 2, 2, 1, 3, 0, 3, 1, 0, 0, 3, 1, 1, 3, 1, 1, 0, 3, 3, 2, 3, 2, 1, 1, 0, 3, 0, 1, 1, 0, 3, 2, 3, 0, 2, 2, 2, 1, 1, 3, 2, 2, 3, 0, 0, 1, 2, 0, 3, 1, 1, 1, 2, 2, 1, 0, 3, 3, 2, 1, 2, 0, 3, 1, 0, 1, 0, 0, 0, 3, 3, 1, 2, 2, 3, 0, 3, 0, 1, 2, 3, 0, 0, 2, 1, 2, 2, 2, 3, 2, 2, 0, 2, 1, 1, 2, 2, 2, 1, 1, 3, 2, 0, 3, 0, 0, 1, 2, 1, 1, 3, 1, 2, 1, 0, 0, 2, 3, 3, 1, 0, 1, 2, 1, 2, 1, 3, 2, 0, 3, 1, 1, 1, 3, 2, 2, 2, 3, 0, 1, 2, 1, 3, 3, 3, 3, 3, 3, 3, 1, 2, 3, 1, 1, 1, 2, 0, 3, 3, 3, 2, 3, 0, 1, 0, 2, 1, 1, 1, 1, 0, 2, 1, 3, 2, 0, 3, 1, 0, 2, 1, 0, 0, 0, 0, 2, 1, 0, 2, 1, 1, 3, 3, 2, 0, 0, 0, 0, 1, 2, 1, 1, 0, 3, 2, 2, 0, 0, 2, 0, 1, 1, 1, 2, 2, 2, 0, 0, 3, 1, 2, 3, 3, 1, 0, 2, 1, 3, 1, 2, 2, 2, 0, 3, 2, 3, 1, 1, 1, 2, 1, 3, 1, 3, 0, 2, 1, 1, 0, 0, 3, 0, 2, 1, 1, 2, 1, 2, 3, 2, 2, 3, 1, 1, 2, 1, 1, 0, 1, 3, 0, 0, 1, 2, 1, 2, 2, 2, 0, 0, 2, 2, 3, 3, 2, 0, 3, 3, 3, 0, 1, 1, 3, 1, 1, 1, 1, 3, 3, 2, 3, 2, 2, 3, 2, 1, 3, 1, 3, 3, 0, 0, 2, 0, 0, 3, 2, 2, 1, 1, 2, 2, 0, 2, 0, 1, 3, 1, 3, 2, 0, 2, 2, 0, 3, 2, 3, 3, 3, 1, 3, 2, 1, 0, 3, 2, 3, 1, 0, 0, 3, 2, 2, 0, 2, 0, 0, 3, 1, 0, 2, 0, 2, 1, 3, 1, 1, 0, 2, 3, 0, 3, 1, 3, 0, 3, 3, 3, 2, 0, 2, 0, 0, 3, 1, 2, 3, 0, 0, 3, 1, 2, 1, 3, 3, 1, 3, 1, 3, 1, 1, 1, 2, 3, 2, 2, 1, 1, 2, 3, 2, 0, 2, 1, 0, 0, 3, 3, 2, 1, 0, 3, 1, 1, 1, 3, 3, 1, 3, 3, 2, 2, 1, 1, 1, 0, 1, 3, 2, 2, 3, 2, 0, 0, 3, 2, 3, 2, 3, 3, 2, 1, 2, 2, 1, 0, 3, 1, 3, 1, 1, 1, 0, 3, 3, 2, 0, 2, 1, 2, 0, 3, 0, 0, 3, 0, 2, 1, 2, 2, 0, 1, 3, 3, 1, 0, 2, 3, 2, 0, 1, 1, 2, 0, 2, 1, 3, 1, 2, 0, 1, 0, 1, 3, 0, 0, 1, 0, 1, 1, 1, 3, 2, 3, 1, 2, 3, 2, 0, 0, 0, 1, 1, 3, 0, 2, 0, 3, 2, 2, 2, 1, 1, 1, 0, 0, 1, 1, 0, 3, 3, 3, 0, 0, 2, 2, 3, 3, 2, 2, 2, 0, 1, 3, 1, 1, 3, 3, 0, 3, 2, 3, 2, 3, 1, 1, 1, 2, 1, 1, 2, 2, 1, 1, 2, 0, 2, 2, 3, 1, 3, 1, 2, 1, 3, 1, 1, 2, 0, 1, 3, 0, 3, 0, 1, 1, 1, 1, 2, 3, 1, 1, 3, 3, 1, 0, 3, 0, 0, 1, 1, 1, 0, 1, 1, 2, 3, 1, 0, 1, 3, 1, 2, 0, 3, 2, 0, 2, 2, 0, 0, 1, 2, 1, 3, 1, 0, 1, 3, 3, 0, 3, 3, 0, 2, 0, 3, 0, 2, 1, 1, 1, 2, 2, 2, 3, 1, 1, 1, 0, 2, 2, 3, 1, 2, 0, 0, 0, 3, 1, 2, 2, 1, 3, 1, 1, 3, 1, 2, 2, 3, 2, 3, 3, 3, 2, 2, 1, 2, 1, 3, 1, 1, 2, 1, 2, 0, 1, 2, 1, 2, 2, 3, 3, 2, 1, 2, 3, 0, 2, 2, 3, 2, 1, 3, 3, 1, 1, 2, 2, 2, 1, 0, 0, 3, 1, 0, 2, 2, 3, 2, 3, 3, 1, 2, 1, 3, 2, 1, 1, 1, 3, 2, 3, 3, 1, 1, 0, 2, 0, 3, 2, 1, 0, 3, 0, 3, 3, 1, 3, 2, 1, 0, 1, 1, 0, 1, 2, 1, 3, 0, 0, 1, 1, 2, 3, 2, 2, 1, 0, 3, 0, 1, 3, 1, 3, 2, 3, 3, 2, 3, 0, 1, 2, 1, 1, 3, 3, 2, 0, 0, 3, 3, 2, 3, 0, 1, 0, 2, 0, 1, 1, 0, 1, 1, 2, 3, 2, 3, 1, 0, 3, 3, 3, 0, 0, 3, 2, 0, 0, 0, 2, 0, 2, 1, 0, 2, 3, 3, 3, 1, 0, 0, 2, 0, 1, 1, 3, 3, 1, 0, 1, 0, 3, 0, 2, 3, 0, 1, 0, 0, 3, 1, 2, 3, 2, 2, 3, 1, 0, 1, 0, 0, 2, 2, 1, 1, 2, 2, 2, 2, 0, 0, 1, 3, 1, 1, 1, 1, 2, 1, 0, 0, 2, 1, 1, 3, 0, 2, 2, 0, 0, 2, 1, 0, 1, 3, 1, 1, 1, 0, 2, 1, 1, 2, 3, 2, 1, 1, 0, 1, 3, 1, 1, 3, 1, 2, 0, 0, 2, 2, 1, 0, 2, 2, 1, 0, 2, 3, 0, 1, 2, 1, 3, 1, 1, 1, 1, 3, 1, 2, 2, 1, 0, 0, 1, 0, 2, 1, 2, 2, 2, 1, 0, 2, 3, 1, 1, 2, 1, 2, 3], [0, 2, 1, 1, 2, 3, 2, 1, 2, 2, 1, 1, 1, 2, 1, 3, 2, 1, 2, 1, 1, 1, 2, 1, 3, 2, 1, 1, 1, 1, 0, 2, 1, 0, 3, 1, 2, 1, 1, 0, 3, 3, 2, 3, 1, 3, 0, 1, 2, 3, 3, 1, 2, 2, 3, 1, 1, 3, 2, 1, 3, 0, 2, 1, 2, 2, 0, 1, 0, 2, 2, 0, 1, 2, 0, 0, 1, 0, 2, 1, 1, 0, 3, 0, 2, 1, 1, 1, 0, 2, 3, 2, 2, 0, 0, 1, 0, 1, 1, 3, 3, 0, 3, 2, 3, 0, 3, 2, 0, 2, 1, 2, 3, 3, 3, 0, 3, 1, 3, 1, 2, 1, 0, 3, 3, 2, 1, 2, 0, 1, 2, 1, 0, 3, 1, 2, 2, 2, 1, 0, 2, 3, 1, 2, 3, 3, 2, 0, 2, 1, 2, 0, 0, 3, 1, 0, 1, 1, 1, 0, 1, 0, 1, 1, 2, 3, 0, 2, 1, 0, 0, 3, 1, 2, 3, 0, 2, 2, 3, 2, 2, 1, 2, 3, 0, 2, 3, 1, 2, 0, 2, 3, 3, 0, 1, 3, 1, 0, 1, 1, 0, 0, 3, 3, 2, 3, 0, 1, 2, 3, 3, 0, 3, 3, 0, 2, 1, 1, 2, 0, 3, 2, 1, 0, 3, 2, 3, 3, 0, 2, 2, 1, 3, 1, 3, 3, 3, 3, 0, 1, 1, 0, 1, 1, 1, 2, 3, 3, 0, 3, 2, 1, 3, 3, 3, 3, 1, 2, 0, 2, 3, 2, 0, 2, 3, 2, 1, 2, 0, 2, 1, 1, 2, 2, 3, 1, 1, 3, 2, 1, 0, 3, 2, 3, 1, 1, 2, 2, 3, 2, 2, 0, 3, 0, 3, 3, 2, 1, 1, 3, 3, 2, 3, 0, 3, 0, 1, 0, 3, 2, 2, 0, 0, 2, 3, 0, 1, 0, 3, 3, 2, 2, 0, 0, 1, 1, 2, 3, 2, 0, 1, 2, 1, 1, 2, 1, 3, 0, 1, 1, 1, 3, 3, 3, 2, 3, 3, 2, 2, 1, 2, 1, 3, 0, 3, 3, 2, 0, 3, 3, 2, 0, 3, 1, 0, 1, 3, 2, 3, 0, 1, 1, 3, 0, 1, 1, 1, 1, 3, 1, 2, 2, 3, 2, 1, 1, 0, 1, 2, 1, 2, 0, 0, 1, 1, 1, 2, 3, 3, 1, 1, 3, 2, 2, 3, 3, 2, 1, 3, 1, 3, 0, 2, 0, 2, 3, 3, 0, 2, 2, 3, 1, 2, 3, 3, 0, 0, 2, 3, 1, 2, 2, 2, 0, 1, 3, 3, 1, 1, 3, 1, 0, 2, 3, 2, 0, 1, 1, 2, 3, 1, 1, 0, 3, 0, 0, 1, 1, 1, 0, 1, 2, 1, 1, 3, 1, 2, 2, 1, 0, 0, 0, 1, 3, 3, 1, 2, 2, 2, 2, 1, 2, 0, 3, 0, 3, 1, 0, 1, 3, 3, 2, 2, 0, 1, 0, 0, 1, 3, 3, 2, 3, 3, 0, 1, 1, 3, 2, 3, 1, 2, 1, 0, 1, 2, 0, 1, 3, 0, 1, 0, 0, 3, 2, 1, 1, 3, 3, 1, 1, 2, 2, 1, 1, 1, 3, 3, 2, 0, 3, 2, 1, 0, 1, 1, 0, 1, 0, 0, 0, 3, 3, 3, 2, 1, 1, 0, 3, 2, 3, 3, 1, 3, 0, 2, 0, 3, 3, 0, 3, 1, 2, 1, 1, 3, 1, 0, 1, 2, 0, 2, 1, 1, 2, 1, 3, 2, 0, 0, 1, 2, 2, 2, 2, 1, 0, 3, 3, 3, 3, 3, 0, 2, 2, 0, 0, 0, 3, 3, 0, 3, 2, 3, 3, 1, 2, 2, 1, 3, 2, 1, 0, 0, 0, 3, 2, 2, 0, 3, 2, 1, 1, 3, 0, 1, 1, 0, 3, 0, 2, 1, 3, 3, 0, 2, 1, 2, 1, 3, 1, 2, 1, 2, 1, 1, 3, 3, 1, 0, 3, 0, 0, 0, 0, 0, 3, 3, 1, 1, 2, 1, 0, 1, 2, 1, 1, 0, 1, 2, 2, 1, 0, 3, 0, 0, 1, 2, 1, 1, 0, 2, 3, 2, 2, 1, 3, 2, 3, 1, 0, 2, 3, 1, 1, 3, 1, 1, 0, 3, 3, 3, 2, 2, 1, 1, 0, 3, 0, 1, 1, 0, 3, 2, 3, 0, 2, 3, 2, 1, 0, 2, 2, 0, 3, 0, 0, 1, 0, 0, 3, 1, 1, 1, 2, 2, 1, 3, 3, 3, 2, 1, 2, 0, 3, 1, 0, 0, 0, 0, 0, 3, 3, 3, 2, 2, 3, 1, 3, 0, 1, 3, 3, 0, 0, 2, 0, 1, 2, 0, 3, 2, 2, 0, 2, 1, 1, 2, 2, 1, 1, 1, 3, 2, 0, 3, 0, 0, 2, 2, 1, 1, 3, 1, 2, 1, 2, 0, 2, 3, 3, 1, 0, 1, 2, 1, 2, 1, 3, 1, 3, 3, 2, 1, 1, 3, 2, 2, 2, 3, 0, 1, 2, 1, 3, 2, 3, 3, 0, 2, 3, 0, 2, 3, 3, 1, 3, 2, 0, 3, 3, 0, 0, 3, 0, 1, 0, 2, 1, 1, 1, 1, 0, 2, 1, 3, 2, 0, 2, 0, 0, 0, 1, 3, 0, 0, 1, 2, 1, 0, 2, 1, 3, 0, 3, 2, 0, 0, 0, 0, 1, 2, 1, 1, 2, 3, 2, 2, 0, 0, 2, 0, 1, 2, 1, 2, 2, 2, 0, 0, 3, 0, 2, 3, 3, 1, 0, 2, 1, 3, 1, 2, 2, 2, 0, 3, 2, 3, 1, 1, 1, 2, 0, 3, 1, 3, 0, 2, 1, 1, 3, 0, 3, 0, 1, 1, 1, 2, 1, 2, 3, 3, 2, 3, 1, 1, 2, 1, 1, 0, 1, 3, 0, 0, 1, 2, 1, 3, 2, 2, 0, 0, 2, 2, 3, 3, 2, 0, 3, 3, 3, 0, 3, 1, 3, 1, 2, 2, 3, 3, 0, 2, 3, 2, 2, 3, 2, 1, 3, 1, 3, 3, 1, 0, 3, 0, 2, 0, 2, 1, 1, 2, 2, 2, 0, 2, 2, 1, 3, 1, 3, 2, 0, 2, 3, 0, 3, 2, 3, 3, 3, 1, 0, 2, 1, 0, 3, 2, 3, 1, 3, 0, 1, 2, 2, 3, 2, 0, 0, 3, 1, 0, 2, 0, 2, 1, 3, 2, 1, 0, 2, 3, 0, 1, 1, 3, 1, 3, 2, 3, 0, 2, 2, 0, 0, 3, 1, 2, 1, 2, 0, 3, 1, 2, 0, 2, 3, 2, 3, 1, 3, 1, 0, 1, 2, 3, 1, 2, 1, 2, 3, 3, 2, 1, 3, 1, 0, 0, 3, 1, 2, 1, 0, 0, 1, 2, 0, 0, 3, 1, 3, 3, 2, 2, 3, 1, 1, 1, 1, 3, 2, 3, 3, 2, 0, 1, 1, 2, 3, 2, 3, 3, 2, 1, 2, 2, 1, 0, 3, 1, 3, 1, 1, 1, 0, 3, 3, 2, 0, 2, 0, 2, 0, 3, 1, 0, 3, 0, 1, 1, 2, 2, 0, 1, 3, 3, 1, 0, 2, 3, 2, 0, 1, 1, 2, 0, 3, 1, 3, 1, 2, 0, 1, 0, 1, 3, 2, 0, 3, 0, 1, 3, 1, 0, 2, 3, 0, 2, 3, 2, 0, 0, 0, 1, 3, 3, 0, 2, 0, 3, 3, 1, 2, 3, 1, 1, 0, 0, 1, 2, 0, 3, 3, 3, 0, 0, 2, 2, 2, 3, 0, 2, 2, 0, 1, 3, 1, 1, 3, 1, 0, 3, 2, 3, 2, 3, 1, 2, 1, 2, 1, 1, 2, 2, 3, 1, 2, 0, 2, 2, 3, 1, 3, 1, 2, 1, 3, 1, 1, 2, 0, 1, 3, 0, 0, 0, 1, 1, 1, 1, 2, 0, 1, 1, 3, 3, 3, 0, 3, 0, 0, 1, 1, 1, 1, 1, 1, 2, 3, 1, 0, 1, 3, 1, 2, 0, 3, 2, 1, 0, 2, 1, 0, 1, 2, 1, 3, 1, 0, 1, 3, 3, 2, 3, 3, 0, 1, 0, 3, 3, 1, 1, 1, 1, 2, 2, 2, 3, 0, 1, 1, 0, 2, 2, 3, 1, 1, 0, 0, 0, 3, 1, 2, 2, 1, 3, 1, 3, 3, 1, 2, 1, 3, 0, 3, 0, 3, 2, 2, 1, 2, 3, 3, 3, 1, 2, 1, 2, 0, 1, 2, 1, 2, 3, 3, 3, 2, 1, 2, 3, 3, 2, 2, 3, 2, 1, 3, 3, 1, 1, 2, 2, 2, 3, 0, 0, 3, 1, 0, 2, 0, 3, 2, 2, 3, 2, 2, 1, 3, 2, 3, 1, 1, 3, 3, 3, 3, 3, 0, 0, 2, 0, 2, 2, 1, 1, 3, 0, 3, 3, 1, 3, 2, 1, 0, 1, 1, 0, 1, 2, 1, 3, 0, 0, 1, 1, 2, 3, 2, 2, 1, 1, 3, 0, 3, 3, 1, 3, 2, 3, 3, 3, 3, 0, 2, 2, 1, 1, 3, 3, 2, 0, 0, 3, 3, 1, 3, 0, 1, 0, 2, 0, 3, 1, 0, 1, 1, 3, 3, 2, 1, 1, 0, 3, 3, 3, 0, 0, 3, 0, 0, 0, 0, 2, 2, 2, 0, 0, 2, 3, 3, 3, 1, 0, 0, 2, 0, 1, 1, 3, 3, 3, 0, 1, 0, 3, 0, 2, 1, 0, 1, 0, 3, 3, 1, 0, 0, 2, 0, 3, 1, 1, 1, 0, 0, 2, 2, 1, 2, 1, 2, 2, 2, 0, 0, 1, 2, 1, 1, 1, 1, 0, 2, 0, 3, 2, 1, 1, 2, 0, 2, 2, 0, 0, 2, 3, 0, 1, 0, 3, 1, 1, 0, 2, 1, 1, 2, 3, 2, 1, 1, 2, 1, 3, 1, 0, 3, 1, 1, 0, 0, 2, 1, 1, 0, 0, 2, 1, 0, 2, 3, 0, 1, 2, 1, 3, 1, 1, 1, 1, 3, 1, 0, 2, 1, 0, 0, 1, 3, 2, 1, 2, 3, 1, 1, 0, 2, 0, 1, 1, 2, 2, 2, 0], [2, 1, 3, 3, 2, 2, 2, 2, 2, 2, 1, 1, 1, 2, 0, 3, 2, 1, 2, 1, 1, 1, 2, 2, 2, 2, 1, 1, 1, 1, 3, 2, 1, 0, 3, 1, 2, 3, 2, 0, 3, 3, 2, 3, 1, 1, 0, 1, 2, 3, 2, 2, 2, 3, 3, 3, 3, 3, 2, 1, 3, 0, 2, 1, 2, 3, 3, 1, 0, 0, 2, 0, 1, 2, 0, 0, 2, 2, 2, 1, 2, 2, 0, 0, 2, 1, 1, 1, 0, 3, 3, 2, 2, 0, 0, 0, 0, 2, 1, 3, 3, 0, 3, 2, 3, 0, 2, 2, 0, 1, 1, 2, 2, 3, 3, 0, 3, 1, 0, 1, 2, 1, 3, 0, 3, 2, 3, 2, 0, 3, 2, 1, 0, 1, 3, 2, 2, 2, 1, 0, 2, 3, 1, 3, 3, 3, 2, 2, 2, 1, 3, 2, 0, 3, 1, 1, 1, 1, 0, 2, 1, 0, 2, 1, 2, 1, 2, 1, 1, 3, 0, 2, 1, 2, 2, 0, 2, 2, 0, 2, 0, 1, 2, 3, 0, 2, 3, 1, 1, 0, 2, 0, 3, 3, 2, 3, 1, 0, 0, 1, 0, 0, 2, 0, 0, 0, 0, 1, 1, 3, 3, 0, 0, 3, 2, 3, 1, 1, 2, 0, 3, 2, 3, 0, 3, 2, 1, 3, 0, 2, 2, 1, 3, 2, 3, 1, 2, 3, 1, 1, 1, 0, 1, 1, 1, 2, 3, 0, 0, 0, 2, 1, 3, 3, 3, 2, 0, 2, 0, 3, 3, 1, 0, 2, 0, 2, 1, 2, 0, 2, 1, 2, 2, 2, 3, 2, 1, 3, 1, 1, 0, 1, 2, 0, 1, 1, 3, 2, 1, 2, 2, 0, 3, 0, 3, 1, 0, 1, 1, 2, 2, 2, 3, 3, 3, 0, 2, 3, 1, 2, 2, 0, 2, 2, 3, 0, 1, 2, 3, 2, 2, 2, 0, 0, 1, 1, 0, 2, 0, 2, 1, 2, 1, 2, 2, 2, 3, 0, 1, 1, 2, 3, 3, 1, 2, 3, 3, 2, 2, 1, 2, 1, 3, 0, 3, 3, 3, 2, 0, 3, 2, 3, 3, 1, 0, 3, 3, 2, 3, 0, 1, 1, 0, 0, 2, 1, 1, 1, 0, 1, 3, 0, 3, 3, 2, 3, 0, 2, 1, 1, 2, 1, 0, 2, 1, 2, 2, 3, 3, 1, 1, 3, 1, 2, 1, 3, 2, 1, 3, 1, 3, 1, 2, 0, 2, 3, 3, 3, 2, 2, 3, 1, 0, 3, 3, 2, 0, 2, 3, 1, 2, 3, 3, 0, 1, 3, 3, 1, 2, 3, 0, 3, 2, 2, 1, 0, 1, 2, 2, 1, 1, 1, 2, 2, 0, 2, 1, 3, 2, 1, 1, 2, 1, 3, 3, 1, 2, 3, 1, 0, 0, 0, 3, 3, 3, 1, 2, 3, 2, 1, 3, 2, 0, 3, 0, 3, 1, 0, 1, 3, 2, 2, 2, 0, 1, 0, 0, 1, 0, 3, 2, 3, 3, 2, 1, 3, 3, 3, 3, 2, 2, 1, 3, 3, 3, 0, 1, 3, 0, 1, 0, 3, 3, 2, 1, 1, 2, 3, 1, 1, 1, 2, 1, 1, 1, 3, 2, 3, 0, 3, 2, 1, 3, 1, 1, 0, 0, 0, 0, 0, 3, 1, 0, 3, 1, 1, 0, 2, 2, 1, 0, 0, 3, 2, 2, 0, 3, 3, 0, 3, 2, 2, 1, 1, 0, 1, 0, 2, 2, 0, 2, 1, 1, 2, 3, 2, 2, 0, 0, 1, 0, 2, 0, 2, 0, 0, 3, 3, 2, 3, 3, 3, 2, 2, 0, 0, 0, 3, 1, 0, 3, 0, 3, 3, 2, 2, 1, 1, 3, 2, 0, 0, 0, 0, 2, 2, 1, 0, 3, 2, 1, 1, 3, 3, 1, 1, 2, 3, 0, 2, 1, 3, 1, 3, 2, 1, 2, 2, 0, 1, 0, 1, 2, 1, 0, 3, 3, 0, 0, 3, 3, 3, 0, 3, 0, 1, 3, 3, 1, 3, 1, 0, 0, 2, 0, 1, 0, 1, 1, 2, 0, 0, 3, 1, 1, 1, 3, 3, 1, 0, 3, 1, 2, 2, 1, 2, 2, 3, 1, 1, 2, 3, 0, 0, 3, 1, 0, 0, 3, 3, 3, 2, 2, 1, 1, 0, 3, 0, 2, 1, 0, 3, 2, 2, 0, 2, 3, 2, 0, 3, 3, 1, 0, 3, 0, 3, 3, 1, 2, 3, 1, 1, 3, 2, 2, 1, 3, 1, 3, 2, 3, 2, 0, 1, 3, 2, 3, 0, 0, 0, 0, 1, 1, 1, 2, 3, 1, 3, 0, 3, 3, 2, 0, 0, 2, 0, 1, 2, 0, 0, 2, 2, 0, 0, 1, 1, 2, 2, 1, 1, 1, 3, 1, 0, 3, 0, 0, 2, 3, 1, 0, 1, 1, 1, 3, 3, 1, 2, 2, 0, 1, 0, 1, 0, 0, 1, 1, 3, 1, 3, 3, 0, 1, 1, 0, 2, 2, 3, 1, 0, 1, 2, 1, 1, 2, 1, 3, 0, 0, 3, 0, 2, 3, 3, 3, 3, 2, 0, 3, 1, 0, 3, 3, 0, 0, 0, 2, 1, 1, 1, 1, 0, 3, 1, 2, 3, 0, 2, 0, 1, 0, 1, 3, 0, 0, 0, 2, 0, 0, 0, 1, 3, 0, 3, 2, 2, 0, 0, 0, 0, 2, 1, 2, 2, 3, 1, 2, 0, 1, 2, 0, 1, 3, 1, 2, 2, 3, 0, 0, 3, 0, 1, 3, 1, 1, 0, 2, 1, 3, 1, 2, 2, 2, 0, 3, 2, 3, 2, 1, 1, 2, 2, 3, 1, 3, 0, 1, 1, 1, 3, 3, 3, 0, 3, 0, 1, 3, 1, 2, 2, 1, 2, 3, 1, 0, 0, 0, 1, 0, 1, 3, 0, 0, 2, 1, 0, 1, 2, 2, 3, 3, 1, 2, 2, 3, 2, 0, 3, 1, 3, 0, 2, 1, 3, 1, 2, 2, 2, 1, 0, 2, 3, 2, 2, 3, 1, 1, 3, 1, 1, 3, 1, 3, 1, 0, 2, 0, 2, 1, 1, 1, 2, 2, 0, 1, 2, 1, 3, 0, 1, 2, 1, 0, 3, 0, 3, 2, 3, 3, 3, 1, 2, 2, 1, 0, 3, 3, 1, 1, 3, 0, 1, 2, 0, 1, 0, 3, 0, 3, 1, 3, 2, 0, 2, 2, 2, 2, 1, 0, 2, 3, 0, 0, 0, 3, 2, 1, 0, 1, 0, 2, 2, 3, 1, 0, 1, 3, 1, 2, 0, 3, 1, 2, 1, 2, 3, 2, 2, 1, 3, 1, 0, 1, 3, 3, 2, 2, 3, 2, 3, 3, 3, 1, 3, 1, 0, 0, 3, 1, 2, 3, 0, 0, 1, 2, 1, 0, 3, 1, 3, 3, 2, 0, 1, 1, 2, 2, 1, 0, 3, 2, 3, 2, 0, 1, 1, 2, 2, 2, 3, 3, 1, 1, 2, 2, 2, 2, 3, 1, 0, 1, 1, 1, 0, 3, 3, 2, 0, 2, 0, 2, 0, 3, 1, 0, 3, 0, 2, 1, 0, 1, 2, 3, 3, 1, 1, 0, 3, 3, 2, 0, 1, 1, 3, 1, 1, 2, 0, 1, 1, 0, 1, 3, 1, 3, 2, 2, 3, 2, 1, 3, 1, 0, 1, 3, 3, 2, 0, 2, 0, 1, 0, 1, 2, 3, 0, 2, 0, 3, 3, 1, 2, 3, 1, 2, 3, 3, 1, 2, 3, 0, 3, 3, 0, 0, 2, 2, 3, 3, 3, 2, 2, 0, 3, 3, 1, 1, 0, 0, 2, 3, 1, 3, 2, 1, 1, 2, 1, 2, 1, 2, 2, 2, 3, 1, 2, 0, 2, 1, 3, 2, 1, 3, 2, 1, 3, 3, 1, 2, 1, 1, 2, 0, 0, 0, 0, 1, 2, 1, 2, 0, 0, 3, 3, 3, 3, 0, 3, 0, 3, 0, 3, 2, 1, 1, 0, 2, 3, 2, 0, 1, 1, 1, 2, 0, 3, 3, 1, 0, 2, 1, 0, 0, 3, 2, 3, 1, 0, 1, 1, 2, 2, 2, 3, 0, 2, 0, 2, 3, 1, 1, 3, 3, 2, 0, 2, 3, 2, 2, 1, 0, 1, 0, 3, 1, 1, 0, 0, 0, 2, 1, 0, 2, 1, 3, 2, 3, 1, 1, 3, 1, 3, 0, 1, 1, 1, 2, 2, 1, 2, 3, 3, 3, 1, 2, 3, 2, 3, 0, 2, 2, 2, 3, 0, 2, 2, 1, 1, 3, 3, 2, 3, 0, 2, 0, 3, 3, 2, 1, 3, 2, 3, 3, 0, 2, 3, 1, 0, 0, 0, 1, 1, 2, 0, 2, 1, 1, 3, 2, 3, 2, 0, 0, 3, 1, 2, 2, 0, 1, 2, 0, 1, 2, 1, 1, 3, 3, 3, 3, 1, 3, 0, 2, 0, 2, 1, 0, 2, 1, 3, 3, 0, 0, 1, 2, 2, 2, 2, 2, 1, 1, 2, 0, 3, 3, 1, 0, 2, 3, 3, 3, 3, 3, 2, 0, 0, 2, 3, 3, 3, 0, 0, 3, 2, 1, 3, 0, 0, 0, 3, 0, 3, 3, 0, 1, 0, 3, 3, 2, 1, 1, 0, 3, 3, 3, 0, 0, 3, 0, 0, 0, 2, 2, 2, 2, 0, 2, 2, 3, 2, 3, 1, 0, 0, 3, 1, 1, 2, 1, 3, 0, 0, 1, 0, 3, 0, 2, 1, 0, 1, 1, 3, 1, 1, 0, 1, 3, 0, 3, 1, 1, 1, 3, 3, 3, 2, 1, 2, 1, 2, 2, 1, 1, 0, 3, 2, 1, 1, 0, 1, 3, 2, 2, 2, 2, 1, 3, 2, 0, 2, 2, 0, 2, 2, 3, 1, 2, 0, 2, 3, 1, 0, 1, 3, 1, 0, 3, 2, 0, 3, 2, 2, 0, 1, 0, 2, 1, 1, 1, 0, 2, 1, 1, 0, 0, 2, 0, 0, 3, 2, 3, 1, 2, 1, 3, 1, 0, 1, 1, 3, 1, 0, 2, 1, 0, 0, 3, 3, 2, 0, 2, 3, 1, 1, 0, 2, 0, 1, 3, 2, 2, 2, 0]])"
      ]
     },
     "execution_count": 120,
     "metadata": {},
     "output_type": "execute_result"
    }
   ],
   "source": [
    "llm_response.values()"
   ]
  },
  {
   "cell_type": "code",
   "execution_count": 29,
   "metadata": {},
   "outputs": [
    {
     "name": "stdout",
     "output_type": "stream",
     "text": [
      "|       | list1   | list2   | list3   |\n",
      "|:------|:--------|:--------|:--------|\n",
      "| list1 | nan     | 0.8     | 0.6     |\n",
      "| list2 | 0.8     | nan     | 0.4     |\n",
      "| list3 | 0.6     | 0.4     | nan     |\n"
     ]
    }
   ],
   "source": [
    "import pandas as pd\n",
    "from itertools import combinations\n",
    "\n",
    "def calculate_agreement_matrix(data_dict):\n",
    "    \"\"\"Calculates agreement between lists in a dictionary for matching indices.\n",
    "\n",
    "    Args:\n",
    "        data_dict: A dictionary where keys are labels and values are lists of equal length.\n",
    "\n",
    "    Returns:\n",
    "        A Pandas DataFrame representing the agreement matrix.\n",
    "    \"\"\"\n",
    "\n",
    "    df = pd.DataFrame(data_dict)\n",
    "    keys = df.columns\n",
    "\n",
    "    agreement_matrix = pd.DataFrame(index=keys, columns=keys)\n",
    "\n",
    "    for key1, key2 in combinations(keys, 2):  # Iterate over all key pairs\n",
    "        matches = (df[key1] == df[key2]).sum()  # Count matching values\n",
    "        total = len(df)  # Total number of values\n",
    "        agreement_matrix.loc[key1, key2] = agreement_matrix.loc[key2, key1] = matches / total\n",
    "\n",
    "    return agreement_matrix\n",
    "\n",
    "# Example Usage:\n",
    "data = {'list1': [1, 1, 0, 2, 1],\n",
    "        'list2': [1, 0, 0, 2, 1],\n",
    "        'list3': [1, 1, 1, 0, 1]}\n",
    "\n",
    "agreement_matrix = calculate_agreement_matrix(data)\n",
    "print(agreement_matrix.to_markdown(numalign=\"left\", stralign=\"left\"))\n"
   ]
  },
  {
   "cell_type": "code",
   "execution_count": 30,
   "metadata": {},
   "outputs": [
    {
     "data": {
      "text/html": [
       "<div>\n",
       "<style scoped>\n",
       "    .dataframe tbody tr th:only-of-type {\n",
       "        vertical-align: middle;\n",
       "    }\n",
       "\n",
       "    .dataframe tbody tr th {\n",
       "        vertical-align: top;\n",
       "    }\n",
       "\n",
       "    .dataframe thead th {\n",
       "        text-align: right;\n",
       "    }\n",
       "</style>\n",
       "<table border=\"1\" class=\"dataframe\">\n",
       "  <thead>\n",
       "    <tr style=\"text-align: right;\">\n",
       "      <th></th>\n",
       "      <th>gemini_-1.0-pro-001</th>\n",
       "      <th>gemini_-1.5-flash-001</th>\n",
       "      <th>gemini_-1.0-ultra-001</th>\n",
       "      <th>palm_temp_0.4</th>\n",
       "      <th>majority</th>\n",
       "      <th>glad</th>\n",
       "    </tr>\n",
       "  </thead>\n",
       "  <tbody>\n",
       "    <tr>\n",
       "      <th>gemini_-1.0-pro-001</th>\n",
       "      <td>NaN</td>\n",
       "      <td>0.812574</td>\n",
       "      <td>0.824437</td>\n",
       "      <td>0.756821</td>\n",
       "      <td>0.939502</td>\n",
       "      <td>0.911032</td>\n",
       "    </tr>\n",
       "    <tr>\n",
       "      <th>gemini_-1.5-flash-001</th>\n",
       "      <td>0.812574</td>\n",
       "      <td>NaN</td>\n",
       "      <td>0.811388</td>\n",
       "      <td>0.754448</td>\n",
       "      <td>0.868327</td>\n",
       "      <td>0.893238</td>\n",
       "    </tr>\n",
       "    <tr>\n",
       "      <th>gemini_-1.0-ultra-001</th>\n",
       "      <td>0.824437</td>\n",
       "      <td>0.811388</td>\n",
       "      <td>NaN</td>\n",
       "      <td>0.768683</td>\n",
       "      <td>0.882562</td>\n",
       "      <td>0.911032</td>\n",
       "    </tr>\n",
       "    <tr>\n",
       "      <th>palm_temp_0.4</th>\n",
       "      <td>0.756821</td>\n",
       "      <td>0.754448</td>\n",
       "      <td>0.768683</td>\n",
       "      <td>NaN</td>\n",
       "      <td>0.816133</td>\n",
       "      <td>0.791222</td>\n",
       "    </tr>\n",
       "    <tr>\n",
       "      <th>majority</th>\n",
       "      <td>0.939502</td>\n",
       "      <td>0.868327</td>\n",
       "      <td>0.882562</td>\n",
       "      <td>0.816133</td>\n",
       "      <td>NaN</td>\n",
       "      <td>0.97153</td>\n",
       "    </tr>\n",
       "    <tr>\n",
       "      <th>glad</th>\n",
       "      <td>0.911032</td>\n",
       "      <td>0.893238</td>\n",
       "      <td>0.911032</td>\n",
       "      <td>0.791222</td>\n",
       "      <td>0.97153</td>\n",
       "      <td>NaN</td>\n",
       "    </tr>\n",
       "  </tbody>\n",
       "</table>\n",
       "</div>"
      ],
      "text/plain": [
       "                      gemini_-1.0-pro-001 gemini_-1.5-flash-001  \\\n",
       "gemini_-1.0-pro-001                   NaN              0.812574   \n",
       "gemini_-1.5-flash-001            0.812574                   NaN   \n",
       "gemini_-1.0-ultra-001            0.824437              0.811388   \n",
       "palm_temp_0.4                    0.756821              0.754448   \n",
       "majority                         0.939502              0.868327   \n",
       "glad                             0.911032              0.893238   \n",
       "\n",
       "                      gemini_-1.0-ultra-001 palm_temp_0.4  majority      glad  \n",
       "gemini_-1.0-pro-001                0.824437      0.756821  0.939502  0.911032  \n",
       "gemini_-1.5-flash-001              0.811388      0.754448  0.868327  0.893238  \n",
       "gemini_-1.0-ultra-001                   NaN      0.768683  0.882562  0.911032  \n",
       "palm_temp_0.4                      0.768683           NaN  0.816133  0.791222  \n",
       "majority                           0.882562      0.816133       NaN   0.97153  \n",
       "glad                               0.911032      0.791222   0.97153       NaN  "
      ]
     },
     "execution_count": 30,
     "metadata": {},
     "output_type": "execute_result"
    }
   ],
   "source": [
    "dm = calculate_agreement_matrix(llm_response)\n",
    "dm"
   ]
  },
  {
   "cell_type": "code",
   "execution_count": null,
   "metadata": {},
   "outputs": [],
   "source": []
  },
  {
   "cell_type": "code",
   "execution_count": null,
   "metadata": {},
   "outputs": [],
   "source": []
  },
  {
   "cell_type": "code",
   "execution_count": null,
   "metadata": {},
   "outputs": [],
   "source": []
  }
 ],
 "metadata": {
  "kernelspec": {
   "display_name": ".venv",
   "language": "python",
   "name": "python3"
  },
  "language_info": {
   "codemirror_mode": {
    "name": "ipython",
    "version": 3
   },
   "file_extension": ".py",
   "mimetype": "text/x-python",
   "name": "python",
   "nbconvert_exporter": "python",
   "pygments_lexer": "ipython3",
   "version": "3.11.9"
  }
 },
 "nbformat": 4,
 "nbformat_minor": 2
}
