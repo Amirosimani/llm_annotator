{
 "cells": [
  {
   "cell_type": "markdown",
   "metadata": {},
   "source": [
    "# Test Gemini vs Ensemble for MMLU\n",
    "\n",
    "\n",
    "to do:\n",
    "\n",
    "-ignore claude, add gemma, palm"
   ]
  },
  {
   "cell_type": "code",
   "execution_count": 1,
   "metadata": {},
   "outputs": [],
   "source": [
    "import sys\n",
    "sys.path.append('/usr/local/google/home/amirimani/Desktop/projects/llm_annotator/')\n",
    "\n",
    "\n",
    "import ast\n",
    "import os\n",
    "import copy\n",
    "import json\n",
    "import random\n",
    "import pandas as pd\n",
    "from pprint import pprint\n",
    "from datetime import datetime\n",
    "from datasets import load_dataset\n",
    "\n",
    "from utils import Annotate, Evaluate\n",
    "from config import PALM_CONFIG, GEMINI_CONFIG, CLAUDE_CONFIG"
   ]
  },
  {
   "cell_type": "code",
   "execution_count": 2,
   "metadata": {},
   "outputs": [],
   "source": [
    "seed = 42\n",
    "now = datetime.now().strftime(\"%Y%m%d\")"
   ]
  },
  {
   "cell_type": "code",
   "execution_count": 3,
   "metadata": {},
   "outputs": [],
   "source": [
    "dataset = load_dataset(\"bigbio/bc5cdr\", trust_remote_code=True)\n",
    "\n",
    "# Access the different splits (train, validation, test)\n",
    "train_data = dataset[\"train\"]\n",
    "validation_data = dataset[\"validation\"]\n",
    "test_data = dataset[\"test\"]"
   ]
  },
  {
   "cell_type": "code",
   "execution_count": 4,
   "metadata": {},
   "outputs": [
    {
     "data": {
      "text/plain": [
       "{'abstract': 'In unanesthetized, spontaneously hypertensive rats the decrease in blood pressure and heart rate produced by intravenous clonidine, 5 to 20 micrograms/kg, was inhibited or reversed by nalozone, 0.2 to 2 mg/kg. The hypotensive effect of 100 mg/kg alpha-methyldopa was also partially reversed by naloxone. Naloxone alone did not affect either blood pressure or heart rate. In brain membranes from spontaneously hypertensive rats clonidine, 10(-8) to 10(-5) M, did not influence stereoselective binding of [3H]-naloxone (8 nM), and naloxone, 10(-8) to 10(-4) M, did not influence clonidine-suppressible binding of [3H]-dihydroergocryptine (1 nM). These findings indicate that in spontaneously hypertensive rats the effects of central alpha-adrenoceptor stimulation involve activation of opiate receptors. As naloxone and clonidine do not appear to interact with the same receptor site, the observed functional antagonism suggests the release of an endogenous opiate by clonidine or alpha-methyldopa and the possible role of the opiate in the central control of sympathetic tone.',\n",
       " 'entities': [{'id': '0',\n",
       "   'offsets': [[0, 8]],\n",
       "   'text': ['Naloxone'],\n",
       "   'type': 'Chemical',\n",
       "   'normalized': [{'db_name': 'MESH', 'db_id': 'D009270'}]},\n",
       "  {'id': '1',\n",
       "   'offsets': [[49, 58]],\n",
       "   'text': ['clonidine'],\n",
       "   'type': 'Chemical',\n",
       "   'normalized': [{'db_name': 'MESH', 'db_id': 'D003000'}]},\n",
       "  {'id': '2',\n",
       "   'offsets': [[93, 105]],\n",
       "   'text': ['hypertensive'],\n",
       "   'type': 'Disease',\n",
       "   'normalized': [{'db_name': 'MESH', 'db_id': 'D006973'}]},\n",
       "  {'id': '3',\n",
       "   'offsets': [[181, 190]],\n",
       "   'text': ['clonidine'],\n",
       "   'type': 'Chemical',\n",
       "   'normalized': [{'db_name': 'MESH', 'db_id': 'D003000'}]},\n",
       "  {'id': '4',\n",
       "   'offsets': [[244, 252]],\n",
       "   'text': ['nalozone'],\n",
       "   'type': 'Chemical',\n",
       "   'normalized': []},\n",
       "  {'id': '5',\n",
       "   'offsets': [[274, 285]],\n",
       "   'text': ['hypotensive'],\n",
       "   'type': 'Disease',\n",
       "   'normalized': [{'db_name': 'MESH', 'db_id': 'D007022'}]},\n",
       "  {'id': '6',\n",
       "   'offsets': [[306, 322]],\n",
       "   'text': ['alpha-methyldopa'],\n",
       "   'type': 'Chemical',\n",
       "   'normalized': [{'db_name': 'MESH', 'db_id': 'D008750'}]},\n",
       "  {'id': '7',\n",
       "   'offsets': [[354, 362]],\n",
       "   'text': ['naloxone'],\n",
       "   'type': 'Chemical',\n",
       "   'normalized': [{'db_name': 'MESH', 'db_id': 'D009270'}]},\n",
       "  {'id': '8',\n",
       "   'offsets': [[364, 372]],\n",
       "   'text': ['Naloxone'],\n",
       "   'type': 'Chemical',\n",
       "   'normalized': [{'db_name': 'MESH', 'db_id': 'D009270'}]},\n",
       "  {'id': '9',\n",
       "   'offsets': [[469, 481]],\n",
       "   'text': ['hypertensive'],\n",
       "   'type': 'Disease',\n",
       "   'normalized': [{'db_name': 'MESH', 'db_id': 'D006973'}]},\n",
       "  {'id': '10',\n",
       "   'offsets': [[487, 496]],\n",
       "   'text': ['clonidine'],\n",
       "   'type': 'Chemical',\n",
       "   'normalized': [{'db_name': 'MESH', 'db_id': 'D003000'}]},\n",
       "  {'id': '11',\n",
       "   'offsets': [[563, 576]],\n",
       "   'text': ['[3H]-naloxone'],\n",
       "   'type': 'Chemical',\n",
       "   'normalized': []},\n",
       "  {'id': '12',\n",
       "   'offsets': [[589, 597]],\n",
       "   'text': ['naloxone'],\n",
       "   'type': 'Chemical',\n",
       "   'normalized': [{'db_name': 'MESH', 'db_id': 'D009270'}]},\n",
       "  {'id': '13',\n",
       "   'offsets': [[637, 646]],\n",
       "   'text': ['clonidine'],\n",
       "   'type': 'Chemical',\n",
       "   'normalized': [{'db_name': 'MESH', 'db_id': 'D003000'}]},\n",
       "  {'id': '14',\n",
       "   'offsets': [[671, 695]],\n",
       "   'text': ['[3H]-dihydroergocryptine'],\n",
       "   'type': 'Chemical',\n",
       "   'normalized': []},\n",
       "  {'id': '15',\n",
       "   'offsets': [[750, 762]],\n",
       "   'text': ['hypertensive'],\n",
       "   'type': 'Disease',\n",
       "   'normalized': [{'db_name': 'MESH', 'db_id': 'D006973'}]},\n",
       "  {'id': '16',\n",
       "   'offsets': [[865, 873]],\n",
       "   'text': ['naloxone'],\n",
       "   'type': 'Chemical',\n",
       "   'normalized': [{'db_name': 'MESH', 'db_id': 'D009270'}]},\n",
       "  {'id': '17',\n",
       "   'offsets': [[878, 887]],\n",
       "   'text': ['clonidine'],\n",
       "   'type': 'Chemical',\n",
       "   'normalized': [{'db_name': 'MESH', 'db_id': 'D003000'}]},\n",
       "  {'id': '18',\n",
       "   'offsets': [[1026, 1035]],\n",
       "   'text': ['clonidine'],\n",
       "   'type': 'Chemical',\n",
       "   'normalized': [{'db_name': 'MESH', 'db_id': 'D003000'}]},\n",
       "  {'id': '19',\n",
       "   'offsets': [[1039, 1055]],\n",
       "   'text': ['alpha-methyldopa'],\n",
       "   'type': 'Chemical',\n",
       "   'normalized': [{'db_name': 'MESH', 'db_id': 'D008750'}]}]}"
      ]
     },
     "execution_count": 4,
     "metadata": {},
     "output_type": "execute_result"
    }
   ],
   "source": [
    "full_abstracts_and_entities = []\n",
    "\n",
    "for example in dataset['train']:\n",
    "    passages = example['passages']\n",
    "    abstract_text = \"\"\n",
    "    entities = []\n",
    "\n",
    "    # Extract the abstract text and entities\n",
    "    for passage in passages:\n",
    "        if passage['type'] == 'abstract':\n",
    "            abstract_text = passage['text']\n",
    "        entities.extend(passage['entities'])\n",
    "\n",
    "    full_abstracts_and_entities.append({\n",
    "        'abstract': abstract_text,\n",
    "        'entities': entities\n",
    "    })\n",
    "\n",
    "\n",
    "\n",
    "full_abstracts_and_entities[0]"
   ]
  },
  {
   "cell_type": "code",
   "execution_count": 5,
   "metadata": {},
   "outputs": [],
   "source": [
    "gemini_prompt_template = \"\"\"\n",
    "    You are an accurate and context-aware biomedical information extractor.\n",
    "\n",
    "    BACKGROUND:\n",
    "    The BC5CDR (BioCreative V Chemical Disease Relation) dataset is a collection of PubMed articles annotated with mentions of chemicals, diseases, and their relationships.\n",
    "\n",
    "    TASK:\n",
    "    You are given an abstract from the BC5CDR dataset. Extract all chemical and disease entities and format them as a JSON array of dictionaries. Each dictionary must have these keys:\n",
    "\n",
    "    * offsets: A list of lists. Each inner list has two integers: the start and end character positions of the entity in the text (the first character is at position 0).\n",
    "    * text: A list containing the string of the entity.\n",
    "    * type: A string, either \"Chemical\" or \"Disease\".\n",
    "\n",
    "    EXAMPLES:\n",
    "\n",
    "    Input: \"Doxorubicin is used to treat breast cancer in patients.\"\n",
    "    Output:\n",
    "    ```json\n",
    "    [\n",
    "      {{\n",
    "        \"offsets\": [[0, 11]],\n",
    "        \"text\": [\"Doxorubicin\"],\n",
    "        \"type\": \"Chemical\"\n",
    "      }},\n",
    "      {{\n",
    "        \"offsets\": [[28, 42]],\n",
    "        \"text\": [\"breast cancer\"],\n",
    "        \"type\": \"Disease\"\n",
    "      }},\n",
    "      {{\n",
    "        \"offsets\": [[28, 49]],\n",
    "        \"text\": [\"breast cancer patients\"],\n",
    "        \"type\": \"Disease\"\n",
    "      }}\n",
    "    ]\n",
    "    ```\n",
    "\n",
    "    Input: \"Alcohol consumption can lead to liver disease.\"\n",
    "    Output:\n",
    "    ```json\n",
    "    [\n",
    "      {{\n",
    "        \"offsets\": [[0, 7]],\n",
    "        \"text\": [\"Alcohol\"],\n",
    "        \"type\": \"Chemical\"\n",
    "      }},\n",
    "      {{\n",
    "        \"offsets\": [[31, 44]],\n",
    "        \"text\": [\"liver disease\"],\n",
    "        \"type\": \"Disease\"\n",
    "      }}\n",
    "    ]\n",
    "    ```\n",
    "\n",
    "    Input: \"The patient showed no evidence of pneumonia.\"\n",
    "    Output:\n",
    "    ```json\n",
    "    [\n",
    "      {{\n",
    "        \"offsets\": [[33, 42]],\n",
    "        \"text\": [\"pneumonia\"],\n",
    "        \"type\": \"Disease\"\n",
    "      }}\n",
    "    ]\n",
    "    ```\n",
    "\n",
    "    Input: \"This study investigates the efficacy of a new surgical procedure.\"\n",
    "    Output: []\n",
    "\n",
    "    NOTES:\n",
    "\n",
    "    * If a span of text can be annotated as both a chemical and a disease, create separate entries for each type.\n",
    "    * Do not normalize chemical names or expand abbreviations/acronyms.\n",
    "    * Include negated mentions as regular entities.\n",
    "\n",
    "-----\n",
    "    Abstract:\n",
    "    {abstract}\n",
    "\n",
    "\"\"\"\n"
   ]
  },
  {
   "cell_type": "code",
   "execution_count": 6,
   "metadata": {},
   "outputs": [
    {
     "name": "stdout",
     "output_type": "stream",
     "text": [
      "10\n"
     ]
    }
   ],
   "source": [
    "prompt = [gemini_prompt_template.format(abstract=x['abstract']) for x in full_abstracts_and_entities[:10]]\n",
    "print(len(prompt))"
   ]
  },
  {
   "cell_type": "code",
   "execution_count": 7,
   "metadata": {},
   "outputs": [],
   "source": [
    "ann = Annotate()"
   ]
  },
  {
   "cell_type": "code",
   "execution_count": 8,
   "metadata": {},
   "outputs": [
    {
     "data": {
      "text/plain": [
       "{'config_name': 'default',\n",
       " 'model': 'gemini-1.5-pro',\n",
       " 'project_config': {'qpm': 100,\n",
       "  'project': 'amir-genai-bb',\n",
       "  'location': 'us-central1'},\n",
       " 'generation_config': {'max_output_tokens': 2048,\n",
       "  'temperature': 0.4,\n",
       "  'top_p': 1,\n",
       "  'response_mime_type': 'application/json'}}"
      ]
     },
     "execution_count": 8,
     "metadata": {},
     "output_type": "execute_result"
    }
   ],
   "source": [
    "GEMINI_CONFIG[\"project_config\"][\"qpm\"] = 100\n",
    "GEMINI_CONFIG['generation_config']['response_mime_type'] = \"application/json\"\n",
    "\n",
    "GEMINI_CONFIG\n"
   ]
  },
  {
   "cell_type": "code",
   "execution_count": 9,
   "metadata": {},
   "outputs": [
    {
     "name": "stderr",
     "output_type": "stream",
     "text": [
      "Creating tasks: 100%|██████████| 10/10 [00:00<00:00, 18808.54it/s]\n",
      "Gathering gemini_default results: 100%|██████████| 10/10 [01:23<00:00,  8.40s/it]\n"
     ]
    }
   ],
   "source": [
    "output_dict = await ann.classification(prompt, ['gemini'], {'gemini': [GEMINI_CONFIG]})\n",
    "\n",
    "predicted_entities = [ast.literal_eval(x) for x in output_dict['gemini_default']]"
   ]
  },
  {
   "cell_type": "code",
   "execution_count": 10,
   "metadata": {},
   "outputs": [],
   "source": [
    "def extract_entity_details(data):\n",
    "    extracted_entities = []\n",
    "\n",
    "    for entry in data:\n",
    "        entities = entry.get('entities', [])\n",
    "        row_entities = []\n",
    "\n",
    "        for entity in entities:\n",
    "            entity_details = {\n",
    "                'offsets': entity.get('offsets', []),\n",
    "                'text': entity.get('text', []),\n",
    "                'type': entity.get('type', '')\n",
    "            }\n",
    "            row_entities.append(entity_details)\n",
    "\n",
    "        extracted_entities.append(row_entities)\n",
    "    return extracted_entities"
   ]
  },
  {
   "cell_type": "code",
   "execution_count": 11,
   "metadata": {},
   "outputs": [],
   "source": [
    "true_entities = extract_entity_details(full_abstracts_and_entities[:10])"
   ]
  },
  {
   "cell_type": "code",
   "execution_count": 12,
   "metadata": {},
   "outputs": [],
   "source": [
    "assert len(predicted_entities) == len(true_entities)"
   ]
  },
  {
   "cell_type": "code",
   "execution_count": 13,
   "metadata": {},
   "outputs": [],
   "source": [
    "evl = Evaluate()"
   ]
  },
  {
   "cell_type": "code",
   "execution_count": 14,
   "metadata": {},
   "outputs": [
    {
     "data": {
      "text/plain": [
       "{'Precision CI': array([0.35     , 0.5737013]),\n",
       " 'Recall CI': array([0.46341463, 0.64102564]),\n",
       " 'F1 Score CI': array([0.41162971, 0.57123823]),\n",
       " 'Exact Match Ratio CI': array([0.46341463, 0.64102564])}"
      ]
     },
     "execution_count": 14,
     "metadata": {},
     "output_type": "execute_result"
    }
   ],
   "source": [
    "evl.bootstrap_evaluation(predicted_entities, true_entities)"
   ]
  }
 ],
 "metadata": {
  "kernelspec": {
   "display_name": ".venv",
   "language": "python",
   "name": "python3"
  },
  "language_info": {
   "codemirror_mode": {
    "name": "ipython",
    "version": 3
   },
   "file_extension": ".py",
   "mimetype": "text/x-python",
   "name": "python",
   "nbconvert_exporter": "python",
   "pygments_lexer": "ipython3",
   "version": "3.11.9"
  }
 },
 "nbformat": 4,
 "nbformat_minor": 2
}
